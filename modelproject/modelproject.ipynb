{
 "cells": [
  {
   "cell_type": "markdown",
   "metadata": {},
   "source": [
    "# Model Project 2021: Solow model with economical damage from climate change"
   ]
  },
  {
   "cell_type": "markdown",
   "metadata": {},
   "source": [
    "The aim of the project is to solve the basic Solow model and then extend the model to account for economical damage from climate change. "
   ]
  },
  {
   "cell_type": "markdown",
   "metadata": {},
   "source": [
    "**The project is organized as follows:**\n",
    "\n",
    "1. Model project description\n",
    "2. Model description\n",
    "3. Classic Solow model\n",
    "4. Extended Solow model (with economic damage from climate change)\n",
    "5. Conclusion"
   ]
  },
  {
   "cell_type": "markdown",
   "metadata": {},
   "source": [
    "**Group:** SSTL\n",
    "\n",
    "**Members:** Louise Otte Arildsen (srb330), Signe Kolind (hmk792), Stine Fürst (qvj635) & Thomas Nielsen (qzw392)\n",
    "\n",
    "**Imports and set magics:**"
   ]
  },
  {
   "cell_type": "code",
   "execution_count": 1,
   "metadata": {},
   "outputs": [],
   "source": [
    "import numpy as np\n",
    "import matplotlib.pyplot as plt\n",
    "from scipy import optimize\n",
    "import sympy as sm\n",
    "import ipywidgets as widgets"
   ]
  },
  {
   "cell_type": "markdown",
   "metadata": {},
   "source": [
    "# Model description"
   ]
  },
  {
   "cell_type": "markdown",
   "metadata": {},
   "source": [
    "$$\n",
    "\\begin{align}\n",
    "Y_{t}&=[1-D] K_{t}^{\\alpha}\\left(A_{t} L_{t}\\right)^{1-\\alpha}, 0<\\alpha<1 \\\\\n",
    "D&=1-\\frac{1}{1+\\sigma(\\Delta T)^{2}}, \\sigma>0 \\\\\n",
    "K_{t+1}&=s Y_{t}+(1-\\delta) K_{t}, 0<s<1,0<\\delta<1, K_{0}>0  \\\\\n",
    "A_{t+1}&=(1+g) A_{t}, A_{0}>0  \\\\\n",
    "L_{t+1}&=(1+n) L_{t}, L_{0}>0\n",
    "\\end{align}\n",
    "$$"
   ]
  },
  {
   "cell_type": "markdown",
   "metadata": {},
   "source": [
    "$$\n",
    "\\tilde{y}_{t} \\equiv \\frac{Y_{t}}{A_{t} L_{t}}=\\frac{y_{t}}{A_{t}} ; \\quad \\tilde{k}_{t} \\equiv \\frac{K_{t}}{A_{t} L_{t}}=\\frac{k_{t}}{A_{t}}\n",
    "$$"
   ]
  },
  {
   "cell_type": "markdown",
   "metadata": {},
   "source": [
    "Equation (1) is a Cobb-Douglas production function, which describes production ($Y_t$) as a function of capital ($K_t$), population size ($L_t$), and the level of technology ($A_t$). The model assumes that climate changes reduce production with a share D, meaning that a share of the production ($DY_t$) is damaged and can not be used. The share (1-D) of the production can be used for consumption and investment. Equation 2 describes the damage caused by climate change, where \\DeltaT measures the temperature change. Equation (3) describes the development of capital, where s is the saving rate and delta is the depreciation rate. Equation (4) and (5) describes how the level of technology ($A_t$) and the population size develops over time."
   ]
  },
  {
   "cell_type": "markdown",
   "metadata": {},
   "source": [
    "# Classic Solow model (D=0)"
   ]
  },
  {
   "cell_type": "markdown",
   "metadata": {},
   "source": [
    "When assuming $D=0$ the model reduces to the classic Solow model, which we will solve in this section."
   ]
  },
  {
   "cell_type": "markdown",
   "metadata": {},
   "source": [
    "## Analytical solution"
   ]
  },
  {
   "cell_type": "markdown",
   "metadata": {},
   "source": [
    "The transition equation of the model for capital per effective worker is given by: "
   ]
  },
  {
   "cell_type": "markdown",
   "metadata": {},
   "source": [
    "$$\n",
    "\\tilde{k}_{t+1}=\\frac{1}{(1+n)(1+g)}\\left(s \\tilde{k}_{t}^{\\alpha}+(1-\\delta) \\tilde{k}_{t}\\right)\n",
    "$$"
   ]
  },
  {
   "cell_type": "markdown",
   "metadata": {},
   "source": [
    "Note that convergence requires that $n+g+\\delta+ng >0$.\n",
    "\n",
    "The intuition behind the convergence result is decreasing marginal product on capital and constant depletion/attrition. In steady-state this implies that the savings are just as large as they cover for depreciation and thinning of resources."
   ]
  },
  {
   "cell_type": "markdown",
   "metadata": {},
   "source": [
    "First we define all the **symbols** using sympy:"
   ]
  },
  {
   "cell_type": "code",
   "execution_count": 2,
   "metadata": {},
   "outputs": [],
   "source": [
    "y = sm.symbols('y')\n",
    "k = sm.symbols('k')\n",
    "K = sm.symbols('K')\n",
    "alpha = sm.symbols('alpha')\n",
    "sigma = sm.symbols('sigma')\n",
    "deltaT = sm.symbols('delta T')\n",
    "s = sm.symbols('s')\n",
    "delta = sm.symbols('delta')\n",
    "g = sm.symbols('g')\n",
    "n = sm.symbols('n')"
   ]
  },
  {
   "cell_type": "markdown",
   "metadata": {},
   "source": [
    "Then we define the **steady state equation**"
   ]
  },
  {
   "cell_type": "code",
   "execution_count": 3,
   "metadata": {},
   "outputs": [],
   "source": [
    "ss = sm.Eq(k,(s*k**alpha+(1-delta)*k)/((1+n)*(1+g)))"
   ]
  },
  {
   "cell_type": "markdown",
   "metadata": {},
   "source": [
    "and **solve** it"
   ]
  },
  {
   "cell_type": "code",
   "execution_count": 4,
   "metadata": {},
   "outputs": [
    {
     "data": {
      "text/latex": [
       "$\\displaystyle \\left(\\frac{\\delta + g n + g + n}{s}\\right)^{\\frac{1}{\\alpha - 1}}$"
      ],
      "text/plain": [
       "((delta + g*n + g + n)/s)**(1/(alpha - 1))"
      ]
     },
     "execution_count": 4,
     "metadata": {},
     "output_type": "execute_result"
    }
   ],
   "source": [
    "kss = sm.solve(ss,k)[0]\n",
    "kss"
   ]
  },
  {
   "cell_type": "markdown",
   "metadata": {},
   "source": [
    "For later use, we turn the solution into a **Python funciton**"
   ]
  },
  {
   "cell_type": "code",
   "execution_count": 5,
   "metadata": {},
   "outputs": [],
   "source": [
    "#transforming the function to a python function\n",
    "ss_func = sm.lambdify((s,g,n,alpha,delta),kss)"
   ]
  },
  {
   "cell_type": "code",
   "execution_count": 6,
   "metadata": {},
   "outputs": [],
   "source": [
    "#Defining parameters\n",
    "s = 0.3\n",
    "g = 0.02\n",
    "n = 0.01\n",
    "alpha = 1/3\n",
    "delta = 0.05"
   ]
  },
  {
   "cell_type": "code",
   "execution_count": 7,
   "metadata": {},
   "outputs": [
    {
     "name": "stdout",
     "output_type": "stream",
     "text": [
      "analytical solution is: 7.235\n"
     ]
    }
   ],
   "source": [
    "print(f'analytical solution is: {ss_func(s,g,n,alpha,delta):.3f}')"
   ]
  },
  {
   "cell_type": "markdown",
   "metadata": {},
   "source": [
    "In steady state the capital per effective worker equals 7.235."
   ]
  },
  {
   "cell_type": "markdown",
   "metadata": {},
   "source": [
    "## Numerical solution"
   ]
  },
  {
   "cell_type": "markdown",
   "metadata": {},
   "source": [
    "We can re-write the equation for the steady state capital per capita as\n",
    "\n",
    "$$\n",
    "\\tilde{k}_{t+1}-\\frac{1}{(1+n)(1+g)}\\left(s \\tilde{k}_{t}^{\\alpha}+(1-\\delta) \\tilde{k}_{t}\\right)=0\n",
    "$$\n",
    "\n",
    "whereby it clearly becomes a **root-finding problem**. Such a problem can be solved by various methods. \n",
    "\n",
    "In the section below, the problem will be solved from the **brent-** and **bisection method** in order to compare the robustness of our results.\n"
   ]
  },
  {
   "cell_type": "markdown",
   "metadata": {},
   "source": [
    "### Bisection Method"
   ]
  },
  {
   "cell_type": "code",
   "execution_count": 8,
   "metadata": {},
   "outputs": [
    {
     "name": "stdout",
     "output_type": "stream",
     "text": [
      " The numerical solution, calculated from the bisect method is: 7.234696712204852\n"
     ]
    }
   ],
   "source": [
    "def solve_for_ss(s,g,n,alpha,delta):\n",
    "    \"\"\" solve for the steady state level of capital\n",
    "\n",
    "    Args:\n",
    "        s (float): saving rate\n",
    "        g (float): technological growth rate\n",
    "        n (float): population growth rate\n",
    "        alpha (float): cobb-douglas parameter\n",
    "        delta (float): capital depreciation rate \n",
    "\n",
    "    Returns:\n",
    "        result (RootResults): the solution represented as a RootResults object\n",
    "\n",
    "    \"\"\" \n",
    "    \n",
    "    # a. define objective function\n",
    "    obj_kss = lambda kss: kss - (s*kss**alpha + (1-delta)*kss)/((1+g)*(1+n))\n",
    "\n",
    "    #. b. call root finder\n",
    "    result = optimize.root_scalar(obj_kss,bracket=[0.1,100],method='bisect')\n",
    "    \n",
    "    return result\n",
    "\n",
    "\n",
    "#Solve numerically for the steady state:\n",
    "bisect_solution = solve_for_ss(s,g,n,alpha,delta)\n",
    "print(f' The numerical solution, calculated from the bisect method is: {bisect_solution.root:}')"
   ]
  },
  {
   "cell_type": "markdown",
   "metadata": {},
   "source": [
    "### Brent Method"
   ]
  },
  {
   "cell_type": "code",
   "execution_count": 9,
   "metadata": {},
   "outputs": [
    {
     "name": "stdout",
     "output_type": "stream",
     "text": [
      "The numerical solution, calculated from the brent method, is: 7.234696712205987\n"
     ]
    }
   ],
   "source": [
    "def solve_for_brent(s,g,n,alpha,delta):\n",
    "    \"\"\" solve for the steady state level of capital\n",
    "\n",
    "    Args:\n",
    "        s (float): saving rate\n",
    "        g (float): technological growth rate\n",
    "        n (float): population growth rate\n",
    "        alpha (float): cobb-douglas parameter\n",
    "        delta (float): capital depreciation rate \n",
    "\n",
    "    Returns:\n",
    "        result (RootResults): the solution represented as a RootResults object\n",
    "\n",
    "    \"\"\" \n",
    "    \n",
    "    # a. define objective function\n",
    "    obj_kss = lambda kss: kss - (s*kss**alpha + (1-delta)*kss)/((1+g)*(1+n))\n",
    "\n",
    "    #. b. call root finder\n",
    "    result = optimize.root_scalar(obj_kss,bracket=[0.1,100],method='brentq')\n",
    "    \n",
    "    return result\n",
    "\n",
    "#Solve numerically for the steady state:\n",
    "brent_solution = solve_for_brent(s,g,n,alpha,delta)\n",
    "print(f'The numerical solution, calculated from the brent method, is: {brent_solution.root:}')"
   ]
  },
  {
   "cell_type": "markdown",
   "metadata": {},
   "source": [
    "\n",
    "\n",
    "When comparing our numerical and analytical results, it is clear that our results are quite robust, only differing by few decimals:"
   ]
  },
  {
   "cell_type": "code",
   "execution_count": 10,
   "metadata": {},
   "outputs": [
    {
     "name": "stdout",
     "output_type": "stream",
     "text": [
      "Analytical solution : 7.234696712206231\n",
      "Bisect solution     : 7.234696712204852\n",
      "Brent solution      : 7.234696712205987\n"
     ]
    }
   ],
   "source": [
    "print(f'Analytical solution : {ss_func(s,g,n,alpha,delta):}')\n",
    "print(f'Bisect solution     : {bisect_solution.root:}')\n",
    "print(f'Brent solution      : {brent_solution.root:}')\n"
   ]
  },
  {
   "cell_type": "markdown",
   "metadata": {},
   "source": [
    "Because our results seem robust, we choose to rely on a single optimization method, when climate change is introduced from section 4 in the extended model. "
   ]
  },
  {
   "cell_type": "markdown",
   "metadata": {},
   "source": [
    "## GDP per effective worker:"
   ]
  },
  {
   "cell_type": "markdown",
   "metadata": {},
   "source": [
    "From equation 1 we divide both sides with $A_{t}L_{t}$ and obtain the following expression for GDP per effective worker:\n",
    "\n",
    "$$\n",
    "\\begin{equation*}\n",
    "\\tilde{y}_{t}=\\tilde{k}_{t}^\\alpha\n",
    "\\end{equation*}\n",
    "$$"
   ]
  },
  {
   "cell_type": "markdown",
   "metadata": {},
   "source": [
    "We insert the expression for $\\tilde{k}^*=\\left(\\frac{\\delta + gn + g+n}{s}\\right)^{\\frac{1}{\\alpha - 1}}$ found in section 3.1 in $\\tilde{k}_{t}$'s  place. \n",
    "We then get this expression for GDP per effective worker: \n",
    "\n",
    "$$\n",
    "\\tilde{y}^{*}=\\left(\\frac{s}{n+g+\\delta+n g}\\right)^{\\frac{\\alpha}{1-\\alpha}}\n",
    "$$"
   ]
  },
  {
   "cell_type": "markdown",
   "metadata": {},
   "source": [
    "We calculate $\\tilde{y}^{*}$ given our parameter values:"
   ]
  },
  {
   "cell_type": "code",
   "execution_count": 11,
   "metadata": {},
   "outputs": [
    {
     "name": "stdout",
     "output_type": "stream",
     "text": [
      "The GDP per effective worker is: 1.934\n"
     ]
    }
   ],
   "source": [
    "gdp_pr_worker=(s/(n+g+delta+n*g))**(alpha/(1-alpha))\n",
    "print(f'The GDP per effective worker is: {gdp_pr_worker:.3f}')"
   ]
  },
  {
   "cell_type": "markdown",
   "metadata": {},
   "source": [
    "# The Solow model with economical damage from climate change (D>0)"
   ]
  },
  {
   "cell_type": "markdown",
   "metadata": {},
   "source": [
    "In this section we consider an extension of the classic Solow model, which includes economical damage from climate change. D represents the reduction in production due to climate change and we now assume that D>0.  "
   ]
  },
  {
   "cell_type": "markdown",
   "metadata": {},
   "source": [
    "## Analytical solution"
   ]
  },
  {
   "cell_type": "markdown",
   "metadata": {},
   "source": [
    "The transition equation of the model for capital per effective worker is given by: \n",
    "\n",
    "$$\n",
    "\\tilde{k}_{t+1}=\\frac{1}{(1+n)(1+g)}\\left(s[1-D] \\tilde{k}_{t}^{\\alpha}+(1-\\delta) \\tilde{k}_{t}\\right)\n",
    "$$"
   ]
  },
  {
   "cell_type": "markdown",
   "metadata": {},
   "source": [
    "Then we define the **steady state equation**"
   ]
  },
  {
   "cell_type": "code",
   "execution_count": 12,
   "metadata": {},
   "outputs": [],
   "source": [
    "# introducing climate effects\n",
    "y = sm.symbols('y')\n",
    "k = sm.symbols('k')\n",
    "K = sm.symbols('K')\n",
    "alpha = sm.symbols('alpha')\n",
    "sigma = sm.symbols('sigma')\n",
    "deltaT = sm.symbols('delta T')\n",
    "s = sm.symbols('s')\n",
    "delta = sm.symbols('delta')\n",
    "g = sm.symbols('g')\n",
    "n = sm.symbols('n')\n",
    "D = sm.symbols('D')\n",
    "\n",
    "# climate steady state\n",
    "css = sm.Eq(k,(((s*(1-D)*(k**alpha))+((1-delta)*k)))/((1+n)*(1+g)))"
   ]
  },
  {
   "cell_type": "markdown",
   "metadata": {},
   "source": [
    "and **solve** it:"
   ]
  },
  {
   "cell_type": "code",
   "execution_count": 13,
   "metadata": {},
   "outputs": [
    {
     "data": {
      "text/latex": [
       "$\\displaystyle \\left(\\frac{- \\delta - g n - g - n}{s \\left(D - 1\\right)}\\right)^{\\frac{1}{\\alpha - 1}}$"
      ],
      "text/plain": [
       "((-delta - g*n - g - n)/(s*(D - 1)))**(1/(alpha - 1))"
      ]
     },
     "execution_count": 13,
     "metadata": {},
     "output_type": "execute_result"
    }
   ],
   "source": [
    "kcss = sm.solve(css,k)[0]\n",
    "kcss"
   ]
  },
  {
   "cell_type": "code",
   "execution_count": 14,
   "metadata": {},
   "outputs": [],
   "source": [
    "#transforming the function to a python function\n",
    "css_func = sm.lambdify((s,g,n,alpha,delta,D),kcss)"
   ]
  },
  {
   "cell_type": "code",
   "execution_count": 15,
   "metadata": {},
   "outputs": [
    {
     "name": "stdout",
     "output_type": "stream",
     "text": [
      "analytical solution is: 5.421\n"
     ]
    }
   ],
   "source": [
    "#Defining parameters\n",
    "s = 0.3\n",
    "g = 0.02\n",
    "n = 0.01\n",
    "alpha = 1/3\n",
    "delta = 0.05\n",
    "D=0.175\n",
    "print(f'analytical solution is: {css_func(s,g,n,alpha,delta,D):.3f}')"
   ]
  },
  {
   "cell_type": "markdown",
   "metadata": {},
   "source": [
    "In steady state the capital per effective worker equals 5.421."
   ]
  },
  {
   "cell_type": "markdown",
   "metadata": {},
   "source": [
    "## Numerical solution"
   ]
  },
  {
   "cell_type": "code",
   "execution_count": 16,
   "metadata": {},
   "outputs": [],
   "source": [
    "def solve_for_css(s,g,n,alpha,delta,D):\n",
    "    \"\"\" solve for the steady state level of capital\n",
    "\n",
    "    Args:\n",
    "        s (float): saving rate\n",
    "        g (float): technological growth rate\n",
    "        n (float): population growth rate\n",
    "        alpha (float): cobb-douglas parameter\n",
    "        delta (float): capital depreciation rate \n",
    "\n",
    "    Returns:\n",
    "        result (RootResults): the solution represented as a RootResults object\n",
    "\n",
    "    \"\"\" \n",
    "    \n",
    "    # a. define objective function\n",
    "    obj_kcss = lambda kcss: kcss - (s*(1-D)*kcss**alpha + (1-delta)*kcss)/((1+g)*(1+n))\n",
    "\n",
    "    #. b. call root finder\n",
    "    result = optimize.root_scalar(obj_kcss,bracket=[0.1,100],method='bisect')\n",
    "    \n",
    "    return result\n",
    "\n"
   ]
  },
  {
   "cell_type": "code",
   "execution_count": 17,
   "metadata": {},
   "outputs": [
    {
     "name": "stdout",
     "output_type": "stream",
     "text": [
      "analytical solution is: 5.421\n",
      " numerical solution is: 5.421\n"
     ]
    }
   ],
   "source": [
    "solution_2 = solve_for_css(s,g,n,alpha,delta,D)\n",
    "\n",
    "print(f'analytical solution is: {css_func(s,g,n,alpha,delta,D):.3f}')\n",
    "print(f' numerical solution is: {solution_2.root:.3f}')"
   ]
  },
  {
   "cell_type": "markdown",
   "metadata": {},
   "source": [
    "## GDP per effective worker with climate change (D = 0.175)"
   ]
  },
  {
   "cell_type": "markdown",
   "metadata": {},
   "source": [
    "There are different scenarios for the future temperature changes. A scenario with \"little CO2 emission\" will imply that the global average temperature increases by approx. 1 degree over the next 100 years. The worst case scenario, with \"a lot of CO2 emissions\", will imply that the global temperature rise at about 4 degrees over the next 100 years. A meta-study by Nordhaus og Moffat (2017) shows that the most pessimistic estimates in the literature suggests that temperature rises of 4 degress are associated with approx. 17.5% loss of production i.e. D = 0.175."
   ]
  },
  {
   "cell_type": "markdown",
   "metadata": {},
   "source": [
    "We want to compare the GDP per effective worker in the classic Solow model (D=0) with the GDP per effective in the extended Solow model when the worst possible climate scenario unfolds (D=0.175). We start by calculating the GDP per effecitive worker with D=0.175:"
   ]
  },
  {
   "cell_type": "markdown",
   "metadata": {},
   "source": [
    "From equation 1 we divide both sides with $A_{t}L_{t}$ and obtain the following expression for GDP per effective worker:\n",
    "\n",
    "$$\n",
    "\\begin{equation*}\n",
    "\\tilde{y}_{t}=(1-D)\\tilde{k}_{t}^\\alpha\n",
    "\\end{equation*}\n",
    "$$"
   ]
  },
  {
   "cell_type": "markdown",
   "metadata": {},
   "source": [
    "We insert the expression for $\\tilde{k}^*=\\left(\\frac{\\delta + gn + g+n}{s(1-D)}\\right)^{\\frac{1}{\\alpha - 1}}$ found in section 4.1 in $\\tilde{k}_{t}$'s  place. \n",
    "We then get this expression for GDP per effective worker: \n",
    "\n",
    "$$\n",
    "\\tilde{y}^{*}=(1-D)^{\\frac{1}{1-\\alpha}} \\left(\\frac{s}{n+g+\\delta+n g}\\right)^{\\frac{\\alpha}{1-\\alpha}}\n",
    "$$"
   ]
  },
  {
   "cell_type": "markdown",
   "metadata": {},
   "source": [
    "We calculate $\\tilde{y}^{*}$ given our parameter values:"
   ]
  },
  {
   "cell_type": "code",
   "execution_count": 18,
   "metadata": {},
   "outputs": [
    {
     "name": "stdout",
     "output_type": "stream",
     "text": [
      "The GDP per effective worker when accounting for climate change is: 1.449\n"
     ]
    }
   ],
   "source": [
    "D=0.175\n",
    "gdp_pr_worker_climate=(1-D)**(1/(1-alpha))*(s/(n+g+delta+n*g))**(alpha/(1-alpha))\n",
    "print(f'The GDP per effective worker when accounting for climate change is: {gdp_pr_worker_climate:.3f}')"
   ]
  },
  {
   "cell_type": "markdown",
   "metadata": {},
   "source": [
    "### Compare GDP per effective worker with the model without climate change"
   ]
  },
  {
   "cell_type": "code",
   "execution_count": 19,
   "metadata": {},
   "outputs": [
    {
     "name": "stdout",
     "output_type": "stream",
     "text": [
      "The reduction in GDP per effective worker when accounting for climate change: 0.251\n"
     ]
    }
   ],
   "source": [
    "comparison= 1-gdp_pr_worker_climate/gdp_pr_worker\n",
    "print(f'The reduction in GDP per effective worker when accounting for climate change: {comparison:.3f}')"
   ]
  },
  {
   "cell_type": "markdown",
   "metadata": {},
   "source": [
    "This imply that GDP per efficient worker decreases by approx. 25 pct. This effect is greater than the initial decline of 17.5 pct. The reason for this difference is due to negative effects via capital accumulation."
   ]
  },
  {
   "cell_type": "code",
   "execution_count": 20,
   "metadata": {},
   "outputs": [],
   "source": [
    "def Solaris(D,alpha,s,n,g,delta):\n",
    "    return 1-((1-D)**(1/(1-alpha))*(s/(n+g+delta+n*g))**(alpha/(1-alpha)))/(s/(n+g+delta+n*g))**(alpha/(1-alpha))"
   ]
  },
  {
   "cell_type": "markdown",
   "metadata": {},
   "source": [
    "We create an interactive widget where climate changes reduces the production with a share D and thus also reduces the GDP per effective worker:"
   ]
  },
  {
   "cell_type": "code",
   "execution_count": 21,
   "metadata": {},
   "outputs": [
    {
     "data": {
      "application/vnd.jupyter.widget-view+json": {
       "model_id": "0e197c424a0641818a86b16cb487259d",
       "version_major": 2,
       "version_minor": 0
      },
      "text/plain": [
       "interactive(children=(FloatSlider(value=0.17, description='$D$', max=1.0, step=0.005), Output()), _dom_classes…"
      ]
     },
     "metadata": {},
     "output_type": "display_data"
    }
   ],
   "source": [
    "widgets.interact(Solaris, \n",
    "                 alpha= widgets.fixed(1/3),\n",
    "                 s=widgets.fixed(0.3),\n",
    "                 g=widgets.fixed(0.02),\n",
    "                 n=widgets.fixed(0.01),\n",
    "                 delta=widgets.fixed(0.05),\n",
    "                 D= widgets.FloatSlider(description ='$D$',        \n",
    "                                        min = 0.0 , max = 1 , step = 0.005, value = 0.17));"
   ]
  },
  {
   "cell_type": "markdown",
   "metadata": {},
   "source": [
    "We see that for any given level of D the reduction in GDP per capita is greater than the reduction in production due to the negative affect froms capital accumulation."
   ]
  },
  {
   "cell_type": "markdown",
   "metadata": {},
   "source": [
    "## Visulization"
   ]
  },
  {
   "cell_type": "markdown",
   "metadata": {},
   "source": [
    "The Solow model attemps to explain how long-run economic growth is determined from capital accumulation, population(labor) growth and increase in productivity. The key takeway, is that the economy will grow towards a steady state, as long as per capita investments sf(k) is larger than what is needed to maintain the current level of capital. In order to maintain the population at the given level of k, both labor and capital must be “employed” and replaced by new units, as of regards to depreciation and population growth k(n+d+g) and in our case *climate change, D*. As shown in the transition equation, D, will essentially decrease the ammount of savings in the economy, which implies that the economy will converge towards a lower steady state, since less capital can be accumulated. \n",
    "\n",
    "The process is illustrated in the below visualization of the Solow model. \n",
    "Note that the default setting of widget paratemeter \"D\" is value=0. \n",
    "\n",
    "In order to view the effects of climate changes and compare with our prior steady state result, please change the value of D to value = 0.175):"
   ]
  },
  {
   "cell_type": "code",
   "execution_count": 23,
   "metadata": {},
   "outputs": [],
   "source": [
    "def simulate_basic(k,alpha,delta,s,n,g,K,T,D):\n",
    "    \"\"\"\n",
    "    Args:\n",
    "    k      (int)  : initial value for physical capital per worker\n",
    "    alpha  (float): return on physical capital\n",
    "    delta  (float): depreciation rate on capital\n",
    "    s      (float): savings/investments\n",
    "    n      (float): increase in labour\n",
    "    g             : growth\n",
    "    K      (int)  : totalfactorproductivity\n",
    "    T      (int)  : periods to simulate through\n",
    "    D             : climate change\n",
    "    \n",
    "    Returns:\n",
    "    A plot showing how capital per worker accumulates over time\"\"\""
   ]
  },
  {
   "cell_type": "code",
   "execution_count": 24,
   "metadata": {},
   "outputs": [
    {
     "data": {
      "application/vnd.jupyter.widget-view+json": {
       "model_id": "eb148e7755de40a2b6afd915c67cf2c2",
       "version_major": 2,
       "version_minor": 0
      },
      "text/plain": [
       "interactive(children=(FloatSlider(value=0.3333333333333333, description='$α$', max=0.9, step=0.05), FloatSlide…"
      ]
     },
     "metadata": {},
     "output_type": "display_data"
    },
    {
     "data": {
      "text/plain": [
       "<function __main__.simulate_basic(k, alpha, delta, s, n, g, K, T, D)>"
      ]
     },
     "execution_count": 24,
     "metadata": {},
     "output_type": "execute_result"
    }
   ],
   "source": [
    "widgets.interact(simulate_basic, \n",
    "                k     = widgets.fixed(0), \n",
    "                alpha = widgets.FloatSlider(description = '$\\u03B1$' , min = 0 ,    max = 0.9 , step = 0.05 , value = 1/3),\n",
    "                delta = widgets.FloatSlider(description = '$\\u03B4$' , min = 0 ,    max = 0.5 , step = 0.01 , value = 0.05),\n",
    "                s     = widgets.FloatSlider(description = 's' ,        min = 0.01 , max = 0.3 , step = 0.005 , value = 0.3),\n",
    "                n     = widgets.FloatSlider(description ='$n$',        min = 0.01 , max = 0.1 , step = 0.005, value = 0.01),\n",
    "                g     = widgets.FloatSlider(description ='$g$',        min = 0.01 , max = 0.1 , step = 0.005, value = 0.02),\n",
    "                D     = widgets.FloatSlider(description ='$D$',        min = 0.0 , max = 1 , step = 0.005, value = 0),\n",
    "                K     = widgets.fixed(1),\n",
    "                T     = widgets.IntSlider(description='$T$' ,          min = 1,     max = 1000, step = 10,    value = 10))"
   ]
  },
  {
   "cell_type": "markdown",
   "metadata": {},
   "source": [
    "## Simulation of the classic and extended Solow model "
   ]
  },
  {
   "cell_type": "markdown",
   "metadata": {},
   "source": [
    "We want to simulate the classic and the extended Solow model, to show how the two models converges to their steady state, $\\tilde{k}^*$.\n",
    "\n",
    "We choose the initial capital and create a function that simulates the Solow model for $T=100$ periods."
   ]
  },
  {
   "cell_type": "code",
   "execution_count": 25,
   "metadata": {},
   "outputs": [],
   "source": [
    "k0 =1\n",
    "T = 100\n",
    "\n",
    "def solow_equation(k,alpha,delta,s,n,g, D):\n",
    "    \"\"\" calculate capital in the next-period\n",
    "        \n",
    "    Args:\n",
    "    \n",
    "        k (float): capital in this period\n",
    "        alpha (float): cobb-douglas parameter\n",
    "        delta (float): depreciation rate\n",
    "        s (float): saving rate\n",
    "        n : population growth\n",
    "        g : technology growth\n",
    "    \n",
    "    Returns:\n",
    "    \n",
    "        k_plus (float): capital in next period\n",
    "        \n",
    "    \"\"\"\n",
    "    \n",
    "    saving = s*k**alpha\n",
    "    depreciation = delta*k\n",
    "    k_plus = (k + saving*(1-D) - depreciation)/((1+n)*(1+g))    \n",
    "    \n",
    "    return k_plus\n",
    "\n",
    "\n",
    "def simulate_solow_model(k0,alpha,delta,s,n,g,T,D):\n",
    "    \"\"\" simulate the solow model\n",
    "        \n",
    "    Args:\n",
    "    \n",
    "        k0 (float): initial level of kapital\n",
    "        alpha (float): cobb-douglas parameter\n",
    "        delta (float): depreciation rate\n",
    "        s (float): saving rate\n",
    "        T (int): number of periods to simulate\n",
    "    \n",
    "    Returns:\n",
    "    \n",
    "        k_path (list): capital path (length T)\n",
    "        \n",
    "    \"\"\"\n",
    "    \n",
    "    # a. initialize\n",
    "    k_path = [k0]  \n",
    "    \n",
    "    # b. simulate forward\n",
    "    for t in range(1,T):\n",
    "        \n",
    "        # i. apply solow equation\n",
    "        k_plus = solow_equation(k_path[t-1],alpha,delta,s,n,g,D)    \n",
    "        \n",
    "        # ii. save result\n",
    "        k_path.append(k_plus)\n",
    "        \n",
    "    return k_path"
   ]
  },
  {
   "cell_type": "markdown",
   "metadata": {},
   "source": [
    "This function represents the steady state value:"
   ]
  },
  {
   "cell_type": "code",
   "execution_count": 26,
   "metadata": {},
   "outputs": [],
   "source": [
    "def find_ssk_k(delta,g,n,alpha,s,D):\n",
    "    return ((delta+g*n+g+n)/(s*(1-D)))**(1/(alpha-1))"
   ]
  },
  {
   "cell_type": "markdown",
   "metadata": {},
   "source": [
    "**The classic Solow model (D=0)**\n",
    "\n",
    "We create the Solow path and the steady state value:"
   ]
  },
  {
   "cell_type": "code",
   "execution_count": 27,
   "metadata": {},
   "outputs": [],
   "source": [
    "k_path = simulate_solow_model(k0,alpha,delta,s,n,g,T,D=0)\n",
    "k_star = find_ssk_k(delta,g,n,alpha,s,D=0)\n",
    "k_stars =[k_star for i in range(T)]"
   ]
  },
  {
   "cell_type": "code",
   "execution_count": 28,
   "metadata": {},
   "outputs": [
    {
     "data": {
      "image/png": "[encoded data removed]",
      "text/plain": [
       "<Figure size 432x288 with 1 Axes>"
      ]
     },
     "metadata": {
      "needs_background": "light"
     },
     "output_type": "display_data"
    }
   ],
   "source": [
    "fig = plt.figure()\n",
    "ax = fig.add_subplot(1,1,1)\n",
    "\n",
    "ax.plot(k_path[:T], lw=2, label='Solow path')\n",
    "ax.plot(k_stars,lw=2, label=\"Steady state\")\n",
    "ax.set_title('Simulated convergence of capital to steady state')\n",
    "ax.set_xlabel('t')\n",
    "ax.set_ylabel('Capital per capita')\n",
    "ax.set_xlim([0,100])\n",
    "ax.set_ylim([0,10])\n",
    "ax.legend(loc=\"lower right\")\n",
    "ax.grid(True);"
   ]
  },
  {
   "cell_type": "markdown",
   "metadata": {},
   "source": [
    "**The extended Solow model (D=0.175)**\n",
    "\n",
    "We create the Solow path and the steady state value:"
   ]
  },
  {
   "cell_type": "code",
   "execution_count": 29,
   "metadata": {},
   "outputs": [],
   "source": [
    "k_path_ext = simulate_solow_model(k0,alpha,delta,s,n,g,T,D=0.175)\n",
    "k_star_ext = find_ssk_k(delta,g,n,alpha,s,D=0.175)\n",
    "k_stars_ext =[k_star_ext for i in range(T)]"
   ]
  },
  {
   "cell_type": "code",
   "execution_count": 30,
   "metadata": {},
   "outputs": [
    {
     "data": {
      "image/png": "[encoded data removed]",
      "text/plain": [
       "<Figure size 432x288 with 1 Axes>"
      ]
     },
     "metadata": {
      "needs_background": "light"
     },
     "output_type": "display_data"
    }
   ],
   "source": [
    "fig = plt.figure()\n",
    "ax = fig.add_subplot(1,1,1)\n",
    "\n",
    "ax.plot(k_path_ext[:T], lw=2, label='Solow path')\n",
    "ax.plot(k_stars_ext,lw=2, label=\"Steady state\")\n",
    "ax.set_title('Simulated convergence of capital to steady state')\n",
    "ax.set_xlabel('t')\n",
    "ax.set_ylabel('Capital per capita')\n",
    "ax.set_xlim([0,100])\n",
    "ax.set_ylim([0,10])\n",
    "ax.legend(loc=\"lower right\")\n",
    "ax.grid(True);"
   ]
  },
  {
   "cell_type": "markdown",
   "metadata": {},
   "source": [
    "We find that the convergence is little bit faster in the extended Solow model with economic damage from climate change. "
   ]
  },
  {
   "cell_type": "markdown",
   "metadata": {},
   "source": [
    "# Conclusion"
   ]
  },
  {
   "cell_type": "markdown",
   "metadata": {},
   "source": [
    "We have solved the basic Solow model and an extended Solow model, which account for economic damage from climate change. We have analytically solved the model using Pythons Sympy and numerically using two different methods.\n",
    "\n",
    "For the classical Solow model, we find that in steady-state, the capital per effective worker equals 7.235. The result was constant despite the different approaches. Furthermore, we find that The GDP per effective worker is 1.934.\n",
    "\n",
    "For the extended model, we conclude that the capital per effective worker equals 5.421 in the analytical and numerical solution, and the GDP per effective worker is 1.449.\n",
    "\n",
    "Comparing the two models, we find that for any given level of D the reduction in GDP per capita is greater than the reduction in production due to the negative effect from capital accumulation."
   ]
  }
 ],
 "metadata": {
  "kernelspec": {
   "display_name": "Python 3",
   "language": "python",
   "name": "python3"
  },
  "language_info": {
   "codemirror_mode": {
    "name": "ipython",
    "version": 3
   },
   "file_extension": ".py",
   "mimetype": "text/x-python",
   "name": "python",
   "nbconvert_exporter": "python",
   "pygments_lexer": "ipython3",
   "version": "3.8.5"
  },
  "toc-autonumbering": true
 },
 "nbformat": 4,
 "nbformat_minor": 4
}
