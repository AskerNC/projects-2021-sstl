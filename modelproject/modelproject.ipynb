{
 "cells": [
  {
   "cell_type": "markdown",
   "metadata": {},
   "source": [
    "# Model Project 2021: Solow model with economical damage from climate change"
   ]
  },
  {
   "cell_type": "markdown",
   "metadata": {},
   "source": [
    "The aim of the project is to solve the basic Solow model and then extend the model to account for economical damage from climate change. "
   ]
  },
  {
   "cell_type": "markdown",
   "metadata": {},
   "source": [
    "**The project is organized as follows:**\n",
    "\n",
    "1. Model project description\n",
    "2. Model description\n",
    "3. Basic Solow model\n",
    "4. Extended Solow model\n",
    "5. Conclusion"
   ]
  },
  {
   "cell_type": "markdown",
   "metadata": {},
   "source": [
    "**Group:** SSTL\n",
    "\n",
    "**Members:** Louise Otte Arildsen (srb330), Signe Kolind (hmk792), Stine Fürst (qvj635) & Thomas Nielsen (qzw392)\n",
    "\n",
    "**Imports and set magics:**"
   ]
  },
  {
   "cell_type": "code",
   "execution_count": 220,
   "metadata": {},
   "outputs": [],
   "source": [
    "import modelproject\n",
    "import numpy as np\n",
    "import matplotlib.pyplot as plt\n",
    "from scipy import optimize\n",
    "import sympy as sm\n",
    "import ipywidgets as widgets"
   ]
  },
  {
   "cell_type": "markdown",
   "metadata": {},
   "source": [
    "# Model description"
   ]
  },
  {
   "cell_type": "markdown",
   "metadata": {},
   "source": [
    "$$\n",
    "\\begin{align}\n",
    "Y_{t}&=[1-D] K_{t}^{\\alpha}\\left(A_{t} L_{t}\\right)^{1-\\alpha}, 0<\\alpha<1 \\\\\n",
    "D&=1-\\frac{1}{1+\\sigma(\\Delta T)^{2}}, \\sigma>0 \\\\\n",
    "K_{t+1}&=s Y_{t}+(1-\\delta) K_{t}, 0<s<1,0<\\delta<1, K_{0}>0  \\\\\n",
    "A_{t+1}&=(1+g) A_{t}, A_{0}>0  \\\\\n",
    "L_{t+1}&=(1+n) L_{t}, L_{0}>0\n",
    "\\end{align}\n",
    "$$\n",
    "\n",
    "$$\n",
    "\\tilde{y}_{t} \\equiv \\frac{Y_{t}}{A_{t} L_{t}}=\\frac{y_{t}}{A_{t}} ; \\quad \\tilde{k}_{t} \\equiv \\frac{K_{t}}{A_{t} L_{t}}=\\frac{k_{t}}{A_{t}}\n",
    "$$"
   ]
  },
  {
   "cell_type": "markdown",
   "metadata": {},
   "source": [
    "!!!Description of the equations and the model!!!\n"
   ]
  },
  {
   "cell_type": "markdown",
   "metadata": {},
   "source": [
    "# Basic Solow model"
   ]
  },
  {
   "cell_type": "markdown",
   "metadata": {},
   "source": [
    "## Analytical solution"
   ]
  },
  {
   "cell_type": "markdown",
   "metadata": {},
   "source": [
    "Solution:\n",
    "\n",
    "$$\n",
    "\\tilde{k}_{t+1}=\\frac{1}{(1+n)(1+g)}\\left(s \\tilde{k}_{t}^{\\alpha}+(1-\\delta) \\tilde{k}_{t}\\right)\n",
    "$$"
   ]
  },
  {
   "cell_type": "markdown",
   "metadata": {},
   "source": [
    "First we define all the **symbols** using sympy:"
   ]
  },
  {
   "cell_type": "code",
   "execution_count": 221,
   "metadata": {},
   "outputs": [],
   "source": [
    "y = sm.symbols('y')\n",
    "k = sm.symbols('k')\n",
    "K = sm.symbols('K')\n",
    "alpha = sm.symbols('alpha')\n",
    "sigma = sm.symbols('sigma')\n",
    "deltaT = sm.symbols('delta T')\n",
    "s = sm.symbols('s')\n",
    "delta = sm.symbols('delta')\n",
    "g = sm.symbols('g')\n",
    "n = sm.symbols('n')"
   ]
  },
  {
   "cell_type": "markdown",
   "metadata": {},
   "source": [
    "Then we define the **steady state equation**"
   ]
  },
  {
   "cell_type": "code",
   "execution_count": 222,
   "metadata": {},
   "outputs": [],
   "source": [
    "ss = sm.Eq(k,(s*k**alpha+(1-delta)*k)/((1+n)*(1+g)))"
   ]
  },
  {
   "cell_type": "markdown",
   "metadata": {},
   "source": [
    "and **solve** it"
   ]
  },
  {
   "cell_type": "code",
   "execution_count": 223,
   "metadata": {},
   "outputs": [
    {
     "data": {
      "text/latex": [
       "$\\displaystyle \\left(\\frac{\\delta + g n + g + n}{s}\\right)^{\\frac{1}{\\alpha - 1}}$"
      ],
      "text/plain": [
       "((delta + g*n + g + n)/s)**(1/(alpha - 1))"
      ]
     },
     "execution_count": 223,
     "metadata": {},
     "output_type": "execute_result"
    }
   ],
   "source": [
    "kss = sm.solve(ss,k)[0]\n",
    "kss"
   ]
  },
  {
   "cell_type": "markdown",
   "metadata": {},
   "source": [
    "For later use, we turn the solution into a **Python funciton**"
   ]
  },
  {
   "cell_type": "code",
   "execution_count": 224,
   "metadata": {},
   "outputs": [],
   "source": [
    "#transforming the function to a python function\n",
    "ss_func = sm.lambdify((s,g,n,alpha,delta),kss)"
   ]
  },
  {
   "cell_type": "code",
   "execution_count": 225,
   "metadata": {},
   "outputs": [],
   "source": [
    "#Defining parameters\n",
    "s = 0.3\n",
    "g = 0.02\n",
    "n = 0.01\n",
    "alpha = 1/3\n",
    "delta = 0.05"
   ]
  },
  {
   "cell_type": "code",
   "execution_count": 226,
   "metadata": {},
   "outputs": [
    {
     "name": "stdout",
     "output_type": "stream",
     "text": [
      "analytical solution is: 7.235\n"
     ]
    }
   ],
   "source": [
    "print(f'analytical solution is: {ss_func(s,g,n,alpha,delta):.3f}')"
   ]
  },
  {
   "cell_type": "markdown",
   "metadata": {},
   "source": [
    "Capital per effective worker equals 7.235"
   ]
  },
  {
   "cell_type": "markdown",
   "metadata": {},
   "source": [
    "## Numerical solution"
   ]
  },
  {
   "cell_type": "markdown",
   "metadata": {},
   "source": [
    "We can re-write the equation for the steady state capital per capita as\n",
    "\n",
    "$$\n",
    "\\tilde{k}_{t+1}-\\frac{1}{(1+n)(1+g)}\\left(s \\tilde{k}_{t}^{\\alpha}+(1-\\delta) \\tilde{k}_{t}\\right)=0\n",
    "$$\n",
    "\n",
    "whereby it clearly becomes a **root-finding problem**. Such a problem can be solved by a **bisection method**."
   ]
  },
  {
   "cell_type": "code",
   "execution_count": 227,
   "metadata": {},
   "outputs": [],
   "source": [
    "def solve_for_ss(s,g,n,alpha,delta):\n",
    "    \"\"\" solve for the steady state level of capital\n",
    "\n",
    "    Args:\n",
    "        s (float): saving rate\n",
    "        g (float): technological growth rate\n",
    "        n (float): population growth rate\n",
    "        alpha (float): cobb-douglas parameter\n",
    "        delta (float): capital depreciation rate \n",
    "\n",
    "    Returns:\n",
    "        result (RootResults): the solution represented as a RootResults object\n",
    "\n",
    "    \"\"\" \n",
    "    \n",
    "    # a. define objective function\n",
    "    obj_kss = lambda kss: kss - (s*kss**alpha + (1-delta)*kss)/((1+g)*(1+n))\n",
    "\n",
    "    #. b. call root finder\n",
    "    result = optimize.root_scalar(obj_kss,bracket=[0.1,100],method='bisect')\n",
    "    \n",
    "    return result\n"
   ]
  },
  {
   "cell_type": "markdown",
   "metadata": {},
   "source": [
    "**Solve numerically** for the steady state:"
   ]
  },
  {
   "cell_type": "code",
   "execution_count": 228,
   "metadata": {},
   "outputs": [
    {
     "name": "stdout",
     "output_type": "stream",
     "text": [
      "analytical solution is: 7.235\n",
      " numerical solution is: 7.235\n"
     ]
    }
   ],
   "source": [
    "solution = solve_for_ss(s,g,n,alpha,delta)\n",
    "\n",
    "print(f'analytical solution is: {ss_func(s,g,n,alpha,delta):.3f}')\n",
    "print(f' numerical solution is: {solution.root:.3f}')"
   ]
  },
  {
   "cell_type": "markdown",
   "metadata": {},
   "source": [
    "## BNP pr. effektiv arbejder uden klimaforandringer (D = 0)"
   ]
  },
  {
   "cell_type": "markdown",
   "metadata": {},
   "source": [
    "Solution:\n",
    "\n",
    "$$\n",
    "\\tilde{y}^{*^{\\prime}}=\\left(\\frac{s}{n+g+\\delta+n g}\\right)^{\\frac{\\alpha}{1-\\alpha}}\n",
    "$$"
   ]
  },
  {
   "cell_type": "markdown",
   "metadata": {},
   "source": [
    "## solve with sumpy\n",
    "Using equation (1) (6) and the solution\n"
   ]
  },
  {
   "cell_type": "markdown",
   "metadata": {},
   "source": [
    "## Visualization"
   ]
  },
  {
   "cell_type": "markdown",
   "metadata": {},
   "source": [
    "Transistionsdiagram"
   ]
  },
  {
   "cell_type": "markdown",
   "metadata": {},
   "source": [
    "## Simulation of the classic Solow model"
   ]
  },
  {
   "cell_type": "markdown",
   "metadata": {},
   "source": [
    "We want to simulate the classic Solow model, to show how the models converges to the steady state, $\\tilde{k}^*$\n",
    "\n",
    "This function simulates the classic Solow model for $T=100$ periods."
   ]
  },
  {
   "cell_type": "code",
   "execution_count": 250,
   "metadata": {},
   "outputs": [],
   "source": [
    "k_path = modelproject.simulate_solow_model(k0,alpha,delta,s,n,g,T,D)"
   ]
  },
  {
   "cell_type": "markdown",
   "metadata": {},
   "source": [
    "This function represents the steady state value:"
   ]
  },
  {
   "cell_type": "code",
   "execution_count": 251,
   "metadata": {},
   "outputs": [],
   "source": [
    "k_star = modelproject.find_ssk_k(delta,g,n,alpha,s,D)\n",
    "k_stars =[k_star for i in range(T)]"
   ]
  },
  {
   "cell_type": "markdown",
   "metadata": {},
   "source": [
    "We choose the parameters:"
   ]
  },
  {
   "cell_type": "code",
   "execution_count": 252,
   "metadata": {},
   "outputs": [],
   "source": [
    "k0 =0.1\n",
    "alpha = 1/3\n",
    "delta = 0.05\n",
    "s = 0.3\n",
    "g = 0.02\n",
    "n = 0.01\n",
    "T = 200\n",
    "D = 0"
   ]
  },
  {
   "cell_type": "code",
   "execution_count": 254,
   "metadata": {},
   "outputs": [
    {
     "data": {
      "image/png": "[encoded data removed]",
      "text/plain": [
       "<Figure size 432x288 with 1 Axes>"
      ]
     },
     "metadata": {
      "needs_background": "light"
     },
     "output_type": "display_data"
    }
   ],
   "source": [
    "fig = plt.figure()\n",
    "ax = fig.add_subplot(1,1,1)\n",
    "\n",
    "ax.plot(k_path[:T], lw=2)\n",
    "ax.plot(k_stars,lw=2)\n",
    "ax.set_title('capital ($k_t$)')\n",
    "ax.set_xlim([0,100])\n",
    "ax.set_ylim([0,10])\n",
    "ax.grid(True);"
   ]
  },
  {
   "cell_type": "markdown",
   "metadata": {},
   "source": [
    "# Extended Solow Model"
   ]
  },
  {
   "cell_type": "markdown",
   "metadata": {},
   "source": [
    "$$\n",
    "\\begin{array}{c}\n",
    "Y_{t}=[1-D] K_{t}^{\\alpha}\\left(A_{t} L_{t}\\right)^{1-\\alpha}, 0<\\alpha<1 \\\\\n",
    "D=1-\\frac{1}{1+\\sigma(\\Delta T)^{2}}, \\sigma>0 \\\\\n",
    "K_{t+1}=s Y_{t}+(1-\\delta) K_{t}, 0<s<1,0<\\delta<1, K_{0}>0 \\text { givet } \\\\\n",
    "A_{t+1}=(1+g) A_{t}, A_{0}>0 \\text { givet, } \\\\\n",
    "L_{t+1}=(1+n) L_{t}, L_{0}>0 \\text { givet. }\n",
    "\\end{array}\n",
    "$$\n",
    "\n",
    "$$\n",
    "\\tilde{y}_{t} \\equiv \\frac{Y_{t}}{A_{t} L_{t}}=\\frac{y_{t}}{A_{t}} ; \\quad \\tilde{k}_{t} \\equiv \\frac{K_{t}}{A_{t} L_{t}}=\\frac{k_{t}}{A_{t}}\n",
    "$$"
   ]
  },
  {
   "cell_type": "markdown",
   "metadata": {},
   "source": [
    "## Analytical solution"
   ]
  },
  {
   "cell_type": "markdown",
   "metadata": {},
   "source": [
    "Solution:\n",
    "$$\n",
    "\\tilde{k}_{t+1}=\\frac{1}{(1+n)(1+g)}\\left(s[1-D] \\tilde{k}_{t}^{\\alpha}+(1-\\delta) \\tilde{k}_{t}\\right)\n",
    "$$"
   ]
  },
  {
   "cell_type": "markdown",
   "metadata": {},
   "source": [
    "Then we define the **steady state equation**"
   ]
  },
  {
   "cell_type": "code",
   "execution_count": 13,
   "metadata": {},
   "outputs": [],
   "source": [
    "# introducing climate effects\n",
    "y = sm.symbols('y')\n",
    "k = sm.symbols('k')\n",
    "K = sm.symbols('K')\n",
    "alpha = sm.symbols('alpha')\n",
    "sigma = sm.symbols('sigma')\n",
    "deltaT = sm.symbols('delta T')\n",
    "s = sm.symbols('s')\n",
    "delta = sm.symbols('delta')\n",
    "g = sm.symbols('g')\n",
    "n = sm.symbols('n')\n",
    "D = sm.symbols('D')\n",
    "\n",
    "# climate steady state\n",
    "css = sm.Eq(k,(((s*(1-D)*(k**alpha))+((1-delta)*k)))/((1+n)*(1+g)))"
   ]
  },
  {
   "cell_type": "markdown",
   "metadata": {},
   "source": [
    "and **solve** it:"
   ]
  },
  {
   "cell_type": "code",
   "execution_count": 14,
   "metadata": {},
   "outputs": [
    {
     "data": {
      "text/latex": [
       "$\\displaystyle \\left(\\frac{- \\delta - g n - g - n}{s \\left(D - 1\\right)}\\right)^{\\frac{1}{\\alpha - 1}}$"
      ],
      "text/plain": [
       "((-delta - g*n - g - n)/(s*(D - 1)))**(1/(alpha - 1))"
      ]
     },
     "execution_count": 14,
     "metadata": {},
     "output_type": "execute_result"
    }
   ],
   "source": [
    "kcss = sm.solve(css,k)[0]\n",
    "kcss"
   ]
  },
  {
   "cell_type": "code",
   "execution_count": 15,
   "metadata": {},
   "outputs": [],
   "source": [
    "#transforming the function to a python function\n",
    "css_func = sm.lambdify((s,g,n,alpha,delta,D),kcss)"
   ]
  },
  {
   "cell_type": "code",
   "execution_count": 16,
   "metadata": {},
   "outputs": [
    {
     "name": "stdout",
     "output_type": "stream",
     "text": [
      "analytical solution is: 5.421\n"
     ]
    }
   ],
   "source": [
    "#Defining parameters\n",
    "s = 0.3\n",
    "g = 0.02\n",
    "n = 0.01\n",
    "alpha = 1/3\n",
    "delta = 0.05\n",
    "D=0.175\n",
    "print(f'analytical solution is: {css_func(s,g,n,alpha,delta,D):.3f}')"
   ]
  },
  {
   "cell_type": "markdown",
   "metadata": {},
   "source": [
    "## Numerical solution"
   ]
  },
  {
   "cell_type": "code",
   "execution_count": 17,
   "metadata": {},
   "outputs": [],
   "source": [
    "def solve_for_css(s,g,n,alpha,delta,D):\n",
    "    \"\"\" solve for the steady state level of capital\n",
    "\n",
    "    Args:\n",
    "        s (float): saving rate\n",
    "        g (float): technological growth rate\n",
    "        n (float): population growth rate\n",
    "        alpha (float): cobb-douglas parameter\n",
    "        delta (float): capital depreciation rate \n",
    "\n",
    "    Returns:\n",
    "        result (RootResults): the solution represented as a RootResults object\n",
    "\n",
    "    \"\"\" \n",
    "    \n",
    "    # a. define objective function\n",
    "    obj_kcss = lambda kcss: kcss - (s*(1-D)*kcss**alpha + (1-delta)*kcss)/((1+g)*(1+n))\n",
    "\n",
    "    #. b. call root finder\n",
    "    result = optimize.root_scalar(obj_kcss,bracket=[0.1,100],method='bisect')\n",
    "    \n",
    "    return result\n",
    "\n"
   ]
  },
  {
   "cell_type": "code",
   "execution_count": 18,
   "metadata": {},
   "outputs": [
    {
     "name": "stdout",
     "output_type": "stream",
     "text": [
      "analytical solution is: 5.421\n",
      " numerical solution is: 5.421\n"
     ]
    }
   ],
   "source": [
    "solution_2 = solve_for_css(s,g,n,alpha,delta,D)\n",
    "\n",
    "print(f'analytical solution is: {css_func(s,g,n,alpha,delta,D):.3f}')\n",
    "print(f' numerical solution is: {solution_2.root:.3f}')"
   ]
  },
  {
   "cell_type": "markdown",
   "metadata": {},
   "source": [
    "## BNP pr. effektiv arbejder uden klimaforandringer (D = 0.175)"
   ]
  },
  {
   "cell_type": "code",
   "execution_count": null,
   "metadata": {},
   "outputs": [],
   "source": []
  },
  {
   "cell_type": "markdown",
   "metadata": {},
   "source": [
    "## Visulization"
   ]
  },
  {
   "cell_type": "code",
   "execution_count": 240,
   "metadata": {},
   "outputs": [
    {
     "data": {
      "application/vnd.jupyter.widget-view+json": {
       "model_id": "2bf6dce4a43f476f8029911273923628",
       "version_major": 2,
       "version_minor": 0
      },
      "text/plain": [
       "interactive(children=(FloatSlider(value=0.3333333333333333, description='$α$', max=0.9, step=0.05), FloatSlide…"
      ]
     },
     "metadata": {},
     "output_type": "display_data"
    },
    {
     "data": {
      "text/plain": [
       "<function modelproject.simulate_basic(k, alpha, delta, s, n, g, K, T, D)>"
      ]
     },
     "execution_count": 240,
     "metadata": {},
     "output_type": "execute_result"
    }
   ],
   "source": [
    "widgets.interact(modelproject.simulate_basic, \n",
    "                k     = widgets.fixed(0), \n",
    "                alpha = widgets.FloatSlider(description = '$\\u03B1$' , min = 0 ,    max = 0.9 , step = 0.05 , value = 1/3),\n",
    "                delta = widgets.FloatSlider(description = '$\\u03B4$' , min = 0 ,    max = 0.5 , step = 0.01 , value = 0.05),\n",
    "                s     = widgets.FloatSlider(description = 's' ,        min = 0.01 , max = 0.3 , step = 0.005 , value = 0.3),\n",
    "                n     = widgets.FloatSlider(description ='$n$',        min = 0.01 , max = 0.1 , step = 0.005, value = 0.01),\n",
    "                g     = widgets.FloatSlider(description ='$g$',        min = 0.01 , max = 0.1 , step = 0.005, value = 0.02),\n",
    "                D     = widgets.FloatSlider(description ='$D$',        min = 0.0 , max = 1 , step = 0.005, value = 0),\n",
    "                K     = widgets.fixed(1),\n",
    "                T     = widgets.IntSlider(description='$T$' ,          min = 1,     max = 1000, step = 10,    value = 10))"
   ]
  },
  {
   "cell_type": "markdown",
   "metadata": {},
   "source": [
    "## Simulation"
   ]
  },
  {
   "cell_type": "markdown",
   "metadata": {},
   "source": [
    "We want to simulate the classic Solow model, to show how the models converges to the steady state, $\\tilde{k}^*$\n",
    "\n",
    "This function simulates the classic Solow model for $T=100$ periods."
   ]
  },
  {
   "cell_type": "code",
   "execution_count": 260,
   "metadata": {},
   "outputs": [],
   "source": [
    "k_path = modelproject.simulate_solow_model(k0,alpha,delta,s,n,g,T,D)"
   ]
  },
  {
   "cell_type": "markdown",
   "metadata": {},
   "source": [
    "This function represents the steady state value:"
   ]
  },
  {
   "cell_type": "code",
   "execution_count": 261,
   "metadata": {},
   "outputs": [],
   "source": [
    "k_star = modelproject.find_ssk_k(delta,g,n,alpha,s,D)\n",
    "k_stars =[k_star for i in range(T)]"
   ]
  },
  {
   "cell_type": "code",
   "execution_count": 262,
   "metadata": {},
   "outputs": [],
   "source": [
    "k0 =0.1\n",
    "alpha = 1/3\n",
    "delta = 0.05\n",
    "s = 0.3\n",
    "g = 0.02\n",
    "n = 0.01\n",
    "T = 200\n",
    "D = 0.175"
   ]
  },
  {
   "cell_type": "code",
   "execution_count": 263,
   "metadata": {},
   "outputs": [
    {
     "data": {
      "image/png": "[encoded data removed]",
      "text/plain": [
       "<Figure size 432x288 with 1 Axes>"
      ]
     },
     "metadata": {
      "needs_background": "light"
     },
     "output_type": "display_data"
    }
   ],
   "source": [
    "fig = plt.figure()\n",
    "ax = fig.add_subplot(1,1,1)\n",
    "ax.plot(k_path[:T], lw=2)\n",
    "ax.plot(k_stars,lw=2)\n",
    "ax.set_title('capital ($k_t$)')\n",
    "ax.set_xlim([0,100])\n",
    "ax.set_ylim([0,10])\n",
    "ax.grid(True);"
   ]
  },
  {
   "cell_type": "markdown",
   "metadata": {},
   "source": [
    "## Comparison with classic Solow model"
   ]
  },
  {
   "cell_type": "markdown",
   "metadata": {},
   "source": [
    "# Conclusion"
   ]
  },
  {
   "cell_type": "markdown",
   "metadata": {},
   "source": [
    "ADD CONCISE CONCLUSION."
   ]
  },
  {
   "cell_type": "code",
   "execution_count": null,
   "metadata": {},
   "outputs": [],
   "source": []
  }
 ],
 "metadata": {
  "kernelspec": {
   "display_name": "Python 3",
   "language": "python",
   "name": "python3"
  },
  "language_info": {
   "codemirror_mode": {
    "name": "ipython",
    "version": 3
   },
   "file_extension": ".py",
   "mimetype": "text/x-python",
   "name": "python",
   "nbconvert_exporter": "python",
   "pygments_lexer": "ipython3",
   "version": "3.8.5"
  },
  "toc-autonumbering": true
 },
 "nbformat": 4,
 "nbformat_minor": 4
}
