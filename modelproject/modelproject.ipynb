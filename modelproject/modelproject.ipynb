{
 "cells": [
  {
   "cell_type": "markdown",
   "metadata": {},
   "source": [
    "# Model Project 2021: Solow model with economical damage from climate change"
   ]
  },
  {
   "cell_type": "markdown",
   "metadata": {},
   "source": [
    "The aim of the project is to solve the basic Solow model and then extend the model to account for economical damage from climate change. "
   ]
  },
  {
   "cell_type": "markdown",
   "metadata": {},
   "source": [
    "**The project is organized as follows:**\n",
    "\n",
    "1. Model project description\n",
    "2. Model description\n",
    "3. Basic Solow model\n",
    "4. Extended Solow model\n",
    "5. Conclusion"
   ]
  },
  {
   "cell_type": "markdown",
   "metadata": {},
   "source": [
    "**Group:** SSTL\n",
    "\n",
    "**Members:** Louise Otte Arildsen (srb330), Signe Kolind (hmk792), Stine Fürst (qvj635) & Thomas Nielsen (qzw392)\n",
    "\n",
    "**Imports and set magics:**"
   ]
  },
  {
   "cell_type": "code",
   "execution_count": 9,
   "metadata": {},
   "outputs": [
    {
     "name": "stdout",
     "output_type": "stream",
     "text": [
      "The autoreload extension is already loaded. To reload it, use:\n",
      "  %reload_ext autoreload\n"
     ]
    }
   ],
   "source": [
    "import numpy as np\n",
    "import matplotlib.pyplot as plt\n",
    "from scipy import optimize\n",
    "import sympy as sm\n",
    "import ipywidgets as widgets\n",
    "# autoreload modules when code is run\n",
    "%load_ext autoreload\n",
    "%autoreload 2\n",
    "\n",
    "# local modules\n",
    "import modelproject"
   ]
  },
  {
   "cell_type": "markdown",
   "metadata": {},
   "source": [
    "# Model description"
   ]
  },
  {
   "cell_type": "markdown",
   "metadata": {},
   "source": [
    "\n",
    "\\begin{align}\n",
    "Y_{t}&=[1-D] K_{t}^{\\alpha}\\left(A_{t} L_{t}\\right)^{1-\\alpha}, 0<\\alpha<1 \\\\\n",
    "D&=1-\\frac{1}{1+\\sigma(\\Delta T)^{2}}, \\sigma>0 \\\\\n",
    "K_{t+1}&=s Y_{t}+(1-\\delta) K_{t}, 0<s<1,0<\\delta<1, K_{0}>0  \\\\\n",
    "A_{t+1}&=(1+g) A_{t}, A_{0}>0  \\\\\n",
    "L_{t+1}&=(1+n) L_{t}, L_{0}>0\n",
    "\\end{align}\n",
    "\n",
    "\n",
    "$$\n",
    "\\tilde{y}_{t} \\equiv \\frac{Y_{t}}{A_{t} L_{t}}=\\frac{y_{t}}{A_{t}} ; \\quad \\tilde{k}_{t} \\equiv \\frac{K_{t}}{A_{t} L_{t}}=\\frac{k_{t}}{A_{t}}\n",
    "$$"
   ]
  },
  {
   "cell_type": "markdown",
   "metadata": {},
   "source": [
    "!!!Description of the equations and the model!!!\n"
   ]
  },
  {
   "cell_type": "markdown",
   "metadata": {},
   "source": [
    "# Basic Solow model"
   ]
  },
  {
   "cell_type": "markdown",
   "metadata": {},
   "source": [
    "## Analytical solution"
   ]
  },
  {
   "cell_type": "markdown",
   "metadata": {},
   "source": [
    "Solution:\n",
    "\n",
    "$$\n",
    "\\tilde{k}_{t+1}=\\frac{1}{(1+n)(1+g)}\\left(s \\tilde{k}_{t}^{\\alpha}+(1-\\delta) \\tilde{k}_{t}\\right)\n",
    "$$"
   ]
  },
  {
   "cell_type": "markdown",
   "metadata": {},
   "source": [
    "First we define all the **symbols** using sympy:"
   ]
  },
  {
   "cell_type": "code",
   "execution_count": 158,
   "metadata": {},
   "outputs": [],
   "source": [
    "y = sm.symbols('y')\n",
    "k = sm.symbols('k')\n",
    "K = sm.symbols('K')\n",
    "alpha = sm.symbols('alpha')\n",
    "sigma = sm.symbols('sigma')\n",
    "deltaT = sm.symbols('delta T')\n",
    "s = sm.symbols('s')\n",
    "delta = sm.symbols('delta')\n",
    "g = sm.symbols('g')\n",
    "n = sm.symbols('n')\n"
   ]
  },
  {
   "cell_type": "markdown",
   "metadata": {},
   "source": [
    "Then we define the **steady state equation**"
   ]
  },
  {
   "cell_type": "code",
   "execution_count": 15,
   "metadata": {},
   "outputs": [],
   "source": [
    "ss = sm.Eq(k,(s*k**alpha+(1-delta)*k)/((1+n)*(1+g)))"
   ]
  },
  {
   "cell_type": "markdown",
   "metadata": {},
   "source": [
    "and **solve** it"
   ]
  },
  {
   "cell_type": "code",
   "execution_count": 16,
   "metadata": {},
   "outputs": [
    {
     "data": {
      "text/latex": [
       "$\\displaystyle \\left(\\frac{\\delta + g n + g + n}{s}\\right)^{\\frac{1}{\\alpha - 1}}$"
      ],
      "text/plain": [
       "((delta + g*n + g + n)/s)**(1/(alpha - 1))"
      ]
     },
     "execution_count": 16,
     "metadata": {},
     "output_type": "execute_result"
    }
   ],
   "source": [
    "kss = sm.solve(ss,k)[0]\n",
    "kss"
   ]
  },
  {
   "cell_type": "markdown",
   "metadata": {},
   "source": [
    "For later use, we turn the solution into a **Python funciton**"
   ]
  },
  {
   "cell_type": "code",
   "execution_count": 20,
   "metadata": {},
   "outputs": [
    {
     "data": {
      "text/plain": [
       "<function _lambdifygenerated(s, g, n, alpha, delta)>"
      ]
     },
     "execution_count": 20,
     "metadata": {},
     "output_type": "execute_result"
    }
   ],
   "source": [
    "#transforming the function to a python function\n",
    "ss_func = sm.lambdify((s,g,n,alpha,delta),kss)"
   ]
  },
  {
   "cell_type": "code",
   "execution_count": 49,
   "metadata": {},
   "outputs": [],
   "source": [
    "#Defining parameters\n",
    "s = 0.3\n",
    "g = 0.02\n",
    "n = 0.01\n",
    "alpha = 1/3\n",
    "delta = 0.05"
   ]
  },
  {
   "cell_type": "code",
   "execution_count": 48,
   "metadata": {},
   "outputs": [
    {
     "name": "stdout",
     "output_type": "stream",
     "text": [
      "analytical solution is: -0.000+58.977j\n"
     ]
    }
   ],
   "source": [
    "print(f'analytical solution is: {ss_func(s,g,n,alpha,delta):.3f}')"
   ]
  },
  {
   "cell_type": "markdown",
   "metadata": {},
   "source": [
    "Capital per effective worker equals 7.235"
   ]
  },
  {
   "cell_type": "markdown",
   "metadata": {},
   "source": [
    "## Numerical solution"
   ]
  },
  {
   "cell_type": "markdown",
   "metadata": {},
   "source": [
    "We can re-write the equation for the steady state capital per capita as\n",
    "\n",
    "$$\n",
    "\\tilde{k}_{t+1}-\\frac{1}{(1+n)(1+g)}\\left(s \\tilde{k}_{t}^{\\alpha}+(1-\\delta) \\tilde{k}_{t}\\right)=0\n",
    "$$\n",
    "\n",
    "whereby it clearly becomes a **root-finding problem**. Such a problem can be solved by a **bisection method**."
   ]
  },
  {
   "cell_type": "code",
   "execution_count": 166,
   "metadata": {},
   "outputs": [],
   "source": [
    "def solve_for_ss(s,g,n,alpha,delta):\n",
    "    \"\"\" solve for the steady state level of capital\n",
    "\n",
    "    Args:\n",
    "        s (float): saving rate\n",
    "        g (float): technological growth rate\n",
    "        n (float): population growth rate\n",
    "        alpha (float): cobb-douglas parameter\n",
    "        delta (float): capital depreciation rate \n",
    "\n",
    "    Returns:\n",
    "        result (RootResults): the solution represented as a RootResults object\n",
    "\n",
    "    \"\"\" \n",
    "    \n",
    "    # a. define objective function\n",
    "    obj_kss = lambda kss: kss - (s*kss**alpha + (1-delta)*kss)/((1+g)*(1+n))\n",
    "\n",
    "    #. b. call root finder\n",
    "    result = optimize.root_scalar(obj_kss,bracket=[0.1,100],method='bisect')\n",
    "    \n",
    "    return result\n"
   ]
  },
  {
   "cell_type": "markdown",
   "metadata": {},
   "source": [
    "**Solve numerically** for the steady state:"
   ]
  },
  {
   "cell_type": "code",
   "execution_count": 46,
   "metadata": {},
   "outputs": [
    {
     "name": "stdout",
     "output_type": "stream",
     "text": [
      "analytical solution is: 7.235\n",
      " numerical solution is: 7.235\n"
     ]
    }
   ],
   "source": [
    "solution = solve_for_ss(s,g,n,alpha,delta)\n",
    "\n",
    "print(f'analytical solution is: {ss_func(s,g,n,alpha,delta):.3f}')\n",
    "print(f' numerical solution is: {solution.root:.3f}')"
   ]
  },
  {
   "cell_type": "markdown",
   "metadata": {},
   "source": [
    "## BNP pr. effektiv arbejder uden klimaforandringer (D = 0)"
   ]
  },
  {
   "cell_type": "markdown",
   "metadata": {},
   "source": [
    "Solution:\n",
    "\n",
    "$$\n",
    "\\tilde{y}^{*^{\\prime}}=\\left(\\frac{s}{n+g+\\delta+n g}\\right)^{\\frac{\\alpha}{1-\\alpha}}\n",
    "$$"
   ]
  },
  {
   "cell_type": "markdown",
   "metadata": {},
   "source": [
    "## solve with sumpy\n",
    "Using equation (1) (6) and the solution\n"
   ]
  },
  {
   "cell_type": "markdown",
   "metadata": {},
   "source": [
    "## Visualization"
   ]
  },
  {
   "cell_type": "markdown",
   "metadata": {},
   "source": [
    "Transistionsdiagram"
   ]
  },
  {
   "cell_type": "markdown",
   "metadata": {},
   "source": [
    "## Simulation of steady state from unity"
   ]
  },
  {
   "cell_type": "markdown",
   "metadata": {},
   "source": [
    "# Extended Solow Model"
   ]
  },
  {
   "cell_type": "markdown",
   "metadata": {},
   "source": [
    "$$\n",
    "\\begin{array}{c}\n",
    "Y_{t}=[1-D] K_{t}^{\\alpha}\\left(A_{t} L_{t}\\right)^{1-\\alpha}, 0<\\alpha<1 \\\\\n",
    "D=1-\\frac{1}{1+\\sigma(\\Delta T)^{2}}, \\sigma>0 \\\\\n",
    "K_{t+1}=s Y_{t}+(1-\\delta) K_{t}, 0<s<1,0<\\delta<1, K_{0}>0 \\text { givet } \\\\\n",
    "A_{t+1}=(1+g) A_{t}, A_{0}>0 \\text { givet, } \\\\\n",
    "L_{t+1}=(1+n) L_{t}, L_{0}>0 \\text { givet. }\n",
    "\\end{array}\n",
    "$$\n",
    "\n",
    "$$\n",
    "\\tilde{y}_{t} \\equiv \\frac{Y_{t}}{A_{t} L_{t}}=\\frac{y_{t}}{A_{t}} ; \\quad \\tilde{k}_{t} \\equiv \\frac{K_{t}}{A_{t} L_{t}}=\\frac{k_{t}}{A_{t}}\n",
    "$$"
   ]
  },
  {
   "cell_type": "markdown",
   "metadata": {},
   "source": [
    "## Analytical solution"
   ]
  },
  {
   "cell_type": "markdown",
   "metadata": {},
   "source": [
    "Solution:\n",
    "$$\n",
    "\\tilde{k}_{t+1}=\\frac{1}{(1+n)(1+g)}\\left(s[1-D] \\tilde{k}_{t}^{\\alpha}+(1-\\delta) \\tilde{k}_{t}\\right)\n",
    "$$"
   ]
  },
  {
   "cell_type": "markdown",
   "metadata": {},
   "source": [
    "Then we define the **steady state equation**"
   ]
  },
  {
   "cell_type": "code",
   "execution_count": 159,
   "metadata": {},
   "outputs": [],
   "source": [
    "# introducing climate effects\n",
    "D = sm.symbols('D')\n",
    "\n",
    "# climate steady state\n",
    "css = sm.Eq(k,(((s*(1-D)*(k**alpha))+((1-delta)*k)))/((1+n)*(1+g)))"
   ]
  },
  {
   "cell_type": "markdown",
   "metadata": {},
   "source": [
    "and **solve** it:"
   ]
  },
  {
   "cell_type": "code",
   "execution_count": 160,
   "metadata": {},
   "outputs": [
    {
     "data": {
      "text/latex": [
       "$\\displaystyle \\left(\\frac{- \\delta - g n - g - n}{s \\left(D - 1\\right)}\\right)^{\\frac{1}{\\alpha - 1}}$"
      ],
      "text/plain": [
       "((-delta - g*n - g - n)/(s*(D - 1)))**(1/(alpha - 1))"
      ]
     },
     "execution_count": 160,
     "metadata": {},
     "output_type": "execute_result"
    }
   ],
   "source": [
    "kcss = sm.solve(css,k)[0]\n",
    "kcss"
   ]
  },
  {
   "cell_type": "code",
   "execution_count": 163,
   "metadata": {},
   "outputs": [
    {
     "name": "stdout",
     "output_type": "stream",
     "text": [
      "analytical solution is: 5.421\n"
     ]
    }
   ],
   "source": [
    "#Defining parameters\n",
    "s = 0.3\n",
    "g = 0.02\n",
    "n = 0.01\n",
    "alpha = 1/3\n",
    "delta = 0.05\n",
    "D=0.175\n",
    "print(f'analytical solution is: {css_func(s,g,n,alpha,delta,D):.3f}')"
   ]
  },
  {
   "cell_type": "markdown",
   "metadata": {},
   "source": [
    "## Numerical solution"
   ]
  },
  {
   "cell_type": "code",
   "execution_count": null,
   "metadata": {},
   "outputs": [],
   "source": []
  },
  {
   "cell_type": "markdown",
   "metadata": {},
   "source": [
    "## BNP pr. effektiv arbejder uden klimaforandringer (D = 0.175)"
   ]
  },
  {
   "cell_type": "code",
   "execution_count": null,
   "metadata": {},
   "outputs": [],
   "source": []
  },
  {
   "cell_type": "markdown",
   "metadata": {},
   "source": [
    "## Visulization"
   ]
  },
  {
   "cell_type": "code",
   "execution_count": null,
   "metadata": {},
   "outputs": [],
   "source": []
  },
  {
   "cell_type": "markdown",
   "metadata": {},
   "source": [
    "## Simulation"
   ]
  },
  {
   "cell_type": "code",
   "execution_count": null,
   "metadata": {},
   "outputs": [],
   "source": []
  },
  {
   "cell_type": "markdown",
   "metadata": {},
   "source": [
    "## Comparison with classic Solow model"
   ]
  },
  {
   "cell_type": "markdown",
   "metadata": {},
   "source": [
    "# Conclusion"
   ]
  },
  {
   "cell_type": "markdown",
   "metadata": {},
   "source": [
    "ADD CONCISE CONCLUSION."
   ]
  }
 ],
 "metadata": {
  "kernelspec": {
   "display_name": "Python 3",
   "language": "python",
   "name": "python3"
  },
  "language_info": {
   "codemirror_mode": {
    "name": "ipython",
    "version": 3
   },
   "file_extension": ".py",
   "mimetype": "text/x-python",
   "name": "python",
   "nbconvert_exporter": "python",
   "pygments_lexer": "ipython3",
   "version": "3.8.5"
  },
  "toc-autonumbering": true
 },
 "nbformat": 4,
 "nbformat_minor": 4
}