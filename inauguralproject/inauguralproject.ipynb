{
 "cells": [
  {
   "cell_type": "markdown",
   "metadata": {},
   "source": [
    "# Inaugural Project 2021: Housing Demand and Taxation"
   ]
  },
  {
   "cell_type": "markdown",
   "metadata": {},
   "source": [
    "**Group:** SSTL\n",
    "\n",
    "**Members:** Louise Otte Arildsen (srb330), Signe Kolind (hmk792), Stine Fürst (qvj635) & Thomas Nielsen (qzw392)\n",
    "\n",
    "**Imports and set magics:**"
   ]
  },
  {
   "cell_type": "code",
   "execution_count": 35,
   "metadata": {},
   "outputs": [
    {
     "name": "stdout",
     "output_type": "stream",
     "text": [
      "The autoreload extension is already loaded. To reload it, use:\n",
      "  %reload_ext autoreload\n"
     ]
    }
   ],
   "source": [
    "import numpy as np\n",
    "from scipy import optimize\n",
    "\n",
    "%matplotlib inline\n",
    "import matplotlib.pyplot as plt\n",
    "plt.style.use(\"seaborn\")\n",
    "\n",
    "import ipywidgets as widgets\n",
    "\n",
    "# autoreload modules when code is run\n",
    "%load_ext autoreload\n",
    "%autoreload 2\n",
    "\n",
    "# local modules\n",
    "import inauguralproject"
   ]
  },
  {
   "cell_type": "markdown",
   "metadata": {},
   "source": [
    "# Question 1"
   ]
  },
  {
   "cell_type": "markdown",
   "metadata": {},
   "source": [
    "**We consider a model for a household looking to buy a home. The following applies for the household:**\n",
    "* The household is endowed with an amount of cash, $m$, which can be spend on housing or consumption. \n",
    "* The household derives utility based on the quality, $h$, of the house, which price is determined by $p_{h}$. \n",
    "* The house is subject to progressive taxation and mortgage costs summarized by $\\tau(\\cdot)$.\n",
    "* The objective of the household is to find the optimal division of money spend on housing and consumption in order to maximize utility. \n",
    "\n",
    "**Model equations:**\n",
    "$$\n",
    "\\begin{align}\n",
    "c^{\\star}, h^{\\star} &=\\arg \\max _{c, h} c^{1-\\phi} h^{\\phi} \\\\\n",
    "& \\text { s.t. } \\\\\n",
    "\\widetilde{p}_{h} &=p_{h} \\varepsilon \\\\\n",
    "m &=\\tau\\left(p_{h}, \\widetilde{p}_{h}\\right)+c \\\\\n",
    "\\tau\\left(p_{h}, \\widetilde{p}_{h}\\right) &=r p_{h}+\\tau^{g} \\widetilde{p}_{h}+\\tau^{p} \\max \\left\\{\\widetilde{p}_{h}-\\bar{p}, 0\\right\\}\n",
    "\\end{align}\n",
    "$$\n",
    "\n",
    "**Explanation:** The mazimization problem of the household is to find the optimal allocation of money spend on consumption, $c$, and housing, given that the price of a house is equal to the house quality, $h$. \n",
    "Houses are taxed based on a public assesment, $\\tilde{p}_{h}$, which depends on the market value of the house $p_{h}$ and a factor $\\varepsilon$, which is politically set below 1. \n",
    "The household's cash endowment, $m$, is either spend on housing expenditures, $\\tau\\left(p_{h}, \\widetilde{p}_{h}\\right)$, or consumption, $c$. The housing expenditures are determined by a interest-only mortgage with interest rate, $r$, a base housing tax, $\\tau^{g}$, and a progressive housing tax, $\\tau^{p}$, levied on houses with a market value above the cutoff, $p$. "
   ]
  },
  {
   "cell_type": "markdown",
   "metadata": {},
   "source": [
    "By combining equation (2)-(4) and applying that $p_{h}=h$, we are able to write $c$ as a function of $h$ and thus contruct a univariate mazimization problem for the household:\n",
    "\n",
    "\n",
    "$ c=m-rh-\\tau^gh\\varepsilon-\\tau^pmax\\left\\{ h\\varepsilon-\\bar{p},0\\right\\} $\n",
    "\n",
    "$c^{\\star}, h^{\\star} =\\arg \\max _{h} (m-rh-\\tau^gh\\varepsilon-\\tau^pmax\\left\\{ h\\varepsilon-\\bar{p},0\\right\\})^{1-\\phi} h^{\\phi} $\n",
    "\n",
    "The optimizing function used to solve the maximization problem are defined in the following code."
   ]
  },
  {
   "cell_type": "markdown",
   "metadata": {},
   "source": [
    "**Questions:**\n",
    "\n",
    "How can we assign equation numbers in jupyterlab??\n"
   ]
  },
  {
   "cell_type": "code",
   "execution_count": 36,
   "metadata": {},
   "outputs": [
    {
     "name": "stdout",
     "output_type": "stream",
     "text": [
      "The agent will choose optimal housing = 4.16, which implies optimal consumption = 0.35 and utility = 0.74\n"
     ]
    }
   ],
   "source": [
    "#a. setting parameter values:\n",
    "m=0.5\n",
    "phi=0.3\n",
    "epsilon=0.5\n",
    "r=0.03\n",
    "tau_g=0.012\n",
    "tau_p=0.004\n",
    "p_bar=3\n",
    "\n",
    "\n",
    "# utility function\n",
    "def u_func(h, m, phi, epsilon, r, tau_g, tau_p, p_bar):\n",
    "    c=m-r*h - tau_g*h*epsilon - tau_p*max((h*epsilon-p_bar),0)\n",
    "    u = (c**(1-phi))*(h**phi)\n",
    "    return u\n",
    "\n",
    "\n",
    "# scalar optimiser function\n",
    "def u_optimiser(m, phi, epsilon, r, tau_g, tau_p, p_bar):\n",
    "\n",
    "    def objective(h, m, phi, epsilon, r, tau_g, tau_p, p_bar):\n",
    "        return -u_func(h=h[0], m=m, phi=phi, epsilon=epsilon, r=r, tau_g=tau_g, tau_p=tau_p, p_bar=p_bar)\n",
    "    \n",
    "    guess = [0.5]\n",
    "    Bc = lambda h: m - r*h[0] - tau_g*h[0]*epsilon - tau_p*max((h[0]*epsilon-p_bar),0)\n",
    "    sol = optimize.minimize(objective,guess,bounds=[(0,np.inf)],args=(m, phi, epsilon, r, tau_g, tau_p, p_bar),constraints={'type':'ineq','fun':Bc})\n",
    "        \n",
    "\n",
    "    h_star = sol.x[0]\n",
    "    c_star = m-r*h_star - tau_g*h_star*epsilon - tau_p*max(h_star*epsilon-p_bar,0)\n",
    "    u_star = u_func(h=h_star,m=m, phi=phi, epsilon=epsilon, r=r, tau_g=tau_g, tau_p=tau_p, p_bar=p_bar)\n",
    "    return h_star, c_star, u_star\n",
    "\n",
    "#b. solve maximization problem \n",
    "h_star, c_star, u_star = u_optimiser(m, phi, epsilon, r, tau_g, tau_p, p_bar)\n",
    "\n",
    "# c. print solution for optimal choice of money spend on housing and consumption\n",
    "print(f'The agent will choose optimal housing = {h_star:.2f}, which implies optimal consumption = {c_star:.2f} and utility = {u_star:.2f}')"
   ]
  },
  {
   "cell_type": "markdown",
   "metadata": {},
   "source": [
    "**Question:**\n",
    "\n",
    "How can we control than c is greater than zero?\n",
    "\n",
    "**Comments:**\n",
    "\n",
    "Would be nice if we wrote explanation of the functions \"\"\" \"\"\". "
   ]
  },
  {
   "cell_type": "markdown",
   "metadata": {},
   "source": [
    "# Question 2"
   ]
  },
  {
   "cell_type": "markdown",
   "metadata": {},
   "source": [
    "We want to plot $c^{\\star}$ and $h^{\\star}$ as functions of $m$ in the range 0.4 to 1.5."
   ]
  },
  {
   "cell_type": "code",
   "execution_count": 37,
   "metadata": {},
   "outputs": [
    {
     "data": {
      "image/png": "[encoded data removed]",
      "text/plain": [
       "<Figure size 720x288 with 2 Axes>"
      ]
     },
     "metadata": {},
     "output_type": "display_data"
    }
   ],
   "source": [
    "# a. create array of m and container for values of h and c\n",
    "N=100\n",
    "m = np.linspace(0.5,1.4,num=N)\n",
    "h_vals = np.empty(N)\n",
    "c_vals = np.empty(N)\n",
    "\n",
    "# b. loop the optimiser over the w array\n",
    "for i,mi in enumerate (m): \n",
    "    hc = u_optimiser(mi, phi, epsilon, r, tau_g, tau_p, p_bar)\n",
    "    \n",
    "    h_vals[i] = hc[0]\n",
    "    c_vals[i] = hc[1] \n",
    "\n",
    "def two_figures(x_left, y_left, title_left, xlabel_left, ylabel_left, x_right, y_right, title_right, xlabel_right, ylabel_right):\n",
    "    \"\"\" \n",
    "    Plots two aligned figures. \n",
    "    \n",
    "    Inputs: should be self explanatory...\n",
    "    Output: Two figures in 2D\n",
    "    \"\"\"\n",
    "    # a. initialise figure\n",
    "    fig = plt.figure(figsize=(10,4))# figsize is in inches...\n",
    "\n",
    "    # b. left plot\n",
    "    ax_left = fig.add_subplot(1,2,1)\n",
    "    ax_left.plot(x_left,y_left)\n",
    "\n",
    "    ax_left.set_title(title_left)\n",
    "    ax_left.set_xlabel(xlabel_left)\n",
    "    ax_left.set_ylabel(ylabel_left)\n",
    "\n",
    "    # c. right plot\n",
    "    ax_right = fig.add_subplot(1,2,2)\n",
    "\n",
    "    ax_right.plot(x_right, y_right)\n",
    "\n",
    "    ax_right.set_title(title_right)\n",
    "    ax_right.set_xlabel(xlabel_right)\n",
    "    ax_right.set_ylabel(ylabel_right)\n",
    "    \n",
    "# c. plot the figure    \n",
    "two_figures(m, h_vals, \"Housing\", \"$m$\", \"$h$\", m, c_vals, \"Consumption\", \"$m$\", \"$c$\")"
   ]
  },
  {
   "cell_type": "markdown",
   "metadata": {},
   "source": [
    "'Comment on the graph output'"
   ]
  },
  {
   "cell_type": "markdown",
   "metadata": {},
   "source": [
    "# Question 3"
   ]
  },
  {
   "cell_type": "markdown",
   "metadata": {},
   "source": [
    "We now consider $N=10000$ household looking to buy houses, but each household differ wrt. their cash endowment. The distribution of cash-on-hand is given by \n",
    "\n",
    "$$\n",
    "m_{i} \\sim \\operatorname{Lognormal}(-0.4,0.35)\n",
    "$$\n",
    "\n",
    "We let the public assessment associated with the optimal housing choice of household $i$, $h_{i}^{\\star}$\n",
    ",be denoted $\n",
    "\\widetilde{p}_{h, i}^{\\star}\n",
    "$\n",
    "\n",
    "$T=\\sum_{i=1}^{N} \\tau^{g} \\widetilde{p}_{h, i}^{\\star}+\\tau^{p} \\max \\left\\{\\widetilde{p}_{h, i}^{\\star}-\\bar{p}, 0\\right\\}$"
   ]
  },
  {
   "cell_type": "markdown",
   "metadata": {},
   "source": [
    "In the following module we calculate the average tax burden per household."
   ]
  },
  {
   "cell_type": "code",
   "execution_count": 42,
   "metadata": {},
   "outputs": [
    {
     "name": "stdout",
     "output_type": "stream",
     "text": [
      "The total tax revenue is 363.14180\n",
      "The average tax burden per household is 0.03631\n"
     ]
    }
   ],
   "source": [
    "#a. setting parameters\n",
    "size=10000\n",
    "seed=1\n",
    "low=-0.4\n",
    "high=0.35\n",
    "\n",
    "#b. \n",
    "def tax_revenue(seed,size,low,high,tau_g=0.012,epsilon=0.5,tau_p=0.004,p_bar=3):\n",
    "    # a. set seed, draw random numbers\n",
    "    np.random.seed(seed)\n",
    "    mi = np.random.lognormal(low,high,size)\n",
    "\n",
    "    # b. define local parameter values\n",
    "    phi=0.3\n",
    "    r=0.03 \n",
    "\n",
    "    # c. solve each individual's optimisation problem\n",
    "    tax_rev = 0\n",
    "\n",
    "    for i, mi in enumerate (mi):        \n",
    "        hc = u_optimiser(mi, phi, epsilon, r, tau_g, tau_p, p_bar)\n",
    "        tax_i = tau_g*hc[0]*epsilon + tau_p*max(hc[0]*epsilon-p_bar,0)\n",
    "        tax_rev += tax_i\n",
    "\n",
    "    return tax_rev\n",
    "\n",
    "# compute total tax revenue and average tax burden per household\n",
    "total_tax_rev = tax_revenue(seed,size,low,high)\n",
    "average_tax=total_tax_rev/size\n",
    "\n",
    "print(f'The total tax revenue is {total_tax_rev:.5f}')\n",
    "print(f'The average tax burden per household is {average_tax:.5f}')\n"
   ]
  },
  {
   "cell_type": "markdown",
   "metadata": {},
   "source": [
    "**Question:**\n",
    "\n",
    "How can we do a sanity check?"
   ]
  },
  {
   "cell_type": "markdown",
   "metadata": {},
   "source": [
    "# Question 4"
   ]
  },
  {
   "cell_type": "markdown",
   "metadata": {},
   "source": [
    "We consider a reform of the tax system which changes the model parameters and we recalculate the average tax burden per household given these changes:"
   ]
  },
  {
   "cell_type": "code",
   "execution_count": 44,
   "metadata": {},
   "outputs": [
    {
     "name": "stdout",
     "output_type": "stream",
     "text": [
      "The total tax revenue is 450.18746\n",
      "The average tax burden per household is 0.04502\n"
     ]
    }
   ],
   "source": [
    "# a. updating parameters \n",
    "r_epsilon=0.8\n",
    "r_tau_g=0.01\n",
    "r_tau_p=0.009\n",
    "r_p_bar=8\n",
    "\n",
    "def r_tax_revenue(seed,size,low,high,r_tau_g=0.01,r_epsilon=0.8,r_tau_p=0.009,p_bar=8):\n",
    "    # a. set seed, draw random numbers\n",
    "    np.random.seed(seed)\n",
    "    mi = np.random.lognormal(low,high,size)\n",
    "\n",
    "    # b. define local parameter values\n",
    "    phi=0.3\n",
    "    r=0.03 \n",
    "\n",
    "    # c. solve each individual's optimisation problem\n",
    "    tax_rev = 0\n",
    "\n",
    "    for i, mi in enumerate (mi):        \n",
    "        hc = u_optimiser(mi, phi, r_epsilon, r, r_tau_g, r_tau_p, r_p_bar)\n",
    "        tax_i = r_tau_g*hc[0]*r_epsilon + r_tau_p*max(hc[0]*r_epsilon-r_p_bar,0)\n",
    "        tax_rev += tax_i\n",
    "\n",
    "    return tax_rev\n",
    "\n",
    "# compute total tax revenue and average tax burden per household\n",
    "r_total_tax_rev = r_tax_revenue(seed,size,low,high)\n",
    "r_average_tax=r_total_tax_rev/size\n",
    "\n",
    "print(f'The total tax revenue is {r_total_tax_rev:.5f}')\n",
    "print(f'The average tax burden per household is {r_average_tax:.5f}')"
   ]
  },
  {
   "cell_type": "markdown",
   "metadata": {},
   "source": [
    "# Question 5"
   ]
  },
  {
   "cell_type": "markdown",
   "metadata": {},
   "source": [
    "ANSWER HERE"
   ]
  },
  {
   "cell_type": "code",
   "execution_count": 45,
   "metadata": {},
   "outputs": [],
   "source": [
    "# code"
   ]
  },
  {
   "cell_type": "markdown",
   "metadata": {},
   "source": [
    "# Conclusion"
   ]
  },
  {
   "cell_type": "markdown",
   "metadata": {},
   "source": [
    "ADD CONCISE CONLUSION."
   ]
  }
 ],
 "metadata": {
  "kernelspec": {
   "display_name": "Python 3",
   "language": "python",
   "name": "python3"
  },
  "language_info": {
   "codemirror_mode": {
    "name": "ipython",
    "version": 3
   },
   "file_extension": ".py",
   "mimetype": "text/x-python",
   "name": "python",
   "nbconvert_exporter": "python",
   "pygments_lexer": "ipython3",
   "version": "3.8.5"
  },
  "toc-autonumbering": true
 },
 "nbformat": 4,
 "nbformat_minor": 4
}
