{
 "cells": [
  {
   "cell_type": "markdown",
   "metadata": {},
   "source": [
    "# Inaugural Project 2021: Housing Demand and Taxation"
   ]
  },
  {
   "cell_type": "markdown",
   "metadata": {},
   "source": [
    "**Group:** SSTL\n",
    "\n",
    "**Members:** Louise Otte Arildsen (srb330), Signe Kolind (hmk792), Stine Fürst (qvj635) & Thomas Nielsen (qzw392)\n",
    "\n",
    "**Imports and set magics:**"
   ]
  },
  {
   "cell_type": "code",
   "execution_count": 6,
   "metadata": {},
   "outputs": [],
   "source": [
    "import numpy as np\n",
    "from scipy import optimize\n",
    "\n",
    "%matplotlib inline\n",
    "import matplotlib.pyplot as plt\n",
    "plt.style.use(\"seaborn\")\n",
    "\n",
    "# autoreload modules when code is run\n",
    "%load_ext autoreload\n",
    "%autoreload 2"
   ]
  },
  {
   "cell_type": "markdown",
   "metadata": {},
   "source": [
    "# Question 1"
   ]
  },
  {
   "cell_type": "markdown",
   "metadata": {},
   "source": [
    "**We consider a model for a household looking to buy a home. The following applies for the household:**\n",
    "* The household is endowed with an amount of cash, $m$, which can be spend on housing or consumption. \n",
    "* The household derives utility based on the quality, $h$, of the house, which price is determined by $p_{h}$. \n",
    "* The house is subject to progressive taxation and mortgage costs summarized by $\\tau(\\cdot)$.\n",
    "* The objective of the household is to find the optimal division of money spend on housing and consumption in order to maximize utility. \n",
    "\n",
    "**Model equations:**\n",
    "$$\n",
    "\\begin{align}\n",
    "c^{\\star}, h^{\\star} &=\\arg \\max _{c, h} c^{1-\\phi} h^{\\phi} \\\\\n",
    "& \\text { s.t. } \\\\\n",
    "\\widetilde{p}_{h} &=p_{h} \\varepsilon \\\\\n",
    "m &=\\tau\\left(p_{h}, \\widetilde{p}_{h}\\right)+c \\\\\n",
    "\\tau\\left(p_{h}, \\widetilde{p}_{h}\\right) &=r p_{h}+\\tau^{g} \\widetilde{p}_{h}+\\tau^{p} \\max \\left\\{\\widetilde{p}_{h}-\\bar{p}, 0\\right\\}\n",
    "\\end{align}\n",
    "$$\n",
    "\n",
    "**Explanation:** The maximization problem of the household is to find the optimal allocation of money spend on consumption, $c$, and housing, given that the price of a house is equal to the house quality, $h$. \n",
    "Houses are taxed based on a public assesment, $\\tilde{p}_{h}$, which depends on the market value of the house $p_{h}$ and a factor $\\varepsilon$, which is politically set below 1. \n",
    "The household's cash endowment, $m$, is either spend on housing expenditures, $\\tau\\left(p_{h}, \\widetilde{p}_{h}\\right)$, or consumption, $c$. The housing expenditures are determined by a interest-only mortgage with interest rate, $r$, a base housing tax, $\\tau^{g}$, and a progressive housing tax, $\\tau^{p}$, levied on houses with a market value above the cutoff, $p$. "
   ]
  },
  {
   "cell_type": "markdown",
   "metadata": {},
   "source": [
    "By combining equation (2)-(4) and applying that $p_{h}=h$, we are able to write $c$ as a function of $h$ and thus contruct a univariate mazimization problem for the household:\n",
    "\n",
    "\n",
    "$ c=m-rh-\\tau^gh\\varepsilon-\\tau^pmax\\left\\{ h\\varepsilon-\\bar{p},0\\right\\} $\n",
    "\n",
    "$c^{\\star}, h^{\\star} =\\arg \\max _{h} (m-rh-\\tau^gh\\varepsilon-\\tau^pmax\\left\\{ h\\varepsilon-\\bar{p},0\\right\\})^{1-\\phi} h^{\\phi} $\n",
    "\n",
    "The optimizing function used to solve the maximization problem are defined in the following code."
   ]
  },
  {
   "cell_type": "code",
   "execution_count": 8,
   "metadata": {},
   "outputs": [
    {
     "name": "stdout",
     "output_type": "stream",
     "text": [
      "The household will choose optimal housing = 4.16, which implies optimal consumption = 0.35 and utility = 0.74\n"
     ]
    }
   ],
   "source": [
    "#a. setting parameter values:\n",
    "m=0.5\n",
    "phi=0.3\n",
    "epsilon=0.5\n",
    "r=0.03\n",
    "tau_g=0.012\n",
    "tau_p=0.004\n",
    "p_bar=3\n",
    "\n",
    "# utility function\n",
    "def u_func(h, m, phi, epsilon, r, tau_g, tau_p, p_bar):\n",
    "    \n",
    "    \"\"\"\n",
    "    Utility function for a household making a housing and consumption decision subject to several          constraints. \n",
    "    The optimisation problem only considers the variable housing as consumption can bew written as an      implicit function hereof. \n",
    "    \n",
    "    Input:\n",
    "    h: money spent on housing \n",
    "    m: cash-on-hand for the household\n",
    "    phi: elasticity\n",
    "    epsilon: public assessment factor, politically determined \n",
    "    r: mortgage interest rate\n",
    "    tau_g: base tax rate\n",
    "    tau_p: progressive tax rate\n",
    "    p_bar: cutoff value for homes regarding the progressive tax rate\n",
    "    \n",
    "    Output: Utility given housing choice. \n",
    "    \"\"\"  \n",
    "    \n",
    "    c=m-r*h - tau_g*h*epsilon - tau_p*max((h*epsilon-p_bar),0)\n",
    "    u = (c**(1-phi))*(h**phi)\n",
    "    return u\n",
    "\n",
    "\n",
    "# scalar optimiser function\n",
    "def u_optimiser(m, phi, epsilon, r, tau_g, tau_p, p_bar):\n",
    "\n",
    "    def objective(h, m, phi, epsilon, r, tau_g, tau_p, p_bar):\n",
    "        return -u_func(h=h[0], m=m, phi=phi, epsilon=epsilon, r=r, tau_g=tau_g, tau_p=tau_p, p_bar=p_bar)\n",
    "    \n",
    "    guess = [0.5]\n",
    "    Bc = lambda h: m - r*h[0] - tau_g*h[0]*epsilon - tau_p*max((h[0]*epsilon-p_bar),0)\n",
    "    sol = optimize.minimize(objective,guess,bounds=[(0,np.inf)],args=(m, phi, epsilon, r, tau_g, tau_p, p_bar),constraints={'type':'ineq','fun':Bc})\n",
    "        \n",
    "\n",
    "    h_star = sol.x[0]\n",
    "    c_star = m-r*h_star - tau_g*h_star*epsilon - tau_p*max(h_star*epsilon-p_bar,0)\n",
    "    u_star = u_func(h=h_star,m=m, phi=phi, epsilon=epsilon, r=r, tau_g=tau_g, tau_p=tau_p, p_bar=p_bar)\n",
    "    return h_star, c_star, u_star\n",
    "\n",
    "#b. solve maximization problem \n",
    "h_star, c_star, u_star = u_optimiser(m, phi, epsilon, r, tau_g, tau_p, p_bar)\n",
    "\n",
    "# c. print solution for optimal choice of money spend on housing and consumption\n",
    "print(f'The household will choose optimal housing = {h_star:.2f}, which implies optimal consumption = {c_star:.2f} and utility = {u_star:.2f}')"
   ]
  },
  {
   "cell_type": "markdown",
   "metadata": {},
   "source": [
    "# Question 2"
   ]
  },
  {
   "cell_type": "markdown",
   "metadata": {},
   "source": [
    "We want to plot $c^{\\star}$ and $h^{\\star}$ as functions of $m$ in the range 0.4 to 1.5."
   ]
  },
  {
   "cell_type": "code",
   "execution_count": 18,
   "metadata": {},
   "outputs": [
    {
     "data": {
      "image/png": "[encoded data removed]",
      "text/plain": [
       "<Figure size 720x288 with 2 Axes>"
      ]
     },
     "metadata": {
      "needs_background": "light"
     },
     "output_type": "display_data"
    }
   ],
   "source": [
    "# a. create array of m and container for values of h and c\n",
    "N=100\n",
    "m = np.linspace(0.5,1.5,num=N)\n",
    "h_vals = np.empty(N)\n",
    "c_vals = np.empty(N)\n",
    "\n",
    "# b. loop the optimiser over the m array\n",
    "for i,mi in enumerate(m): \n",
    "    \"\"\"\n",
    "    Looping m[i] indexes, over optimizer in order to find optimal h and c values.\n",
    "    \"\"\"\n",
    "    hc = u_optimiser(mi, phi, epsilon, r, tau_g, tau_p, p_bar)\n",
    "    \n",
    "    h_vals[i] = hc[0]\n",
    "    c_vals[i] = hc[1] \n",
    "\n",
    "def two_figures(x_left, y_left, title_left, xlabel_left, ylabel_left, x_right, y_right, title_right, xlabel_right, ylabel_right):\n",
    "    \"\"\" \n",
    "    Plots two aligned figures. \n",
    "    \n",
    "    Inputs: axises, labels, titles of left/right figure. \n",
    "    Output: Two figures in 2D\n",
    "    \"\"\"\n",
    "    # a. initialise figure\n",
    "    fig = plt.figure(figsize=(10,4))# figsize is in inches...\n",
    "\n",
    "    # b. left plot\n",
    "    ax_left = fig.add_subplot(1,2,1)\n",
    "    ax_left.plot(x_left,y_left)\n",
    "\n",
    "    ax_left.set_title(title_left)\n",
    "    ax_left.set_xlabel(xlabel_left)\n",
    "    ax_left.set_ylabel(ylabel_left)\n",
    "\n",
    "    # c. right plot\n",
    "    ax_right = fig.add_subplot(1,2,2)\n",
    "\n",
    "    ax_right.plot(x_right, y_right)\n",
    "\n",
    "    ax_right.set_title(title_right)\n",
    "    ax_right.set_xlabel(xlabel_right)\n",
    "    ax_right.set_ylabel(ylabel_right)\n",
    "    \n",
    "# c. plot the figure    \n",
    "two_figures(m, h_vals, \"Housing\", \"$m$\", \"$h$\", m, c_vals, \"Consumption\", \"$m$\", \"$c$\")"
   ]
  },
  {
   "cell_type": "markdown",
   "metadata": {},
   "source": [
    "We see from the two graphs the optimal amount of consumption and housing for all values of cash in hand variable m between the interval of 0.5 to 1.4. The graphs is mostly linear except the interval 0.71 to 0.75, where housing costs doesn't change and consumption moves differently. "
   ]
  },
  {
   "cell_type": "markdown",
   "metadata": {},
   "source": [
    "# Question 3"
   ]
  },
  {
   "cell_type": "markdown",
   "metadata": {},
   "source": [
    "We now consider $N=10000$ household looking to buy houses, but each household differ wrt. their cash endowment. The distribution of cash-on-hand is given by \n",
    "\n",
    "$$\n",
    "m_{i} \\sim \\operatorname{Lognormal}(-0.4,0.35)\n",
    "$$\n",
    "\n",
    "We let the public assessment associated with the optimal housing choice of household $i$, $h_{i}^{\\star}$\n",
    ",be denoted $\n",
    "\\widetilde{p}_{h, i}^{\\star}\n",
    "$\n",
    "\n",
    "$T=\\sum_{i=1}^{N} \\tau^{g} \\widetilde{p}_{h, i}^{\\star}+\\tau^{p} \\max \\left\\{\\widetilde{p}_{h, i}^{\\star}-\\bar{p}, 0\\right\\}$"
   ]
  },
  {
   "cell_type": "markdown",
   "metadata": {},
   "source": [
    "In the following module we calculate the average tax burden per household."
   ]
  },
  {
   "cell_type": "code",
   "execution_count": 18,
   "metadata": {},
   "outputs": [
    {
     "name": "stdout",
     "output_type": "stream",
     "text": [
      "The total tax revenue is 363.14180\n",
      "The average tax burden per household is 0.03631\n"
     ]
    }
   ],
   "source": [
    "#a. setting parameters\n",
    "size=10000\n",
    "seed=1\n",
    "mu=-0.4\n",
    "sigma=0.35\n",
    "\n",
    "#b. \n",
    "def tax_revenue(seed,size,mu,sigma,tau_g=0.012,epsilon=0.5,tau_p=0.004,p_bar=3):\n",
    "    \"\"\"\n",
    "    Calculates the total tax revenue of N size agents, with utility u_func\n",
    "    and log-normally distributed cash-on-hand mi.\n",
    "    \n",
    "    Inputs: \n",
    "    seed: seed number\n",
    "    size: random values of cash-on-hand mi (i.e. number of agents) to draw from distribution         \n",
    "    mu: distribution mean \n",
    "    sigma: standard deviation\n",
    "    tau_g: base tax rate\n",
    "    epsilon: public assessment factor, politically determined \n",
    "    tau_p: progressive tax rate\n",
    "    p_bar: cutoff value for homes regarding the progressive tax rate\n",
    "    \n",
    "    Output: Total tax revenue from N size agents, derived from utility of housing choice \n",
    "    depending on log-normally distributed values of cash-on-hand. \n",
    "    \"\"\"\n",
    "    # a. set seed, draw random numbers\n",
    "    np.random.seed(seed)\n",
    "    mi = np.random.lognormal(mu,sigma,size)\n",
    "\n",
    "    # b. define local parameter values\n",
    "    phi=0.3\n",
    "    r=0.03 \n",
    "\n",
    "    # c. solve each individual's optimisation problem\n",
    "    tax_rev = 0\n",
    "\n",
    "    for i, mi in enumerate (mi): \n",
    "        \"\"\"\n",
    "        Looping mi, N times over optimizer in order to find tax revenue_i. \n",
    "        Calculating total tax revenue as a sum of tax_revenue_i where i= 1,..,N\n",
    "        \"\"\"        \n",
    "        hc = u_optimiser(mi, phi, epsilon, r, tau_g, tau_p, p_bar)\n",
    "        tax_i = tau_g*hc[0]*epsilon + tau_p*max(hc[0]*epsilon-p_bar,0)\n",
    "        tax_rev += tax_i\n",
    "\n",
    "    return tax_rev\n",
    "\n",
    "# compute total tax revenue and average tax burden per household\n",
    "total_tax_rev = tax_revenue(seed,size,mu,sigma)\n",
    "average_tax=total_tax_rev/size\n",
    "\n",
    "print(f'The total tax revenue is {total_tax_rev:.5f}')\n",
    "print(f'The average tax burden per household is {average_tax:.5f}')\n"
   ]
  },
  {
   "cell_type": "markdown",
   "metadata": {},
   "source": [
    "# Question 4"
   ]
  },
  {
   "cell_type": "markdown",
   "metadata": {},
   "source": [
    "We consider a reform of the tax system which changes the model parameters and we recalculate the average tax burden per household given these changes:"
   ]
  },
  {
   "cell_type": "code",
   "execution_count": 19,
   "metadata": {
    "scrolled": true
   },
   "outputs": [
    {
     "name": "stdout",
     "output_type": "stream",
     "text": [
      "The total tax revenue given the reform is 450.19\n",
      "The average tax burden per household given the reform is 0.04502\n"
     ]
    }
   ],
   "source": [
    "# rerunning tax_revenue with new parameter values\n",
    "total_tax_rev_2 = tax_revenue(seed,size,mu,sigma,tau_g=0.01,epsilon=0.8,tau_p=0.009,p_bar=8)\n",
    "average_tax_2=total_tax_rev_2/size\n",
    "print(f'The total tax revenue given the reform is {total_tax_rev_2:.2f}')\n",
    "print(f'The average tax burden per household given the reform is {average_tax_2:.5f}')"
   ]
  },
  {
   "cell_type": "markdown",
   "metadata": {},
   "source": [
    "The reform leads to an increase in the total tax revenue and an increase in the average tax burden per household, corresponding to a 24 pct. Increase."
   ]
  },
  {
   "cell_type": "markdown",
   "metadata": {},
   "source": [
    "# Question 5"
   ]
  },
  {
   "cell_type": "markdown",
   "metadata": {},
   "source": [
    "Now the policy maker decide that instead of implementing the reform given in question 4, they would like a solution where the average home owner does not pay more in housing taxes. The policy maker therefore imposes that reform changes to $\\varepsilon$, $\\tau^{p}$ and $\\bar{p}$, will be offset by lowering $\\tau^{g}$, such that the average tax payments are unchaged from before the reform. In the next module we calculate the $\\tau^{g}$ that meets this requirement."
   ]
  },
  {
   "cell_type": "markdown",
   "metadata": {},
   "source": [
    "**OBS:** Running the code with 10.000 households will take hours. We have reduced the number of households to 1.000 by assigning changing size=1000 in question 3 and thus the running time is reduced to around 5 minutes. If you want to lower the running time to less than one minute set size=100. "
   ]
  },
  {
   "cell_type": "code",
   "execution_count": 17,
   "metadata": {},
   "outputs": [
    {
     "name": "stdout",
     "output_type": "stream",
     "text": [
      "  0: tau_g =   0.00941562 -> excess tax revenue ->    15.74696276\n",
      "  1: tau_g =   0.00855005 -> excess tax revenue ->     6.72159202\n",
      "  2: tau_g =   0.00814352 -> excess tax revenue ->     3.47656746\n",
      "  3: tau_g =   0.00793056 -> excess tax revenue ->     1.91206370\n",
      "  4: tau_g =   0.00781324 -> excess tax revenue ->     1.08163548\n",
      "   ...\n",
      " 25: tau_g =   0.00765603 -> excess tax revenue ->     0.00001393\n",
      " 43: tau_g =   0.00765602 -> excess tax revenue ->    -0.00000000\n"
     ]
    }
   ],
   "source": [
    "# draws of random numbers\n",
    "np.random.seed(seed)    \n",
    "\n",
    "#define the tax goal:\n",
    "tax_goal=tax_revenue(seed,size,mu,sigma,tau_g=0.012,epsilon=0.5,tau_p=0.004,p_bar=3)\n",
    "\n",
    "# excess tax revenue function\n",
    "def excess_tax_rev(tau_g, epsilon, tau_p, p_bar):\n",
    "    \"\"\"\n",
    "    Calculates difference between tax revenues before and after reform in housing taxes\n",
    "    \"\"\"\n",
    "    excess_tax_revenue = tax_revenue(seed,size,mu,sigma,tau_g=tau_g,epsilon=0.8,tau_p=0.009,\n",
    "                                     p_bar=8) - tax_goal\n",
    "    #tau_g=tau_g so we loop over tau_g\n",
    "    return excess_tax_revenue\n",
    "\n",
    "# Equilibrium \n",
    "def find_equilibrium(tau_g, epsilon, tau_p, p_bar, kappa=0.5, eps=1e-8, maxiter=500):\n",
    "    \"\"\"\n",
    "    Iterating tau_g 500 times over excess_tax_return, until excess tax return is as close to zero as       possible. Such that the average tax payments are unchaged from before the reform.\n",
    "\n",
    "    Input:\n",
    "    tau_g: base tax rate\n",
    "    tau_p: progressive tax rate\n",
    "    epsilon: public assessment factor, politically determined\n",
    "    p_bar: cutoff value for homes regarding the progressive tax rate\n",
    "    kappa: scalar\n",
    "    eps: desired value of excess tax\n",
    "    maxiter: maximum number of iterations\n",
    "\n",
    "    Output: \n",
    "    Prints first 5 iterations of tau_g with respective excess tax revenue. \n",
    "    Returns last prints with a 25th iteration gap untill solution is found. \n",
    "\n",
    "    \"\"\"\n",
    "    \n",
    "    t = 0\n",
    "    while True:\n",
    "\n",
    "        # a. step 1: excess demand\n",
    "        Z1 = excess_tax_rev(tau_g, epsilon, tau_p, p_bar)\n",
    "        \n",
    "        # b: step 2: stop iteration when excess tax is as close to zero as possible. \n",
    "        if  np.abs(Z1) <= eps or t >= maxiter: #<= eps so we find a number 'close' to zero. \n",
    "            print(f'{t:3d}: tau_g = {tau_g:12.8f} -> excess tax revenue -> {Z1:14.8f}')\n",
    "            break    \n",
    "    \n",
    "        # c. step 3: update tau_g with scaled error factor\n",
    "        tau_g = tau_g - tau_g*kappa*Z1/total_tax_rev\n",
    "            \n",
    "        # d. step 4: return \n",
    "        if t < 5 or t%25 == 0:\n",
    "            print(f'{t:3d}: tau_g = {tau_g:12.8f} -> excess tax revenue -> {Z1:14.8f}')\n",
    "        elif t == 5:\n",
    "            print('   ...')\n",
    "            \n",
    "        t += 1    \n",
    "\n",
    "    return tau_g\n",
    "\n",
    "# f. call find equilibrium function\n",
    "kappa = 0.5\n",
    "eps = 1e-8\n",
    "tau_g = find_equilibrium(tau_g, epsilon, tau_p, p_bar,kappa=kappa,eps=eps)"
   ]
  },
  {
   "cell_type": "markdown",
   "metadata": {},
   "source": [
    "**Task:** Comment on the optimal tau_g."
   ]
  },
  {
   "cell_type": "markdown",
   "metadata": {},
   "source": [
    "In conclusion we find that the household will choose optimal housing = 4.16, which implies optimal consumption = 0.35 and utility = 0.74. Before the tax reform, the total tax revenue is 363.14, and the average tax burden per household is 0.036. The tax reform leads to an increase in the total tax revenue and an increase in the average tax burden per household, corresponding to a 24 pct. increase. If the policymaker wants to ensure a constant average tax burden per household after the tax reform, they could offset $tau_g$ such that $tau_g =0.0077 $."
   ]
  },
  {
   "cell_type": "markdown",
   "metadata": {},
   "source": [
    "\n"
   ]
  }
 ],
 "metadata": {
  "kernelspec": {
   "display_name": "Python 3",
   "language": "python",
   "name": "python3"
  },
  "language_info": {
   "codemirror_mode": {
    "name": "ipython",
    "version": 3
   },
   "file_extension": ".py",
   "mimetype": "text/x-python",
   "name": "python",
   "nbconvert_exporter": "python",
   "pygments_lexer": "ipython3",
   "version": "3.8.5"
  },
  "toc-autonumbering": true
 },
 "nbformat": 4,
 "nbformat_minor": 4
}