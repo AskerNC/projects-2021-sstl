{
 "cells": [
  {
   "cell_type": "markdown",
   "metadata": {},
   "source": [
    "# Inaugural Project 2021: Housing Demand and Taxation"
   ]
  },
  {
   "cell_type": "markdown",
   "metadata": {},
   "source": [
    "**Group:** SSTL\n",
    "\n",
    "**Members:** Louise Otte Arildsen (srb330), Signe Kolind (hmk792), Stine Fürst (qvj635) & Thomas Nielsen (qzw392)\n",
    "\n",
    "**Imports and set magics:**"
   ]
  },
  {
   "cell_type": "code",
   "execution_count": 2,
   "metadata": {},
   "outputs": [],
   "source": [
    "import numpy as np\n",
    "from scipy import optimize\n",
    "\n",
    "%matplotlib inline\n",
    "import matplotlib.pyplot as plt\n",
    "plt.style.use(\"seaborn\")\n",
    "\n",
    "import ipywidgets as widgets\n",
    "\n",
    "# autoreload modules when code is run\n",
    "%load_ext autoreload\n",
    "%autoreload 2\n",
    "\n",
    "# local modules\n",
    "import inauguralproject"
   ]
  },
  {
   "cell_type": "markdown",
   "metadata": {},
   "source": [
    "# Question 1"
   ]
  },
  {
   "cell_type": "markdown",
   "metadata": {},
   "source": [
    "**We consider a model for a household looking to buy a home. The following applies for the household:**\n",
    "* The household is endowed with an amount of cash, $m$, which can be spend on housing or consumption. \n",
    "* The household derives utility based on the quality, $h$, of the house, which price is determined by $p_{h}$. \n",
    "* The house is subject to progressive taxation and mortgage costs summarized by $\\tau(\\cdot)$.\n",
    "* The objective of the household is to find the optimal division of money spend on housing and consumption in order to maximize utility. \n",
    "\n",
    "**Model equations:**\n",
    "$$\n",
    "\\begin{align}\n",
    "c^{\\star}, h^{\\star} &=\\arg \\max _{c, h} c^{1-\\phi} h^{\\phi} \\\\\n",
    "& \\text { s.t. } \\\\\n",
    "\\widetilde{p}_{h} &=p_{h} \\varepsilon \\\\\n",
    "m &=\\tau\\left(p_{h}, \\widetilde{p}_{h}\\right)+c \\\\\n",
    "\\tau\\left(p_{h}, \\widetilde{p}_{h}\\right) &=r p_{h}+\\tau^{g} \\widetilde{p}_{h}+\\tau^{p} \\max \\left\\{\\widetilde{p}_{h}-\\bar{p}, 0\\right\\}\n",
    "\\end{align}\n",
    "$$\n",
    "\n",
    "**Explanation:** The mazimization problem of the household is to find the optimal allocation of money spend on consumption, $c$, and housing, given that the price of a house is equal to the house quality, $h$. \n",
    "Houses are taxed based on a public assesment, $\\tilde{p}_{h}$, which depends on the market value of the house $p_{h}$ and a factor $\\varepsilon$, which is politically set below 1. \n",
    "The household's cash endowment, $m$, is either spend on housing expenditures, $\\tau\\left(p_{h}, \\widetilde{p}_{h}\\right)$, or consumption, $c$. The housing expenditures are determined by a interest-only mortgage with interest rate, $r$, a base housing tax, $\\tau^{g}$, and a progressive housing tax, $\\tau^{p}$, levied on houses with a market value above the cutoff, $p$. "
   ]
  },
  {
   "cell_type": "markdown",
   "metadata": {},
   "source": [
    "By combining equation (2)-(4) and applying that $p_{h}=h$, we are able to write $c$ as a function of $h$ and thus contruct a univariate mazimization problem for the household:\n",
    "\n",
    "\n",
    "$ c=m-rh-\\tau^gh\\varepsilon-\\tau^pmax\\left\\{ h\\varepsilon-\\bar{p},0\\right\\} $\n",
    "\n",
    "$c^{\\star}, h^{\\star} =\\arg \\max _{h} (m-rh-\\tau^gh\\varepsilon-\\tau^pmax\\left\\{ h\\varepsilon-\\bar{p},0\\right\\})^{1-\\phi} h^{\\phi} $\n",
    "\n",
    "The optimizing function used to solve the maximization problem are defined in the following code."
   ]
  },
  {
   "cell_type": "markdown",
   "metadata": {},
   "source": [
    "**Questions:**\n",
    "\n",
    "How can we assign equation numbers in jupyterlab??\n"
   ]
  },
  {
   "cell_type": "code",
   "execution_count": 3,
   "metadata": {},
   "outputs": [
    {
     "output_type": "stream",
     "name": "stdout",
     "text": [
      "The agent will choose optimal housing = 4.16, which implies optimal consumption = 0.35 and utility = 0.74\n"
     ]
    }
   ],
   "source": [
    "#a. setting parameter values:\n",
    "m=0.5\n",
    "phi=0.3\n",
    "epsilon=0.5\n",
    "r=0.03\n",
    "tau_g=0.012\n",
    "tau_p=0.004\n",
    "p_bar=3\n",
    "\n",
    "\n",
    "# utility function\n",
    "def u_func(h, m, phi, epsilon, r, tau_g, tau_p, p_bar):\n",
    "    c=m-r*h - tau_g*h*epsilon - tau_p*max((h*epsilon-p_bar),0)\n",
    "    u = (c**(1-phi))*(h**phi)\n",
    "    return u\n",
    "\n",
    "\n",
    "# scalar optimiser function\n",
    "def u_optimiser(m, phi, epsilon, r, tau_g, tau_p, p_bar):\n",
    "\n",
    "    def objective(h, m, phi, epsilon, r, tau_g, tau_p, p_bar):\n",
    "        return -u_func(h=h[0], m=m, phi=phi, epsilon=epsilon, r=r, tau_g=tau_g, tau_p=tau_p, p_bar=p_bar)\n",
    "    \n",
    "    guess = [0.5]\n",
    "    Bc = lambda h: m - r*h[0] - tau_g*h[0]*epsilon - tau_p*max((h[0]*epsilon-p_bar),0)\n",
    "    sol = optimize.minimize(objective,guess,bounds=[(0,np.inf)],args=(m, phi, epsilon, r, tau_g, tau_p, p_bar),constraints={'type':'ineq','fun':Bc})\n",
    "        \n",
    "\n",
    "    h_star = sol.x[0]\n",
    "    c_star = m-r*h_star - tau_g*h_star*epsilon - tau_p*max(h_star*epsilon-p_bar,0)\n",
    "    u_star = u_func(h=h_star,m=m, phi=phi, epsilon=epsilon, r=r, tau_g=tau_g, tau_p=tau_p, p_bar=p_bar)\n",
    "    return h_star, c_star, u_star\n",
    "\n",
    "#b. solve maximization problem \n",
    "h_star, c_star, u_star = u_optimiser(m, phi, epsilon, r, tau_g, tau_p, p_bar)\n",
    "\n",
    "# c. print solution for optimal choice of money spend on housing and consumption\n",
    "print(f'The agent will choose optimal housing = {h_star:.2f}, which implies optimal consumption = {c_star:.2f} and utility = {u_star:.2f}')"
   ]
  },
  {
   "cell_type": "markdown",
   "metadata": {},
   "source": [
    "**Question:**\n",
    "\n",
    "How can we control than c is greater than zero?\n",
    "\n",
    "**Comments:**\n",
    "\n",
    "Would be nice if we wrote explanation of the functions \"\"\" \"\"\". "
   ]
  },
  {
   "cell_type": "markdown",
   "metadata": {},
   "source": [
    "# Question 2"
   ]
  },
  {
   "cell_type": "markdown",
   "metadata": {},
   "source": [
    "We want to plot $c^{\\star}$ and $h^{\\star}$ as functions of $m$ in the range 0.4 to 1.5."
   ]
  },
  {
   "cell_type": "code",
   "execution_count": 4,
   "metadata": {},
   "outputs": [
    {
     "output_type": "display_data",
     "data": {
      "text/plain": "<Figure size 720x288 with 2 Axes>",
      "image/svg+xml": "<?xml version=\"1.0\" encoding=\"utf-8\" standalone=\"no\"?>\r\n<!DOCTYPE svg PUBLIC \"-//W3C//DTD SVG 1.1//EN\"\r\n  \"http://www.w3.org/Graphics/SVG/1.1/DTD/svg11.dtd\">\r\n<!-- Created with matplotlib (https://matplotlib.org/) -->\r\n<svg height=\"276.780781pt\" version=\"1.1\" viewBox=\"0 0 604.581719 276.780781\" width=\"604.581719pt\" xmlns=\"http://www.w3.org/2000/svg\" xmlns:xlink=\"http://www.w3.org/1999/xlink\">\r\n <metadata>\r\n  <rdf:RDF xmlns:cc=\"http://creativecommons.org/ns#\" xmlns:dc=\"http://purl.org/dc/elements/1.1/\" xmlns:rdf=\"http://www.w3.org/1999/02/22-rdf-syntax-ns#\">\r\n   <cc:Work>\r\n    <dc:type rdf:resource=\"http://purl.org/dc/dcmitype/StillImage\"/>\r\n    <dc:date>2021-03-18T21:29:17.973010</dc:date>\r\n    <dc:format>image/svg+xml</dc:format>\r\n    <dc:creator>\r\n     <cc:Agent>\r\n      <dc:title>Matplotlib v3.3.2, https://matplotlib.org/</dc:title>\r\n     </cc:Agent>\r\n    </dc:creator>\r\n   </cc:Work>\r\n  </rdf:RDF>\r\n </metadata>\r\n <defs>\r\n  <style type=\"text/css\">*{stroke-linecap:butt;stroke-linejoin:round;}</style>\r\n </defs>\r\n <g id=\"figure_1\">\r\n  <g id=\"patch_1\">\r\n   <path d=\"M 0 276.780781 \r\nL 604.581719 276.780781 \r\nL 604.581719 0 \r\nL 0 0 \r\nz\r\n\" style=\"fill:#ffffff;\"/>\r\n  </g>\r\n  <g id=\"axes_1\">\r\n   <g id=\"patch_2\">\r\n    <path d=\"M 39.381719 239.375625 \r\nL 293.018082 239.375625 \r\nL 293.018082 21.935625 \r\nL 39.381719 21.935625 \r\nz\r\n\" style=\"fill:#eaeaf2;\"/>\r\n   </g>\r\n   <g id=\"matplotlib.axis_1\">\r\n    <g id=\"xtick_1\">\r\n     <g id=\"line2d_1\">\r\n      <path clip-path=\"url(#p195202e42b)\" d=\"M 76.530479 239.375625 \r\nL 76.530479 21.935625 \r\n\" style=\"fill:none;stroke:#ffffff;stroke-linecap:round;\"/>\r\n     </g>\r\n     <g id=\"line2d_2\"/>\r\n     <g id=\"text_1\">\r\n      <!-- 0.6 -->\r\n      <g style=\"fill:#262626;\" transform=\"translate(69.580479 253.533438)scale(0.1 -0.1)\">\r\n       <defs>\r\n        <path d=\"M 4.15625 35.296875 \r\nQ 4.15625 48 6.765625 55.734375 \r\nQ 9.375 63.484375 14.515625 67.671875 \r\nQ 19.671875 71.875 27.484375 71.875 \r\nQ 33.25 71.875 37.59375 69.546875 \r\nQ 41.9375 67.234375 44.765625 62.859375 \r\nQ 47.609375 58.5 49.21875 52.21875 \r\nQ 50.828125 45.953125 50.828125 35.296875 \r\nQ 50.828125 22.703125 48.234375 14.96875 \r\nQ 45.65625 7.234375 40.5 3 \r\nQ 35.359375 -1.21875 27.484375 -1.21875 \r\nQ 17.140625 -1.21875 11.234375 6.203125 \r\nQ 4.15625 15.140625 4.15625 35.296875 \r\nz\r\nM 13.1875 35.296875 \r\nQ 13.1875 17.671875 17.3125 11.828125 \r\nQ 21.4375 6 27.484375 6 \r\nQ 33.546875 6 37.671875 11.859375 \r\nQ 41.796875 17.71875 41.796875 35.296875 \r\nQ 41.796875 52.984375 37.671875 58.78125 \r\nQ 33.546875 64.59375 27.390625 64.59375 \r\nQ 21.34375 64.59375 17.71875 59.46875 \r\nQ 13.1875 52.9375 13.1875 35.296875 \r\nz\r\n\" id=\"ArialMT-48\"/>\r\n        <path d=\"M 9.078125 0 \r\nL 9.078125 10.015625 \r\nL 19.09375 10.015625 \r\nL 19.09375 0 \r\nz\r\n\" id=\"ArialMT-46\"/>\r\n        <path d=\"M 49.75 54.046875 \r\nL 41.015625 53.375 \r\nQ 39.84375 58.546875 37.703125 60.890625 \r\nQ 34.125 64.65625 28.90625 64.65625 \r\nQ 24.703125 64.65625 21.53125 62.3125 \r\nQ 17.390625 59.28125 14.984375 53.46875 \r\nQ 12.59375 47.65625 12.5 36.921875 \r\nQ 15.671875 41.75 20.265625 44.09375 \r\nQ 24.859375 46.4375 29.890625 46.4375 \r\nQ 38.671875 46.4375 44.84375 39.96875 \r\nQ 51.03125 33.5 51.03125 23.25 \r\nQ 51.03125 16.5 48.125 10.71875 \r\nQ 45.21875 4.9375 40.140625 1.859375 \r\nQ 35.0625 -1.21875 28.609375 -1.21875 \r\nQ 17.625 -1.21875 10.6875 6.859375 \r\nQ 3.765625 14.9375 3.765625 33.5 \r\nQ 3.765625 54.25 11.421875 63.671875 \r\nQ 18.109375 71.875 29.4375 71.875 \r\nQ 37.890625 71.875 43.28125 67.140625 \r\nQ 48.6875 62.40625 49.75 54.046875 \r\nz\r\nM 13.875 23.1875 \r\nQ 13.875 18.65625 15.796875 14.5 \r\nQ 17.71875 10.359375 21.1875 8.171875 \r\nQ 24.65625 6 28.46875 6 \r\nQ 34.03125 6 38.03125 10.484375 \r\nQ 42.046875 14.984375 42.046875 22.703125 \r\nQ 42.046875 30.125 38.078125 34.390625 \r\nQ 34.125 38.671875 28.125 38.671875 \r\nQ 22.171875 38.671875 18.015625 34.390625 \r\nQ 13.875 30.125 13.875 23.1875 \r\nz\r\n\" id=\"ArialMT-54\"/>\r\n       </defs>\r\n       <use xlink:href=\"#ArialMT-48\"/>\r\n       <use x=\"55.615234\" xlink:href=\"#ArialMT-46\"/>\r\n       <use x=\"83.398438\" xlink:href=\"#ArialMT-54\"/>\r\n      </g>\r\n     </g>\r\n    </g>\r\n    <g id=\"xtick_2\">\r\n     <g id=\"line2d_3\">\r\n      <path clip-path=\"url(#p195202e42b)\" d=\"M 127.770149 239.375625 \r\nL 127.770149 21.935625 \r\n\" style=\"fill:none;stroke:#ffffff;stroke-linecap:round;\"/>\r\n     </g>\r\n     <g id=\"line2d_4\"/>\r\n     <g id=\"text_2\">\r\n      <!-- 0.8 -->\r\n      <g style=\"fill:#262626;\" transform=\"translate(120.820149 253.533438)scale(0.1 -0.1)\">\r\n       <defs>\r\n        <path d=\"M 17.671875 38.8125 \r\nQ 12.203125 40.828125 9.5625 44.53125 \r\nQ 6.9375 48.25 6.9375 53.421875 \r\nQ 6.9375 61.234375 12.546875 66.546875 \r\nQ 18.171875 71.875 27.484375 71.875 \r\nQ 36.859375 71.875 42.578125 66.421875 \r\nQ 48.296875 60.984375 48.296875 53.171875 \r\nQ 48.296875 48.1875 45.671875 44.5 \r\nQ 43.0625 40.828125 37.75 38.8125 \r\nQ 44.34375 36.671875 47.78125 31.875 \r\nQ 51.21875 27.09375 51.21875 20.453125 \r\nQ 51.21875 11.28125 44.71875 5.03125 \r\nQ 38.234375 -1.21875 27.640625 -1.21875 \r\nQ 17.046875 -1.21875 10.546875 5.046875 \r\nQ 4.046875 11.328125 4.046875 20.703125 \r\nQ 4.046875 27.6875 7.59375 32.390625 \r\nQ 11.140625 37.109375 17.671875 38.8125 \r\nz\r\nM 15.921875 53.71875 \r\nQ 15.921875 48.640625 19.1875 45.40625 \r\nQ 22.46875 42.1875 27.6875 42.1875 \r\nQ 32.765625 42.1875 36.015625 45.375 \r\nQ 39.265625 48.578125 39.265625 53.21875 \r\nQ 39.265625 58.0625 35.90625 61.359375 \r\nQ 32.5625 64.65625 27.59375 64.65625 \r\nQ 22.5625 64.65625 19.234375 61.421875 \r\nQ 15.921875 58.203125 15.921875 53.71875 \r\nz\r\nM 13.09375 20.65625 \r\nQ 13.09375 16.890625 14.875 13.375 \r\nQ 16.65625 9.859375 20.171875 7.921875 \r\nQ 23.6875 6 27.734375 6 \r\nQ 34.03125 6 38.125 10.046875 \r\nQ 42.234375 14.109375 42.234375 20.359375 \r\nQ 42.234375 26.703125 38.015625 30.859375 \r\nQ 33.796875 35.015625 27.4375 35.015625 \r\nQ 21.234375 35.015625 17.15625 30.90625 \r\nQ 13.09375 26.8125 13.09375 20.65625 \r\nz\r\n\" id=\"ArialMT-56\"/>\r\n       </defs>\r\n       <use xlink:href=\"#ArialMT-48\"/>\r\n       <use x=\"55.615234\" xlink:href=\"#ArialMT-46\"/>\r\n       <use x=\"83.398438\" xlink:href=\"#ArialMT-56\"/>\r\n      </g>\r\n     </g>\r\n    </g>\r\n    <g id=\"xtick_3\">\r\n     <g id=\"line2d_5\">\r\n      <path clip-path=\"url(#p195202e42b)\" d=\"M 179.009818 239.375625 \r\nL 179.009818 21.935625 \r\n\" style=\"fill:none;stroke:#ffffff;stroke-linecap:round;\"/>\r\n     </g>\r\n     <g id=\"line2d_6\"/>\r\n     <g id=\"text_3\">\r\n      <!-- 1.0 -->\r\n      <g style=\"fill:#262626;\" transform=\"translate(172.059818 253.533438)scale(0.1 -0.1)\">\r\n       <defs>\r\n        <path d=\"M 37.25 0 \r\nL 28.46875 0 \r\nL 28.46875 56 \r\nQ 25.296875 52.984375 20.140625 49.953125 \r\nQ 14.984375 46.921875 10.890625 45.40625 \r\nL 10.890625 53.90625 \r\nQ 18.265625 57.375 23.78125 62.296875 \r\nQ 29.296875 67.234375 31.59375 71.875 \r\nL 37.25 71.875 \r\nz\r\n\" id=\"ArialMT-49\"/>\r\n       </defs>\r\n       <use xlink:href=\"#ArialMT-49\"/>\r\n       <use x=\"55.615234\" xlink:href=\"#ArialMT-46\"/>\r\n       <use x=\"83.398438\" xlink:href=\"#ArialMT-48\"/>\r\n      </g>\r\n     </g>\r\n    </g>\r\n    <g id=\"xtick_4\">\r\n     <g id=\"line2d_7\">\r\n      <path clip-path=\"url(#p195202e42b)\" d=\"M 230.249487 239.375625 \r\nL 230.249487 21.935625 \r\n\" style=\"fill:none;stroke:#ffffff;stroke-linecap:round;\"/>\r\n     </g>\r\n     <g id=\"line2d_8\"/>\r\n     <g id=\"text_4\">\r\n      <!-- 1.2 -->\r\n      <g style=\"fill:#262626;\" transform=\"translate(223.299487 253.533438)scale(0.1 -0.1)\">\r\n       <defs>\r\n        <path d=\"M 50.34375 8.453125 \r\nL 50.34375 0 \r\nL 3.03125 0 \r\nQ 2.9375 3.171875 4.046875 6.109375 \r\nQ 5.859375 10.9375 9.828125 15.625 \r\nQ 13.8125 20.3125 21.34375 26.46875 \r\nQ 33.015625 36.03125 37.109375 41.625 \r\nQ 41.21875 47.21875 41.21875 52.203125 \r\nQ 41.21875 57.421875 37.46875 61 \r\nQ 33.734375 64.59375 27.734375 64.59375 \r\nQ 21.390625 64.59375 17.578125 60.78125 \r\nQ 13.765625 56.984375 13.71875 50.25 \r\nL 4.6875 51.171875 \r\nQ 5.609375 61.28125 11.65625 66.578125 \r\nQ 17.71875 71.875 27.9375 71.875 \r\nQ 38.234375 71.875 44.234375 66.15625 \r\nQ 50.25 60.453125 50.25 52 \r\nQ 50.25 47.703125 48.484375 43.546875 \r\nQ 46.734375 39.40625 42.65625 34.8125 \r\nQ 38.578125 30.21875 29.109375 22.21875 \r\nQ 21.1875 15.578125 18.9375 13.203125 \r\nQ 16.703125 10.84375 15.234375 8.453125 \r\nz\r\n\" id=\"ArialMT-50\"/>\r\n       </defs>\r\n       <use xlink:href=\"#ArialMT-49\"/>\r\n       <use x=\"55.615234\" xlink:href=\"#ArialMT-46\"/>\r\n       <use x=\"83.398438\" xlink:href=\"#ArialMT-50\"/>\r\n      </g>\r\n     </g>\r\n    </g>\r\n    <g id=\"xtick_5\">\r\n     <g id=\"line2d_9\">\r\n      <path clip-path=\"url(#p195202e42b)\" d=\"M 281.489157 239.375625 \r\nL 281.489157 21.935625 \r\n\" style=\"fill:none;stroke:#ffffff;stroke-linecap:round;\"/>\r\n     </g>\r\n     <g id=\"line2d_10\"/>\r\n     <g id=\"text_5\">\r\n      <!-- 1.4 -->\r\n      <g style=\"fill:#262626;\" transform=\"translate(274.539157 253.533438)scale(0.1 -0.1)\">\r\n       <defs>\r\n        <path d=\"M 32.328125 0 \r\nL 32.328125 17.140625 \r\nL 1.265625 17.140625 \r\nL 1.265625 25.203125 \r\nL 33.9375 71.578125 \r\nL 41.109375 71.578125 \r\nL 41.109375 25.203125 \r\nL 50.78125 25.203125 \r\nL 50.78125 17.140625 \r\nL 41.109375 17.140625 \r\nL 41.109375 0 \r\nz\r\nM 32.328125 25.203125 \r\nL 32.328125 57.46875 \r\nL 9.90625 25.203125 \r\nz\r\n\" id=\"ArialMT-52\"/>\r\n       </defs>\r\n       <use xlink:href=\"#ArialMT-49\"/>\r\n       <use x=\"55.615234\" xlink:href=\"#ArialMT-46\"/>\r\n       <use x=\"83.398438\" xlink:href=\"#ArialMT-52\"/>\r\n      </g>\r\n     </g>\r\n    </g>\r\n    <g id=\"text_6\">\r\n     <!-- $m$ -->\r\n     <g style=\"fill:#262626;\" transform=\"translate(160.809901 267.394531)scale(0.11 -0.11)\">\r\n      <defs>\r\n       <path d=\"M 89.796875 33.015625 \r\nL 83.40625 0 \r\nL 74.421875 0 \r\nL 80.71875 32.71875 \r\nQ 81.109375 34.8125 81.296875 36.328125 \r\nQ 81.5 37.84375 81.5 38.921875 \r\nQ 81.5 43.3125 79.046875 45.75 \r\nQ 76.609375 48.1875 72.21875 48.1875 \r\nQ 65.671875 48.1875 60.546875 43.28125 \r\nQ 55.421875 38.375 53.90625 30.515625 \r\nL 47.90625 0 \r\nL 38.921875 0 \r\nL 45.3125 32.71875 \r\nQ 45.703125 34.515625 45.890625 36.046875 \r\nQ 46.09375 37.59375 46.09375 38.8125 \r\nQ 46.09375 43.265625 43.65625 45.71875 \r\nQ 41.21875 48.1875 36.921875 48.1875 \r\nQ 30.28125 48.1875 25.140625 43.28125 \r\nQ 20.015625 38.375 18.5 30.515625 \r\nL 12.5 0 \r\nL 3.515625 0 \r\nL 14.203125 54.6875 \r\nL 23.1875 54.6875 \r\nL 21.484375 46.1875 \r\nQ 25.140625 50.984375 30.046875 53.484375 \r\nQ 34.96875 56 40.578125 56 \r\nQ 46.53125 56 50.359375 52.875 \r\nQ 54.203125 49.75 54.984375 44.1875 \r\nQ 59.078125 49.953125 64.46875 52.96875 \r\nQ 69.875 56 75.875 56 \r\nQ 82.90625 56 86.734375 51.953125 \r\nQ 90.578125 47.90625 90.578125 40.484375 \r\nQ 90.578125 38.875 90.375 36.9375 \r\nQ 90.1875 35.015625 89.796875 33.015625 \r\nz\r\n\" id=\"DejaVuSans-Oblique-109\"/>\r\n      </defs>\r\n      <use xlink:href=\"#DejaVuSans-Oblique-109\"/>\r\n     </g>\r\n    </g>\r\n   </g>\r\n   <g id=\"matplotlib.axis_2\">\r\n    <g id=\"ytick_1\">\r\n     <g id=\"line2d_11\">\r\n      <path clip-path=\"url(#p195202e42b)\" d=\"M 39.381719 234.086661 \r\nL 293.018082 234.086661 \r\n\" style=\"fill:none;stroke:#ffffff;stroke-linecap:round;\"/>\r\n     </g>\r\n     <g id=\"line2d_12\"/>\r\n     <g id=\"text_7\">\r\n      <!-- 4 -->\r\n      <g style=\"fill:#262626;\" transform=\"translate(26.820781 237.665567)scale(0.1 -0.1)\">\r\n       <use xlink:href=\"#ArialMT-52\"/>\r\n      </g>\r\n     </g>\r\n    </g>\r\n    <g id=\"ytick_2\">\r\n     <g id=\"line2d_13\">\r\n      <path clip-path=\"url(#p195202e42b)\" d=\"M 39.381719 205.785291 \r\nL 293.018082 205.785291 \r\n\" style=\"fill:none;stroke:#ffffff;stroke-linecap:round;\"/>\r\n     </g>\r\n     <g id=\"line2d_14\"/>\r\n     <g id=\"text_8\">\r\n      <!-- 5 -->\r\n      <g style=\"fill:#262626;\" transform=\"translate(26.820781 209.364197)scale(0.1 -0.1)\">\r\n       <defs>\r\n        <path d=\"M 4.15625 18.75 \r\nL 13.375 19.53125 \r\nQ 14.40625 12.796875 18.140625 9.390625 \r\nQ 21.875 6 27.15625 6 \r\nQ 33.5 6 37.890625 10.78125 \r\nQ 42.28125 15.578125 42.28125 23.484375 \r\nQ 42.28125 31 38.0625 35.34375 \r\nQ 33.84375 39.703125 27 39.703125 \r\nQ 22.75 39.703125 19.328125 37.765625 \r\nQ 15.921875 35.84375 13.96875 32.765625 \r\nL 5.71875 33.84375 \r\nL 12.640625 70.609375 \r\nL 48.25 70.609375 \r\nL 48.25 62.203125 \r\nL 19.671875 62.203125 \r\nL 15.828125 42.96875 \r\nQ 22.265625 47.46875 29.34375 47.46875 \r\nQ 38.71875 47.46875 45.15625 40.96875 \r\nQ 51.609375 34.46875 51.609375 24.265625 \r\nQ 51.609375 14.546875 45.953125 7.46875 \r\nQ 39.0625 -1.21875 27.15625 -1.21875 \r\nQ 17.390625 -1.21875 11.203125 4.25 \r\nQ 5.03125 9.71875 4.15625 18.75 \r\nz\r\n\" id=\"ArialMT-53\"/>\r\n       </defs>\r\n       <use xlink:href=\"#ArialMT-53\"/>\r\n      </g>\r\n     </g>\r\n    </g>\r\n    <g id=\"ytick_3\">\r\n     <g id=\"line2d_15\">\r\n      <path clip-path=\"url(#p195202e42b)\" d=\"M 39.381719 177.483921 \r\nL 293.018082 177.483921 \r\n\" style=\"fill:none;stroke:#ffffff;stroke-linecap:round;\"/>\r\n     </g>\r\n     <g id=\"line2d_16\"/>\r\n     <g id=\"text_9\">\r\n      <!-- 6 -->\r\n      <g style=\"fill:#262626;\" transform=\"translate(26.820781 181.062827)scale(0.1 -0.1)\">\r\n       <use xlink:href=\"#ArialMT-54\"/>\r\n      </g>\r\n     </g>\r\n    </g>\r\n    <g id=\"ytick_4\">\r\n     <g id=\"line2d_17\">\r\n      <path clip-path=\"url(#p195202e42b)\" d=\"M 39.381719 149.182551 \r\nL 293.018082 149.182551 \r\n\" style=\"fill:none;stroke:#ffffff;stroke-linecap:round;\"/>\r\n     </g>\r\n     <g id=\"line2d_18\"/>\r\n     <g id=\"text_10\">\r\n      <!-- 7 -->\r\n      <g style=\"fill:#262626;\" transform=\"translate(26.820781 152.761457)scale(0.1 -0.1)\">\r\n       <defs>\r\n        <path d=\"M 4.734375 62.203125 \r\nL 4.734375 70.65625 \r\nL 51.078125 70.65625 \r\nL 51.078125 63.8125 \r\nQ 44.234375 56.546875 37.515625 44.484375 \r\nQ 30.8125 32.421875 27.15625 19.671875 \r\nQ 24.515625 10.6875 23.78125 0 \r\nL 14.75 0 \r\nQ 14.890625 8.453125 18.0625 20.40625 \r\nQ 21.234375 32.375 27.171875 43.484375 \r\nQ 33.109375 54.59375 39.796875 62.203125 \r\nz\r\n\" id=\"ArialMT-55\"/>\r\n       </defs>\r\n       <use xlink:href=\"#ArialMT-55\"/>\r\n      </g>\r\n     </g>\r\n    </g>\r\n    <g id=\"ytick_5\">\r\n     <g id=\"line2d_19\">\r\n      <path clip-path=\"url(#p195202e42b)\" d=\"M 39.381719 120.881181 \r\nL 293.018082 120.881181 \r\n\" style=\"fill:none;stroke:#ffffff;stroke-linecap:round;\"/>\r\n     </g>\r\n     <g id=\"line2d_20\"/>\r\n     <g id=\"text_11\">\r\n      <!-- 8 -->\r\n      <g style=\"fill:#262626;\" transform=\"translate(26.820781 124.460088)scale(0.1 -0.1)\">\r\n       <use xlink:href=\"#ArialMT-56\"/>\r\n      </g>\r\n     </g>\r\n    </g>\r\n    <g id=\"ytick_6\">\r\n     <g id=\"line2d_21\">\r\n      <path clip-path=\"url(#p195202e42b)\" d=\"M 39.381719 92.579812 \r\nL 293.018082 92.579812 \r\n\" style=\"fill:none;stroke:#ffffff;stroke-linecap:round;\"/>\r\n     </g>\r\n     <g id=\"line2d_22\"/>\r\n     <g id=\"text_12\">\r\n      <!-- 9 -->\r\n      <g style=\"fill:#262626;\" transform=\"translate(26.820781 96.158718)scale(0.1 -0.1)\">\r\n       <defs>\r\n        <path d=\"M 5.46875 16.546875 \r\nL 13.921875 17.328125 \r\nQ 14.984375 11.375 18.015625 8.6875 \r\nQ 21.046875 6 25.78125 6 \r\nQ 29.828125 6 32.875 7.859375 \r\nQ 35.9375 9.71875 37.890625 12.8125 \r\nQ 39.84375 15.921875 41.15625 21.1875 \r\nQ 42.484375 26.46875 42.484375 31.9375 \r\nQ 42.484375 32.515625 42.4375 33.6875 \r\nQ 39.796875 29.5 35.234375 26.875 \r\nQ 30.671875 24.265625 25.34375 24.265625 \r\nQ 16.453125 24.265625 10.296875 30.703125 \r\nQ 4.15625 37.15625 4.15625 47.703125 \r\nQ 4.15625 58.59375 10.578125 65.234375 \r\nQ 17 71.875 26.65625 71.875 \r\nQ 33.640625 71.875 39.421875 68.109375 \r\nQ 45.21875 64.359375 48.21875 57.390625 \r\nQ 51.21875 50.4375 51.21875 37.25 \r\nQ 51.21875 23.53125 48.234375 15.40625 \r\nQ 45.265625 7.28125 39.375 3.03125 \r\nQ 33.5 -1.21875 25.59375 -1.21875 \r\nQ 17.1875 -1.21875 11.859375 3.4375 \r\nQ 6.546875 8.109375 5.46875 16.546875 \r\nz\r\nM 41.453125 48.140625 \r\nQ 41.453125 55.71875 37.421875 60.15625 \r\nQ 33.40625 64.59375 27.734375 64.59375 \r\nQ 21.875 64.59375 17.53125 59.8125 \r\nQ 13.1875 55.03125 13.1875 47.40625 \r\nQ 13.1875 40.578125 17.3125 36.296875 \r\nQ 21.4375 32.03125 27.484375 32.03125 \r\nQ 33.59375 32.03125 37.515625 36.296875 \r\nQ 41.453125 40.578125 41.453125 48.140625 \r\nz\r\n\" id=\"ArialMT-57\"/>\r\n       </defs>\r\n       <use xlink:href=\"#ArialMT-57\"/>\r\n      </g>\r\n     </g>\r\n    </g>\r\n    <g id=\"ytick_7\">\r\n     <g id=\"line2d_23\">\r\n      <path clip-path=\"url(#p195202e42b)\" d=\"M 39.381719 64.278442 \r\nL 293.018082 64.278442 \r\n\" style=\"fill:none;stroke:#ffffff;stroke-linecap:round;\"/>\r\n     </g>\r\n     <g id=\"line2d_24\"/>\r\n     <g id=\"text_13\">\r\n      <!-- 10 -->\r\n      <g style=\"fill:#262626;\" transform=\"translate(21.259844 67.857348)scale(0.1 -0.1)\">\r\n       <use xlink:href=\"#ArialMT-49\"/>\r\n       <use x=\"55.615234\" xlink:href=\"#ArialMT-48\"/>\r\n      </g>\r\n     </g>\r\n    </g>\r\n    <g id=\"ytick_8\">\r\n     <g id=\"line2d_25\">\r\n      <path clip-path=\"url(#p195202e42b)\" d=\"M 39.381719 35.977072 \r\nL 293.018082 35.977072 \r\n\" style=\"fill:none;stroke:#ffffff;stroke-linecap:round;\"/>\r\n     </g>\r\n     <g id=\"line2d_26\"/>\r\n     <g id=\"text_14\">\r\n      <!-- 11 -->\r\n      <g style=\"fill:#262626;\" transform=\"translate(21.997344 39.555978)scale(0.1 -0.1)\">\r\n       <use xlink:href=\"#ArialMT-49\"/>\r\n       <use x=\"48.240234\" xlink:href=\"#ArialMT-49\"/>\r\n      </g>\r\n     </g>\r\n    </g>\r\n    <g id=\"text_15\">\r\n     <!-- $h$ -->\r\n     <g style=\"fill:#262626;\" transform=\"translate(15.073594 134.175625)rotate(-90)scale(0.11 -0.11)\">\r\n      <defs>\r\n       <path d=\"M 55.71875 33.015625 \r\nL 49.3125 0 \r\nL 40.28125 0 \r\nL 46.6875 32.671875 \r\nQ 47.125 34.96875 47.359375 36.71875 \r\nQ 47.609375 38.484375 47.609375 39.5 \r\nQ 47.609375 43.609375 45.015625 45.890625 \r\nQ 42.4375 48.1875 37.796875 48.1875 \r\nQ 30.5625 48.1875 25.265625 43.296875 \r\nQ 19.96875 38.421875 18.40625 30.328125 \r\nL 12.5 0 \r\nL 3.515625 0 \r\nL 18.3125 75.984375 \r\nL 27.296875 75.984375 \r\nL 21.484375 46.09375 \r\nQ 24.90625 50.6875 30.21875 53.34375 \r\nQ 35.546875 56 41.40625 56 \r\nQ 48.640625 56 52.609375 52.09375 \r\nQ 56.59375 48.1875 56.59375 41.109375 \r\nQ 56.59375 39.359375 56.375 37.359375 \r\nQ 56.15625 35.359375 55.71875 33.015625 \r\nz\r\n\" id=\"DejaVuSans-Oblique-104\"/>\r\n      </defs>\r\n      <use transform=\"translate(0 0.015625)\" xlink:href=\"#DejaVuSans-Oblique-104\"/>\r\n     </g>\r\n    </g>\r\n   </g>\r\n   <g id=\"line2d_27\">\r\n    <path clip-path=\"url(#p195202e42b)\" d=\"M 50.910644 229.491989 \r\nL 53.23972 227.362026 \r\nL 55.568796 225.233191 \r\nL 57.897872 223.105526 \r\nL 60.226948 220.979029 \r\nL 62.556024 218.853812 \r\nL 64.8851 216.508627 \r\nL 67.214176 214.365007 \r\nL 69.543251 212.221501 \r\nL 71.872327 210.077992 \r\nL 74.201403 207.934601 \r\nL 76.530479 205.791258 \r\nL 78.859555 203.647963 \r\nL 81.188631 201.504774 \r\nL 83.517707 199.36162 \r\nL 85.846783 197.218625 \r\nL 88.175858 195.075632 \r\nL 90.504934 192.932784 \r\nL 92.83401 190.789992 \r\nL 95.163086 188.647322 \r\nL 97.492162 186.504773 \r\nL 99.821238 184.362386 \r\nL 102.150314 182.220053 \r\nL 104.47939 180.077898 \r\nL 106.808466 177.935896 \r\nL 109.137541 177.49152 \r\nL 111.466617 177.483523 \r\nL 113.795693 177.354731 \r\nL 116.124769 176.024571 \r\nL 118.453845 173.996589 \r\nL 120.782921 171.966538 \r\nL 123.111997 169.936538 \r\nL 125.441073 167.906706 \r\nL 127.770149 165.87695 \r\nL 130.099224 163.847401 \r\nL 132.4283 161.817947 \r\nL 134.757376 159.788736 \r\nL 137.086452 157.759514 \r\nL 139.415528 155.730526 \r\nL 141.744604 153.701567 \r\nL 144.07368 151.672984 \r\nL 146.402756 149.644442 \r\nL 148.731831 147.616098 \r\nL 151.060907 145.587945 \r\nL 153.389983 143.55996 \r\nL 155.719059 141.532165 \r\nL 158.048135 139.50461 \r\nL 160.377211 137.477239 \r\nL 162.706287 135.450068 \r\nL 165.035363 133.42306 \r\nL 167.364439 131.396344 \r\nL 169.693514 129.410415 \r\nL 172.02259 127.385357 \r\nL 174.351666 125.360434 \r\nL 176.680742 123.335878 \r\nL 179.009818 121.311546 \r\nL 181.338894 119.287484 \r\nL 183.66797 117.263596 \r\nL 185.997046 115.240018 \r\nL 188.326121 113.216799 \r\nL 190.655197 111.193806 \r\nL 192.984273 109.171084 \r\nL 195.313349 107.148686 \r\nL 197.642425 105.126611 \r\nL 199.971501 103.104813 \r\nL 202.300577 101.083386 \r\nL 204.629653 99.062129 \r\nL 206.958729 97.041324 \r\nL 209.287804 95.020824 \r\nL 211.61688 93.000677 \r\nL 213.945956 90.980841 \r\nL 216.275032 88.961149 \r\nL 218.604108 86.94219 \r\nL 220.933184 84.92338 \r\nL 223.26226 82.589733 \r\nL 225.591336 80.558787 \r\nL 227.920411 78.527865 \r\nL 230.249487 76.496896 \r\nL 232.578563 74.465816 \r\nL 234.907639 72.43496 \r\nL 237.236715 70.403935 \r\nL 239.565791 68.373078 \r\nL 241.894867 66.342254 \r\nL 244.223943 64.311199 \r\nL 246.553019 62.280439 \r\nL 248.882094 60.249638 \r\nL 251.21117 58.218771 \r\nL 253.540246 56.187875 \r\nL 255.869322 54.1571 \r\nL 258.198398 52.126333 \r\nL 260.527474 50.095509 \r\nL 262.85655 48.064712 \r\nL 265.185626 46.033926 \r\nL 267.514701 44.003264 \r\nL 269.843777 41.972594 \r\nL 272.172853 39.941855 \r\nL 274.501929 37.911079 \r\nL 276.831005 35.880537 \r\nL 279.160081 33.849985 \r\nL 281.489157 31.819261 \r\n\" style=\"fill:none;stroke:#4c72b0;stroke-linecap:round;stroke-width:1.75;\"/>\r\n   </g>\r\n   <g id=\"patch_3\">\r\n    <path d=\"M 39.381719 239.375625 \r\nL 39.381719 21.935625 \r\n\" style=\"fill:none;\"/>\r\n   </g>\r\n   <g id=\"patch_4\">\r\n    <path d=\"M 293.018082 239.375625 \r\nL 293.018082 21.935625 \r\n\" style=\"fill:none;\"/>\r\n   </g>\r\n   <g id=\"patch_5\">\r\n    <path d=\"M 39.381719 239.375625 \r\nL 293.018082 239.375625 \r\n\" style=\"fill:none;\"/>\r\n   </g>\r\n   <g id=\"patch_6\">\r\n    <path d=\"M 39.381719 21.935625 \r\nL 293.018082 21.935625 \r\n\" style=\"fill:none;\"/>\r\n   </g>\r\n   <g id=\"text_16\">\r\n    <!-- Housing -->\r\n    <g style=\"fill:#262626;\" transform=\"translate(144.187401 15.935625)scale(0.12 -0.12)\">\r\n     <defs>\r\n      <path d=\"M 8.015625 0 \r\nL 8.015625 71.578125 \r\nL 17.484375 71.578125 \r\nL 17.484375 42.1875 \r\nL 54.6875 42.1875 \r\nL 54.6875 71.578125 \r\nL 64.15625 71.578125 \r\nL 64.15625 0 \r\nL 54.6875 0 \r\nL 54.6875 33.734375 \r\nL 17.484375 33.734375 \r\nL 17.484375 0 \r\nz\r\n\" id=\"ArialMT-72\"/>\r\n      <path d=\"M 3.328125 25.921875 \r\nQ 3.328125 40.328125 11.328125 47.265625 \r\nQ 18.015625 53.03125 27.640625 53.03125 \r\nQ 38.328125 53.03125 45.109375 46.015625 \r\nQ 51.90625 39.015625 51.90625 26.65625 \r\nQ 51.90625 16.65625 48.90625 10.90625 \r\nQ 45.90625 5.171875 40.15625 2 \r\nQ 34.421875 -1.171875 27.640625 -1.171875 \r\nQ 16.75 -1.171875 10.03125 5.8125 \r\nQ 3.328125 12.796875 3.328125 25.921875 \r\nz\r\nM 12.359375 25.921875 \r\nQ 12.359375 15.96875 16.703125 11.015625 \r\nQ 21.046875 6.0625 27.640625 6.0625 \r\nQ 34.1875 6.0625 38.53125 11.03125 \r\nQ 42.875 16.015625 42.875 26.21875 \r\nQ 42.875 35.84375 38.5 40.796875 \r\nQ 34.125 45.75 27.640625 45.75 \r\nQ 21.046875 45.75 16.703125 40.8125 \r\nQ 12.359375 35.890625 12.359375 25.921875 \r\nz\r\n\" id=\"ArialMT-111\"/>\r\n      <path d=\"M 40.578125 0 \r\nL 40.578125 7.625 \r\nQ 34.515625 -1.171875 24.125 -1.171875 \r\nQ 19.53125 -1.171875 15.546875 0.578125 \r\nQ 11.578125 2.34375 9.640625 5 \r\nQ 7.71875 7.671875 6.9375 11.53125 \r\nQ 6.390625 14.109375 6.390625 19.734375 \r\nL 6.390625 51.859375 \r\nL 15.1875 51.859375 \r\nL 15.1875 23.09375 \r\nQ 15.1875 16.21875 15.71875 13.8125 \r\nQ 16.546875 10.359375 19.234375 8.375 \r\nQ 21.921875 6.390625 25.875 6.390625 \r\nQ 29.828125 6.390625 33.296875 8.421875 \r\nQ 36.765625 10.453125 38.203125 13.9375 \r\nQ 39.65625 17.4375 39.65625 24.078125 \r\nL 39.65625 51.859375 \r\nL 48.4375 51.859375 \r\nL 48.4375 0 \r\nz\r\n\" id=\"ArialMT-117\"/>\r\n      <path d=\"M 3.078125 15.484375 \r\nL 11.765625 16.84375 \r\nQ 12.5 11.625 15.84375 8.84375 \r\nQ 19.1875 6.0625 25.203125 6.0625 \r\nQ 31.25 6.0625 34.171875 8.515625 \r\nQ 37.109375 10.984375 37.109375 14.3125 \r\nQ 37.109375 17.28125 34.515625 19 \r\nQ 32.71875 20.171875 25.53125 21.96875 \r\nQ 15.875 24.421875 12.140625 26.203125 \r\nQ 8.40625 27.984375 6.46875 31.125 \r\nQ 4.546875 34.28125 4.546875 38.09375 \r\nQ 4.546875 41.546875 6.125 44.5 \r\nQ 7.71875 47.46875 10.453125 49.421875 \r\nQ 12.5 50.921875 16.03125 51.96875 \r\nQ 19.578125 53.03125 23.640625 53.03125 \r\nQ 29.734375 53.03125 34.34375 51.265625 \r\nQ 38.96875 49.515625 41.15625 46.5 \r\nQ 43.359375 43.5 44.1875 38.484375 \r\nL 35.59375 37.3125 \r\nQ 35.015625 41.3125 32.203125 43.546875 \r\nQ 29.390625 45.796875 24.265625 45.796875 \r\nQ 18.21875 45.796875 15.625 43.796875 \r\nQ 13.03125 41.796875 13.03125 39.109375 \r\nQ 13.03125 37.40625 14.109375 36.03125 \r\nQ 15.1875 34.625 17.484375 33.6875 \r\nQ 18.796875 33.203125 25.25 31.453125 \r\nQ 34.578125 28.953125 38.25 27.359375 \r\nQ 41.9375 25.78125 44.03125 22.75 \r\nQ 46.140625 19.734375 46.140625 15.234375 \r\nQ 46.140625 10.84375 43.578125 6.953125 \r\nQ 41.015625 3.078125 36.171875 0.953125 \r\nQ 31.34375 -1.171875 25.25 -1.171875 \r\nQ 15.140625 -1.171875 9.84375 3.03125 \r\nQ 4.546875 7.234375 3.078125 15.484375 \r\nz\r\n\" id=\"ArialMT-115\"/>\r\n      <path d=\"M 6.640625 61.46875 \r\nL 6.640625 71.578125 \r\nL 15.4375 71.578125 \r\nL 15.4375 61.46875 \r\nz\r\nM 6.640625 0 \r\nL 6.640625 51.859375 \r\nL 15.4375 51.859375 \r\nL 15.4375 0 \r\nz\r\n\" id=\"ArialMT-105\"/>\r\n      <path d=\"M 6.59375 0 \r\nL 6.59375 51.859375 \r\nL 14.5 51.859375 \r\nL 14.5 44.484375 \r\nQ 20.21875 53.03125 31 53.03125 \r\nQ 35.6875 53.03125 39.625 51.34375 \r\nQ 43.5625 49.65625 45.515625 46.921875 \r\nQ 47.46875 44.1875 48.25 40.4375 \r\nQ 48.734375 37.984375 48.734375 31.890625 \r\nL 48.734375 0 \r\nL 39.9375 0 \r\nL 39.9375 31.546875 \r\nQ 39.9375 36.921875 38.90625 39.578125 \r\nQ 37.890625 42.234375 35.28125 43.8125 \r\nQ 32.671875 45.40625 29.15625 45.40625 \r\nQ 23.53125 45.40625 19.453125 41.84375 \r\nQ 15.375 38.28125 15.375 28.328125 \r\nL 15.375 0 \r\nz\r\n\" id=\"ArialMT-110\"/>\r\n      <path d=\"M 4.984375 -4.296875 \r\nL 13.53125 -5.5625 \r\nQ 14.0625 -9.515625 16.5 -11.328125 \r\nQ 19.78125 -13.765625 25.4375 -13.765625 \r\nQ 31.546875 -13.765625 34.859375 -11.328125 \r\nQ 38.1875 -8.890625 39.359375 -4.5 \r\nQ 40.046875 -1.8125 39.984375 6.78125 \r\nQ 34.234375 0 25.640625 0 \r\nQ 14.9375 0 9.078125 7.71875 \r\nQ 3.21875 15.4375 3.21875 26.21875 \r\nQ 3.21875 33.640625 5.90625 39.90625 \r\nQ 8.59375 46.1875 13.6875 49.609375 \r\nQ 18.796875 53.03125 25.6875 53.03125 \r\nQ 34.859375 53.03125 40.828125 45.609375 \r\nL 40.828125 51.859375 \r\nL 48.921875 51.859375 \r\nL 48.921875 7.03125 \r\nQ 48.921875 -5.078125 46.453125 -10.125 \r\nQ 44 -15.1875 38.640625 -18.109375 \r\nQ 33.296875 -21.046875 25.484375 -21.046875 \r\nQ 16.21875 -21.046875 10.5 -16.875 \r\nQ 4.78125 -12.703125 4.984375 -4.296875 \r\nz\r\nM 12.25 26.859375 \r\nQ 12.25 16.65625 16.296875 11.96875 \r\nQ 20.359375 7.28125 26.46875 7.28125 \r\nQ 32.515625 7.28125 36.609375 11.9375 \r\nQ 40.71875 16.609375 40.71875 26.5625 \r\nQ 40.71875 36.078125 36.5 40.90625 \r\nQ 32.28125 45.75 26.3125 45.75 \r\nQ 20.453125 45.75 16.34375 40.984375 \r\nQ 12.25 36.234375 12.25 26.859375 \r\nz\r\n\" id=\"ArialMT-103\"/>\r\n     </defs>\r\n     <use xlink:href=\"#ArialMT-72\"/>\r\n     <use x=\"72.216797\" xlink:href=\"#ArialMT-111\"/>\r\n     <use x=\"127.832031\" xlink:href=\"#ArialMT-117\"/>\r\n     <use x=\"183.447266\" xlink:href=\"#ArialMT-115\"/>\r\n     <use x=\"233.447266\" xlink:href=\"#ArialMT-105\"/>\r\n     <use x=\"255.664062\" xlink:href=\"#ArialMT-110\"/>\r\n     <use x=\"311.279297\" xlink:href=\"#ArialMT-103\"/>\r\n    </g>\r\n   </g>\r\n  </g>\r\n  <g id=\"axes_2\">\r\n   <g id=\"patch_7\">\r\n    <path d=\"M 343.745355 239.375625 \r\nL 597.381719 239.375625 \r\nL 597.381719 21.935625 \r\nL 343.745355 21.935625 \r\nz\r\n\" style=\"fill:#eaeaf2;\"/>\r\n   </g>\r\n   <g id=\"matplotlib.axis_3\">\r\n    <g id=\"xtick_6\">\r\n     <g id=\"line2d_28\">\r\n      <path clip-path=\"url(#p2a0bd8a241)\" d=\"M 380.894115 239.375625 \r\nL 380.894115 21.935625 \r\n\" style=\"fill:none;stroke:#ffffff;stroke-linecap:round;\"/>\r\n     </g>\r\n     <g id=\"line2d_29\"/>\r\n     <g id=\"text_17\">\r\n      <!-- 0.6 -->\r\n      <g style=\"fill:#262626;\" transform=\"translate(373.944115 253.533438)scale(0.1 -0.1)\">\r\n       <use xlink:href=\"#ArialMT-48\"/>\r\n       <use x=\"55.615234\" xlink:href=\"#ArialMT-46\"/>\r\n       <use x=\"83.398438\" xlink:href=\"#ArialMT-54\"/>\r\n      </g>\r\n     </g>\r\n    </g>\r\n    <g id=\"xtick_7\">\r\n     <g id=\"line2d_30\">\r\n      <path clip-path=\"url(#p2a0bd8a241)\" d=\"M 432.133785 239.375625 \r\nL 432.133785 21.935625 \r\n\" style=\"fill:none;stroke:#ffffff;stroke-linecap:round;\"/>\r\n     </g>\r\n     <g id=\"line2d_31\"/>\r\n     <g id=\"text_18\">\r\n      <!-- 0.8 -->\r\n      <g style=\"fill:#262626;\" transform=\"translate(425.183785 253.533438)scale(0.1 -0.1)\">\r\n       <use xlink:href=\"#ArialMT-48\"/>\r\n       <use x=\"55.615234\" xlink:href=\"#ArialMT-46\"/>\r\n       <use x=\"83.398438\" xlink:href=\"#ArialMT-56\"/>\r\n      </g>\r\n     </g>\r\n    </g>\r\n    <g id=\"xtick_8\">\r\n     <g id=\"line2d_32\">\r\n      <path clip-path=\"url(#p2a0bd8a241)\" d=\"M 483.373454 239.375625 \r\nL 483.373454 21.935625 \r\n\" style=\"fill:none;stroke:#ffffff;stroke-linecap:round;\"/>\r\n     </g>\r\n     <g id=\"line2d_33\"/>\r\n     <g id=\"text_19\">\r\n      <!-- 1.0 -->\r\n      <g style=\"fill:#262626;\" transform=\"translate(476.423454 253.533438)scale(0.1 -0.1)\">\r\n       <use xlink:href=\"#ArialMT-49\"/>\r\n       <use x=\"55.615234\" xlink:href=\"#ArialMT-46\"/>\r\n       <use x=\"83.398438\" xlink:href=\"#ArialMT-48\"/>\r\n      </g>\r\n     </g>\r\n    </g>\r\n    <g id=\"xtick_9\">\r\n     <g id=\"line2d_34\">\r\n      <path clip-path=\"url(#p2a0bd8a241)\" d=\"M 534.613124 239.375625 \r\nL 534.613124 21.935625 \r\n\" style=\"fill:none;stroke:#ffffff;stroke-linecap:round;\"/>\r\n     </g>\r\n     <g id=\"line2d_35\"/>\r\n     <g id=\"text_20\">\r\n      <!-- 1.2 -->\r\n      <g style=\"fill:#262626;\" transform=\"translate(527.663124 253.533438)scale(0.1 -0.1)\">\r\n       <use xlink:href=\"#ArialMT-49\"/>\r\n       <use x=\"55.615234\" xlink:href=\"#ArialMT-46\"/>\r\n       <use x=\"83.398438\" xlink:href=\"#ArialMT-50\"/>\r\n      </g>\r\n     </g>\r\n    </g>\r\n    <g id=\"xtick_10\">\r\n     <g id=\"line2d_36\">\r\n      <path clip-path=\"url(#p2a0bd8a241)\" d=\"M 585.852793 239.375625 \r\nL 585.852793 21.935625 \r\n\" style=\"fill:none;stroke:#ffffff;stroke-linecap:round;\"/>\r\n     </g>\r\n     <g id=\"line2d_37\"/>\r\n     <g id=\"text_21\">\r\n      <!-- 1.4 -->\r\n      <g style=\"fill:#262626;\" transform=\"translate(578.902793 253.533438)scale(0.1 -0.1)\">\r\n       <use xlink:href=\"#ArialMT-49\"/>\r\n       <use x=\"55.615234\" xlink:href=\"#ArialMT-46\"/>\r\n       <use x=\"83.398438\" xlink:href=\"#ArialMT-52\"/>\r\n      </g>\r\n     </g>\r\n    </g>\r\n    <g id=\"text_22\">\r\n     <!-- $m$ -->\r\n     <g style=\"fill:#262626;\" transform=\"translate(465.173537 267.394531)scale(0.11 -0.11)\">\r\n      <use xlink:href=\"#DejaVuSans-Oblique-109\"/>\r\n     </g>\r\n    </g>\r\n   </g>\r\n   <g id=\"matplotlib.axis_4\">\r\n    <g id=\"ytick_9\">\r\n     <g id=\"line2d_38\">\r\n      <path clip-path=\"url(#p2a0bd8a241)\" d=\"M 343.745355 214.054902 \r\nL 597.381719 214.054902 \r\n\" style=\"fill:none;stroke:#ffffff;stroke-linecap:round;\"/>\r\n     </g>\r\n     <g id=\"line2d_39\"/>\r\n     <g id=\"text_23\">\r\n      <!-- 0.4 -->\r\n      <g style=\"fill:#262626;\" transform=\"translate(322.845355 217.633808)scale(0.1 -0.1)\">\r\n       <use xlink:href=\"#ArialMT-48\"/>\r\n       <use x=\"55.615234\" xlink:href=\"#ArialMT-46\"/>\r\n       <use x=\"83.398438\" xlink:href=\"#ArialMT-52\"/>\r\n      </g>\r\n     </g>\r\n    </g>\r\n    <g id=\"ytick_10\">\r\n     <g id=\"line2d_40\">\r\n      <path clip-path=\"url(#p2a0bd8a241)\" d=\"M 343.745355 183.084428 \r\nL 597.381719 183.084428 \r\n\" style=\"fill:none;stroke:#ffffff;stroke-linecap:round;\"/>\r\n     </g>\r\n     <g id=\"line2d_41\"/>\r\n     <g id=\"text_24\">\r\n      <!-- 0.5 -->\r\n      <g style=\"fill:#262626;\" transform=\"translate(322.845355 186.663334)scale(0.1 -0.1)\">\r\n       <use xlink:href=\"#ArialMT-48\"/>\r\n       <use x=\"55.615234\" xlink:href=\"#ArialMT-46\"/>\r\n       <use x=\"83.398438\" xlink:href=\"#ArialMT-53\"/>\r\n      </g>\r\n     </g>\r\n    </g>\r\n    <g id=\"ytick_11\">\r\n     <g id=\"line2d_42\">\r\n      <path clip-path=\"url(#p2a0bd8a241)\" d=\"M 343.745355 152.113954 \r\nL 597.381719 152.113954 \r\n\" style=\"fill:none;stroke:#ffffff;stroke-linecap:round;\"/>\r\n     </g>\r\n     <g id=\"line2d_43\"/>\r\n     <g id=\"text_25\">\r\n      <!-- 0.6 -->\r\n      <g style=\"fill:#262626;\" transform=\"translate(322.845355 155.69286)scale(0.1 -0.1)\">\r\n       <use xlink:href=\"#ArialMT-48\"/>\r\n       <use x=\"55.615234\" xlink:href=\"#ArialMT-46\"/>\r\n       <use x=\"83.398438\" xlink:href=\"#ArialMT-54\"/>\r\n      </g>\r\n     </g>\r\n    </g>\r\n    <g id=\"ytick_12\">\r\n     <g id=\"line2d_44\">\r\n      <path clip-path=\"url(#p2a0bd8a241)\" d=\"M 343.745355 121.14348 \r\nL 597.381719 121.14348 \r\n\" style=\"fill:none;stroke:#ffffff;stroke-linecap:round;\"/>\r\n     </g>\r\n     <g id=\"line2d_45\"/>\r\n     <g id=\"text_26\">\r\n      <!-- 0.7 -->\r\n      <g style=\"fill:#262626;\" transform=\"translate(322.845355 124.722386)scale(0.1 -0.1)\">\r\n       <use xlink:href=\"#ArialMT-48\"/>\r\n       <use x=\"55.615234\" xlink:href=\"#ArialMT-46\"/>\r\n       <use x=\"83.398438\" xlink:href=\"#ArialMT-55\"/>\r\n      </g>\r\n     </g>\r\n    </g>\r\n    <g id=\"ytick_13\">\r\n     <g id=\"line2d_46\">\r\n      <path clip-path=\"url(#p2a0bd8a241)\" d=\"M 343.745355 90.173006 \r\nL 597.381719 90.173006 \r\n\" style=\"fill:none;stroke:#ffffff;stroke-linecap:round;\"/>\r\n     </g>\r\n     <g id=\"line2d_47\"/>\r\n     <g id=\"text_27\">\r\n      <!-- 0.8 -->\r\n      <g style=\"fill:#262626;\" transform=\"translate(322.845355 93.751912)scale(0.1 -0.1)\">\r\n       <use xlink:href=\"#ArialMT-48\"/>\r\n       <use x=\"55.615234\" xlink:href=\"#ArialMT-46\"/>\r\n       <use x=\"83.398438\" xlink:href=\"#ArialMT-56\"/>\r\n      </g>\r\n     </g>\r\n    </g>\r\n    <g id=\"ytick_14\">\r\n     <g id=\"line2d_48\">\r\n      <path clip-path=\"url(#p2a0bd8a241)\" d=\"M 343.745355 59.202532 \r\nL 597.381719 59.202532 \r\n\" style=\"fill:none;stroke:#ffffff;stroke-linecap:round;\"/>\r\n     </g>\r\n     <g id=\"line2d_49\"/>\r\n     <g id=\"text_28\">\r\n      <!-- 0.9 -->\r\n      <g style=\"fill:#262626;\" transform=\"translate(322.845355 62.781438)scale(0.1 -0.1)\">\r\n       <use xlink:href=\"#ArialMT-48\"/>\r\n       <use x=\"55.615234\" xlink:href=\"#ArialMT-46\"/>\r\n       <use x=\"83.398438\" xlink:href=\"#ArialMT-57\"/>\r\n      </g>\r\n     </g>\r\n    </g>\r\n    <g id=\"ytick_15\">\r\n     <g id=\"line2d_50\">\r\n      <path clip-path=\"url(#p2a0bd8a241)\" d=\"M 343.745355 28.232058 \r\nL 597.381719 28.232058 \r\n\" style=\"fill:none;stroke:#ffffff;stroke-linecap:round;\"/>\r\n     </g>\r\n     <g id=\"line2d_51\"/>\r\n     <g id=\"text_29\">\r\n      <!-- 1.0 -->\r\n      <g style=\"fill:#262626;\" transform=\"translate(322.845355 31.810964)scale(0.1 -0.1)\">\r\n       <use xlink:href=\"#ArialMT-49\"/>\r\n       <use x=\"55.615234\" xlink:href=\"#ArialMT-46\"/>\r\n       <use x=\"83.398438\" xlink:href=\"#ArialMT-48\"/>\r\n      </g>\r\n     </g>\r\n    </g>\r\n    <g id=\"text_30\">\r\n     <!-- $c$ -->\r\n     <g style=\"fill:#262626;\" transform=\"translate(316.659105 133.680625)rotate(-90)scale(0.11 -0.11)\">\r\n      <defs>\r\n       <path d=\"M 53.609375 52.59375 \r\nL 51.8125 43.703125 \r\nQ 48.578125 46.046875 44.9375 47.21875 \r\nQ 41.3125 48.390625 37.40625 48.390625 \r\nQ 33.109375 48.390625 29.21875 46.875 \r\nQ 25.34375 45.359375 22.703125 42.578125 \r\nQ 18.5 38.328125 16.203125 32.609375 \r\nQ 13.921875 26.90625 13.921875 20.796875 \r\nQ 13.921875 13.421875 17.609375 9.8125 \r\nQ 21.296875 6.203125 28.8125 6.203125 \r\nQ 32.515625 6.203125 36.6875 7.328125 \r\nQ 40.875 8.453125 45.40625 10.6875 \r\nL 43.703125 1.8125 \r\nQ 39.796875 0.203125 35.671875 -0.609375 \r\nQ 31.546875 -1.421875 27.203125 -1.421875 \r\nQ 16.3125 -1.421875 10.453125 4.015625 \r\nQ 4.59375 9.46875 4.59375 19.578125 \r\nQ 4.59375 28.078125 7.640625 35.234375 \r\nQ 10.6875 42.390625 16.703125 48.09375 \r\nQ 20.796875 52 26.3125 54 \r\nQ 31.84375 56 38.375 56 \r\nQ 42.1875 56 45.9375 55.140625 \r\nQ 49.703125 54.296875 53.609375 52.59375 \r\nz\r\n\" id=\"DejaVuSans-Oblique-99\"/>\r\n      </defs>\r\n      <use xlink:href=\"#DejaVuSans-Oblique-99\"/>\r\n     </g>\r\n    </g>\r\n   </g>\r\n   <g id=\"line2d_52\">\r\n    <path clip-path=\"url(#p2a0bd8a241)\" d=\"M 355.274281 229.491989 \r\nL 357.603357 227.515593 \r\nL 359.932432 225.538754 \r\nL 362.261508 223.561453 \r\nL 364.590584 221.583692 \r\nL 366.91966 219.605427 \r\nL 369.248736 217.713819 \r\nL 371.577812 215.742804 \r\nL 373.906888 213.771744 \r\nL 376.235964 211.800685 \r\nL 378.56504 209.82958 \r\nL 380.894115 207.858456 \r\nL 383.223191 205.887313 \r\nL 385.552267 203.916128 \r\nL 387.881343 201.94493 \r\nL 390.210419 199.973668 \r\nL 392.539495 198.002406 \r\nL 394.868571 196.031087 \r\nL 397.197647 194.059746 \r\nL 399.526723 192.088357 \r\nL 401.855798 190.11692 \r\nL 404.184874 188.145419 \r\nL 406.51395 186.173897 \r\nL 408.843026 184.202304 \r\nL 411.172102 182.230652 \r\nL 413.501178 179.590217 \r\nL 415.830254 176.777879 \r\nL 418.15933 174.015938 \r\nL 420.488405 171.753571 \r\nL 422.817481 169.781385 \r\nL 425.146557 167.810059 \r\nL 427.475633 165.838712 \r\nL 429.804709 163.867295 \r\nL 432.133785 161.895847 \r\nL 434.462861 159.924313 \r\nL 436.791937 157.952739 \r\nL 439.121013 155.981064 \r\nL 441.450088 154.009393 \r\nL 443.779164 152.037626 \r\nL 446.10824 150.065846 \r\nL 448.437316 148.09391 \r\nL 450.766392 146.121957 \r\nL 453.095468 144.149922 \r\nL 455.424544 142.177807 \r\nL 457.75362 140.205622 \r\nL 460.082695 138.233358 \r\nL 462.411771 136.260994 \r\nL 464.740847 134.288555 \r\nL 467.069923 132.316031 \r\nL 469.398999 130.34344 \r\nL 471.728075 128.370728 \r\nL 474.057151 126.381055 \r\nL 476.386227 124.407653 \r\nL 478.715303 122.434194 \r\nL 481.044378 120.460584 \r\nL 483.373454 118.48688 \r\nL 485.70253 116.513064 \r\nL 488.031606 114.539175 \r\nL 490.360682 112.565158 \r\nL 492.689758 110.590992 \r\nL 495.018834 108.616731 \r\nL 497.34791 106.642357 \r\nL 499.676985 104.66785 \r\nL 502.006061 102.693207 \r\nL 504.335137 100.71845 \r\nL 506.664213 98.743538 \r\nL 508.993289 96.768555 \r\nL 511.322365 94.793385 \r\nL 513.651441 92.818088 \r\nL 515.980517 90.842643 \r\nL 518.309593 88.86707 \r\nL 520.638668 86.891437 \r\nL 522.967744 84.915499 \r\nL 525.29682 82.939499 \r\nL 527.625896 81.09442 \r\nL 529.954972 79.123466 \r\nL 532.284048 77.152503 \r\nL 534.613124 75.181559 \r\nL 536.9422 73.210661 \r\nL 539.271275 71.23967 \r\nL 541.600351 69.268749 \r\nL 543.929427 67.297759 \r\nL 546.258503 65.326755 \r\nL 548.587579 63.355847 \r\nL 550.916655 61.384816 \r\nL 553.245731 59.413802 \r\nL 555.574807 57.442816 \r\nL 557.903883 55.471842 \r\nL 560.232958 53.500817 \r\nL 562.562034 51.529789 \r\nL 564.89111 49.558785 \r\nL 567.220186 47.587769 \r\nL 569.549262 45.616749 \r\nL 571.878338 43.645678 \r\nL 574.207414 41.67461 \r\nL 576.53649 39.70357 \r\nL 578.865565 37.732546 \r\nL 581.194641 35.761425 \r\nL 583.523717 33.790307 \r\nL 585.852793 31.819261 \r\n\" style=\"fill:none;stroke:#4c72b0;stroke-linecap:round;stroke-width:1.75;\"/>\r\n   </g>\r\n   <g id=\"patch_8\">\r\n    <path d=\"M 343.745355 239.375625 \r\nL 343.745355 21.935625 \r\n\" style=\"fill:none;\"/>\r\n   </g>\r\n   <g id=\"patch_9\">\r\n    <path d=\"M 597.381719 239.375625 \r\nL 597.381719 21.935625 \r\n\" style=\"fill:none;\"/>\r\n   </g>\r\n   <g id=\"patch_10\">\r\n    <path d=\"M 343.745355 239.375625 \r\nL 597.381719 239.375625 \r\n\" style=\"fill:none;\"/>\r\n   </g>\r\n   <g id=\"patch_11\">\r\n    <path d=\"M 343.745355 21.935625 \r\nL 597.381719 21.935625 \r\n\" style=\"fill:none;\"/>\r\n   </g>\r\n   <g id=\"text_31\">\r\n    <!-- Consumption -->\r\n    <g style=\"fill:#262626;\" transform=\"translate(435.213224 15.935625)scale(0.12 -0.12)\">\r\n     <defs>\r\n      <path d=\"M 58.796875 25.09375 \r\nL 68.265625 22.703125 \r\nQ 65.28125 11.03125 57.546875 4.90625 \r\nQ 49.8125 -1.21875 38.625 -1.21875 \r\nQ 27.046875 -1.21875 19.796875 3.484375 \r\nQ 12.546875 8.203125 8.765625 17.140625 \r\nQ 4.984375 26.078125 4.984375 36.328125 \r\nQ 4.984375 47.515625 9.25 55.828125 \r\nQ 13.53125 64.15625 21.40625 68.46875 \r\nQ 29.296875 72.796875 38.765625 72.796875 \r\nQ 49.515625 72.796875 56.828125 67.328125 \r\nQ 64.15625 61.859375 67.046875 51.953125 \r\nL 57.71875 49.75 \r\nQ 55.21875 57.5625 50.484375 61.125 \r\nQ 45.75 64.703125 38.578125 64.703125 \r\nQ 30.328125 64.703125 24.78125 60.734375 \r\nQ 19.234375 56.78125 16.984375 50.109375 \r\nQ 14.75 43.453125 14.75 36.375 \r\nQ 14.75 27.25 17.40625 20.4375 \r\nQ 20.0625 13.625 25.671875 10.25 \r\nQ 31.296875 6.890625 37.84375 6.890625 \r\nQ 45.796875 6.890625 51.3125 11.46875 \r\nQ 56.84375 16.0625 58.796875 25.09375 \r\nz\r\n\" id=\"ArialMT-67\"/>\r\n      <path d=\"M 6.59375 0 \r\nL 6.59375 51.859375 \r\nL 14.453125 51.859375 \r\nL 14.453125 44.578125 \r\nQ 16.890625 48.390625 20.9375 50.703125 \r\nQ 25 53.03125 30.171875 53.03125 \r\nQ 35.9375 53.03125 39.625 50.640625 \r\nQ 43.3125 48.25 44.828125 43.953125 \r\nQ 50.984375 53.03125 60.84375 53.03125 \r\nQ 68.5625 53.03125 72.703125 48.75 \r\nQ 76.859375 44.484375 76.859375 35.59375 \r\nL 76.859375 0 \r\nL 68.109375 0 \r\nL 68.109375 32.671875 \r\nQ 68.109375 37.9375 67.25 40.25 \r\nQ 66.40625 42.578125 64.15625 43.984375 \r\nQ 61.921875 45.40625 58.890625 45.40625 \r\nQ 53.421875 45.40625 49.796875 41.765625 \r\nQ 46.1875 38.140625 46.1875 30.125 \r\nL 46.1875 0 \r\nL 37.40625 0 \r\nL 37.40625 33.6875 \r\nQ 37.40625 39.546875 35.25 42.46875 \r\nQ 33.109375 45.40625 28.21875 45.40625 \r\nQ 24.515625 45.40625 21.359375 43.453125 \r\nQ 18.21875 41.5 16.796875 37.734375 \r\nQ 15.375 33.984375 15.375 26.90625 \r\nL 15.375 0 \r\nz\r\n\" id=\"ArialMT-109\"/>\r\n      <path d=\"M 6.59375 -19.875 \r\nL 6.59375 51.859375 \r\nL 14.59375 51.859375 \r\nL 14.59375 45.125 \r\nQ 17.4375 49.078125 21 51.046875 \r\nQ 24.5625 53.03125 29.640625 53.03125 \r\nQ 36.28125 53.03125 41.359375 49.609375 \r\nQ 46.4375 46.1875 49.015625 39.953125 \r\nQ 51.609375 33.734375 51.609375 26.3125 \r\nQ 51.609375 18.359375 48.75 11.984375 \r\nQ 45.90625 5.609375 40.453125 2.21875 \r\nQ 35.015625 -1.171875 29 -1.171875 \r\nQ 24.609375 -1.171875 21.109375 0.6875 \r\nQ 17.625 2.546875 15.375 5.375 \r\nL 15.375 -19.875 \r\nz\r\nM 14.546875 25.640625 \r\nQ 14.546875 15.625 18.59375 10.84375 \r\nQ 22.65625 6.0625 28.421875 6.0625 \r\nQ 34.28125 6.0625 38.453125 11.015625 \r\nQ 42.625 15.96875 42.625 26.375 \r\nQ 42.625 36.28125 38.546875 41.203125 \r\nQ 34.46875 46.140625 28.8125 46.140625 \r\nQ 23.1875 46.140625 18.859375 40.890625 \r\nQ 14.546875 35.640625 14.546875 25.640625 \r\nz\r\n\" id=\"ArialMT-112\"/>\r\n      <path d=\"M 25.78125 7.859375 \r\nL 27.046875 0.09375 \r\nQ 23.34375 -0.6875 20.40625 -0.6875 \r\nQ 15.625 -0.6875 12.984375 0.828125 \r\nQ 10.359375 2.34375 9.28125 4.8125 \r\nQ 8.203125 7.28125 8.203125 15.1875 \r\nL 8.203125 45.015625 \r\nL 1.765625 45.015625 \r\nL 1.765625 51.859375 \r\nL 8.203125 51.859375 \r\nL 8.203125 64.703125 \r\nL 16.9375 69.96875 \r\nL 16.9375 51.859375 \r\nL 25.78125 51.859375 \r\nL 25.78125 45.015625 \r\nL 16.9375 45.015625 \r\nL 16.9375 14.703125 \r\nQ 16.9375 10.9375 17.40625 9.859375 \r\nQ 17.875 8.796875 18.921875 8.15625 \r\nQ 19.96875 7.515625 21.921875 7.515625 \r\nQ 23.390625 7.515625 25.78125 7.859375 \r\nz\r\n\" id=\"ArialMT-116\"/>\r\n     </defs>\r\n     <use xlink:href=\"#ArialMT-67\"/>\r\n     <use x=\"72.216797\" xlink:href=\"#ArialMT-111\"/>\r\n     <use x=\"127.832031\" xlink:href=\"#ArialMT-110\"/>\r\n     <use x=\"183.447266\" xlink:href=\"#ArialMT-115\"/>\r\n     <use x=\"233.447266\" xlink:href=\"#ArialMT-117\"/>\r\n     <use x=\"289.0625\" xlink:href=\"#ArialMT-109\"/>\r\n     <use x=\"372.363281\" xlink:href=\"#ArialMT-112\"/>\r\n     <use x=\"427.978516\" xlink:href=\"#ArialMT-116\"/>\r\n     <use x=\"455.761719\" xlink:href=\"#ArialMT-105\"/>\r\n     <use x=\"477.978516\" xlink:href=\"#ArialMT-111\"/>\r\n     <use x=\"533.59375\" xlink:href=\"#ArialMT-110\"/>\r\n    </g>\r\n   </g>\r\n  </g>\r\n </g>\r\n <defs>\r\n  <clipPath id=\"p195202e42b\">\r\n   <rect height=\"217.44\" width=\"253.636364\" x=\"39.381719\" y=\"21.935625\"/>\r\n  </clipPath>\r\n  <clipPath id=\"p2a0bd8a241\">\r\n   <rect height=\"217.44\" width=\"253.636364\" x=\"343.745355\" y=\"21.935625\"/>\r\n  </clipPath>\r\n </defs>\r\n</svg>\r\n",
      "image/png": "[encoded data removed]"
     },
     "metadata": {}
    }
   ],
   "source": [
    "# a. create array of m and container for values of h and c\n",
    "N=100\n",
    "m = np.linspace(0.5,1.4,num=N)\n",
    "h_vals = np.empty(N)\n",
    "c_vals = np.empty(N)\n",
    "\n",
    "# b. loop the optimiser over the w array\n",
    "for i,mi in enumerate (m): \n",
    "    hc = u_optimiser(mi, phi, epsilon, r, tau_g, tau_p, p_bar)\n",
    "    \n",
    "    h_vals[i] = hc[0]\n",
    "    c_vals[i] = hc[1] \n",
    "\n",
    "def two_figures(x_left, y_left, title_left, xlabel_left, ylabel_left, x_right, y_right, title_right, xlabel_right, ylabel_right):\n",
    "    \"\"\" \n",
    "    Plots two aligned figures. \n",
    "    \n",
    "    Inputs: should be self explanatory...\n",
    "    Output: Two figures in 2D\n",
    "    \"\"\"\n",
    "    # a. initialise figure\n",
    "    fig = plt.figure(figsize=(10,4))# figsize is in inches...\n",
    "\n",
    "    # b. left plot\n",
    "    ax_left = fig.add_subplot(1,2,1)\n",
    "    ax_left.plot(x_left,y_left)\n",
    "\n",
    "    ax_left.set_title(title_left)\n",
    "    ax_left.set_xlabel(xlabel_left)\n",
    "    ax_left.set_ylabel(ylabel_left)\n",
    "\n",
    "    # c. right plot\n",
    "    ax_right = fig.add_subplot(1,2,2)\n",
    "\n",
    "    ax_right.plot(x_right, y_right)\n",
    "\n",
    "    ax_right.set_title(title_right)\n",
    "    ax_right.set_xlabel(xlabel_right)\n",
    "    ax_right.set_ylabel(ylabel_right)\n",
    "    \n",
    "# c. plot the figure    \n",
    "two_figures(m, h_vals, \"Housing\", \"$m$\", \"$h$\", m, c_vals, \"Consumption\", \"$m$\", \"$c$\")"
   ]
  },
  {
   "cell_type": "markdown",
   "metadata": {},
   "source": [
    "'Comment on the graph output'"
   ]
  },
  {
   "cell_type": "markdown",
   "metadata": {},
   "source": [
    "# Question 3"
   ]
  },
  {
   "cell_type": "markdown",
   "metadata": {},
   "source": [
    "We now consider $N=10000$ household looking to buy houses, but each household differ wrt. their cash endowment. The distribution of cash-on-hand is given by \n",
    "\n",
    "$$\n",
    "m_{i} \\sim \\operatorname{Lognormal}(-0.4,0.35)\n",
    "$$\n",
    "\n",
    "We let the public assessment associated with the optimal housing choice of household $i$, $h_{i}^{\\star}$\n",
    ",be denoted $\n",
    "\\widetilde{p}_{h, i}^{\\star}\n",
    "$\n",
    "\n",
    "$T=\\sum_{i=1}^{N} \\tau^{g} \\widetilde{p}_{h, i}^{\\star}+\\tau^{p} \\max \\left\\{\\widetilde{p}_{h, i}^{\\star}-\\bar{p}, 0\\right\\}$"
   ]
  },
  {
   "cell_type": "markdown",
   "metadata": {},
   "source": [
    "In the following module we calculate the average tax burden per household."
   ]
  },
  {
   "cell_type": "code",
   "execution_count": 5,
   "metadata": {},
   "outputs": [
    {
     "output_type": "stream",
     "name": "stdout",
     "text": [
      "The total tax revenue is 363.14180\nThe average tax burden per household is 0.03631\n"
     ]
    }
   ],
   "source": [
    "#a. setting parameters\n",
    "size=10000\n",
    "seed=1\n",
    "low=-0.4\n",
    "high=0.35\n",
    "\n",
    "#b. \n",
    "def tax_revenue(seed,size,low,high,tau_g=0.012,epsilon=0.5,tau_p=0.004,p_bar=3):\n",
    "    # a. set seed, draw random numbers\n",
    "    np.random.seed(seed)\n",
    "    mi = np.random.lognormal(low,high,size)\n",
    "\n",
    "    # b. define local parameter values\n",
    "    phi=0.3\n",
    "    r=0.03 \n",
    "\n",
    "    # c. solve each individual's optimisation problem\n",
    "    tax_rev = 0\n",
    "\n",
    "    for i, mi in enumerate (mi):        \n",
    "        hc = u_optimiser(mi, phi, epsilon, r, tau_g, tau_p, p_bar)\n",
    "        tax_i = tau_g*hc[0]*epsilon + tau_p*max(hc[0]*epsilon-p_bar,0)\n",
    "        tax_rev += tax_i\n",
    "\n",
    "    return tax_rev\n",
    "\n",
    "# compute total tax revenue and average tax burden per household\n",
    "total_tax_rev = tax_revenue(seed,size,low,high)\n",
    "average_tax=total_tax_rev/size\n",
    "\n",
    "print(f'The total tax revenue is {total_tax_rev:.5f}')\n",
    "print(f'The average tax burden per household is {average_tax:.5f}')\n"
   ]
  },
  {
   "cell_type": "markdown",
   "metadata": {},
   "source": [
    "**Question:**\n",
    "\n",
    "How can we do a sanity check?"
   ]
  },
  {
   "cell_type": "markdown",
   "metadata": {},
   "source": [
    "# Question 4"
   ]
  },
  {
   "cell_type": "markdown",
   "metadata": {},
   "source": [
    "We consider a reform of the tax system which changes the model parameters and we recalculate the average tax burden per household given these changes:"
   ]
  },
  {
   "cell_type": "code",
   "execution_count": 6,
   "metadata": {},
   "outputs": [
    {
     "output_type": "stream",
     "name": "stdout",
     "text": [
      "The total tax revenue is 450.18746\nThe average tax burden per household is 0.04502\n"
     ]
    }
   ],
   "source": [
    "# a. updating parameters \n",
    "r_epsilon=0.8\n",
    "r_tau_g=0.01\n",
    "r_tau_p=0.009\n",
    "r_p_bar=8\n",
    "\n",
    "def r_tax_revenue(seed,size,low,high,r_tau_g=0.01,r_epsilon=0.8,r_tau_p=0.009,p_bar=8):\n",
    "    # a. set seed, draw random numbers\n",
    "    np.random.seed(seed)\n",
    "    mi = np.random.lognormal(low,high,size)\n",
    "\n",
    "    # b. define local parameter values\n",
    "    phi=0.3\n",
    "    r=0.03 \n",
    "\n",
    "    # c. solve each individual's optimisation problem\n",
    "    tax_rev = 0\n",
    "\n",
    "    for i, mi in enumerate (mi):        \n",
    "        hc = u_optimiser(mi, phi, r_epsilon, r, r_tau_g, r_tau_p, r_p_bar)\n",
    "        tax_i = r_tau_g*hc[0]*r_epsilon + r_tau_p*max(hc[0]*r_epsilon-r_p_bar,0)\n",
    "        tax_rev += tax_i\n",
    "\n",
    "    return tax_rev\n",
    "\n",
    "# compute total tax revenue and average tax burden per household\n",
    "r_total_tax_rev = r_tax_revenue(seed,size,low,high)\n",
    "r_average_tax=r_total_tax_rev/size\n",
    "\n",
    "print(f'The total tax revenue is {r_total_tax_rev:.5f}')\n",
    "print(f'The average tax burden per household is {r_average_tax:.5f}')"
   ]
  },
  {
   "cell_type": "markdown",
   "metadata": {},
   "source": [
    "# Question 5"
   ]
  },
  {
   "cell_type": "markdown",
   "metadata": {},
   "source": [
    "ANSWER HERE"
   ]
  },
  {
   "cell_type": "code",
   "execution_count": 1,
   "metadata": {},
   "outputs": [
    {
     "output_type": "error",
     "ename": "NameError",
     "evalue": "name 'np' is not defined",
     "traceback": [
      "\u001b[1;31m---------------------------------------------------------------------------\u001b[0m",
      "\u001b[1;31mNameError\u001b[0m                                 Traceback (most recent call last)",
      "\u001b[1;32m<ipython-input-1-414756a9b852>\u001b[0m in \u001b[0;36m<module>\u001b[1;34m\u001b[0m\n\u001b[0;32m      1\u001b[0m \u001b[1;31m# draws of random numbers\u001b[0m\u001b[1;33m\u001b[0m\u001b[1;33m\u001b[0m\u001b[1;33m\u001b[0m\u001b[0m\n\u001b[1;32m----> 2\u001b[1;33m \u001b[0mnp\u001b[0m\u001b[1;33m.\u001b[0m\u001b[0mrandom\u001b[0m\u001b[1;33m.\u001b[0m\u001b[0mseed\u001b[0m\u001b[1;33m(\u001b[0m\u001b[0mseed\u001b[0m\u001b[1;33m)\u001b[0m\u001b[1;33m\u001b[0m\u001b[1;33m\u001b[0m\u001b[0m\n\u001b[0m\u001b[0;32m      3\u001b[0m \u001b[0mtax_goal\u001b[0m  \u001b[1;33m=\u001b[0m  \u001b[0mtax_revenue\u001b[0m\u001b[1;33m(\u001b[0m\u001b[0mseed\u001b[0m\u001b[1;33m,\u001b[0m\u001b[0msize\u001b[0m\u001b[1;33m,\u001b[0m\u001b[0mlow\u001b[0m\u001b[1;33m,\u001b[0m\u001b[0mhigh\u001b[0m\u001b[1;33m,\u001b[0m\u001b[0mtau_g\u001b[0m\u001b[1;33m=\u001b[0m\u001b[1;36m0.012\u001b[0m\u001b[1;33m,\u001b[0m\u001b[0mepsilon\u001b[0m\u001b[1;33m=\u001b[0m\u001b[1;36m0.5\u001b[0m\u001b[1;33m,\u001b[0m\u001b[0mtau_p\u001b[0m\u001b[1;33m=\u001b[0m\u001b[1;36m0.004\u001b[0m\u001b[1;33m,\u001b[0m\u001b[0mp_bar\u001b[0m\u001b[1;33m=\u001b[0m\u001b[1;36m3\u001b[0m\u001b[1;33m)\u001b[0m\u001b[1;33m\u001b[0m\u001b[1;33m\u001b[0m\u001b[0m\n\u001b[0;32m      4\u001b[0m \u001b[1;33m\u001b[0m\u001b[0m\n\u001b[0;32m      5\u001b[0m \u001b[1;31m# excess tax revenue function\u001b[0m\u001b[1;33m\u001b[0m\u001b[1;33m\u001b[0m\u001b[1;33m\u001b[0m\u001b[0m\n",
      "\u001b[1;31mNameError\u001b[0m: name 'np' is not defined"
     ]
    }
   ],
   "source": [
    "# draws of random numbers\n",
    "np.random.seed(seed)    \n",
    "tax_goal  =  tax_revenue(seed,size,low,high,tau_g=0.012,epsilon=0.5,tau_p=0.004,p_bar=3)\n",
    "    \n",
    "# excess tax revenue function\n",
    "def excess_tax_rev(tau_g, epsilon, tau_p, p_bar):\n",
    "    \n",
    "    excess_tax_revenue = tax_revenue(seed,size,low,high,tau_g=tau_g,epsilon=0.8,tau_p=0.009,\n",
    "                                     p_bar=8) - tax_goal\n",
    "    \n",
    "    return excess_tax_revenue\n",
    "\n",
    "# Equilibrium \n",
    "def find_equilibrium(tau_g, epsilon, tau_p, p_bar, kappa=0.5, eps=1e-8, maxiter=500):\n",
    "    \n",
    "    t = 0\n",
    "    while True:\n",
    "\n",
    "        # a. step 1: excess demand\n",
    "        Z1 = excess_tax_rev(tau_g, epsilon, tau_p, p_bar)\n",
    "        \n",
    "        # b: step 2: stop?\n",
    "        if  np.abs(Z1) <= eps or t >= maxiter:\n",
    "            print(f'{t:3d}: tau_g = {tau_g:12.8f} -> excess tax revenue -> {Z1:14.8f}')\n",
    "            break    \n",
    "    \n",
    "        # c. step 3: update p1\n",
    "        tau_g = tau_g - tau_g*kappa*Z1/total_tax_rev\n",
    "            \n",
    "        # d. step 4: return \n",
    "        if t < 5 or t%25 == 0:\n",
    "            print(f'{t:3d}: tau_g = {tau_g:12.8f} -> excess tax revenue -> {Z1:14.8f}')\n",
    "        elif t == 5:\n",
    "            print('   ...')\n",
    "            \n",
    "        t += 1    \n",
    "\n",
    "    return tau_g\n",
    "\n",
    "# f. call find equilibrium function\n",
    "kappa = 0.5\n",
    "eps = 1e-8\n",
    "tau_g = find_equilibrium(tau_g, epsilon, tau_p, p_bar,kappa=kappa,eps=eps)"
   ]
  },
  {
   "cell_type": "code",
   "execution_count": null,
   "metadata": {},
   "outputs": [],
   "source": []
  },
  {
   "cell_type": "markdown",
   "metadata": {},
   "source": [
    "# Conclusion"
   ]
  },
  {
   "cell_type": "markdown",
   "metadata": {},
   "source": [
    "ADD CONCISE CONLUSION."
   ]
  }
 ],
 "metadata": {
  "kernelspec": {
   "display_name": "Python 3",
   "language": "python",
   "name": "python3"
  },
  "language_info": {
   "codemirror_mode": {
    "name": "ipython",
    "version": 3
   },
   "file_extension": ".py",
   "mimetype": "text/x-python",
   "name": "python",
   "nbconvert_exporter": "python",
   "pygments_lexer": "ipython3",
   "version": "3.8.5-final"
  },
  "toc-autonumbering": true
 },
 "nbformat": 4,
 "nbformat_minor": 4
}