{
 "cells": [
  {
   "cell_type": "markdown",
   "metadata": {},
   "source": [
    "# Data Project 2021: School performance across Danish municipalities"
   ]
  },
  {
   "cell_type": "markdown",
   "metadata": {},
   "source": [
    "The aim of the data project is to investigate primary school performance across Danish municipalities based on the grade point average obtained by the students at the final exam. We fetch data for performance of primary schools from the Danish Ministry of Children and Education. Futhermore, we fetch data from Statistics Denmark covering average income levels and shares of hihgly educated inhabitants in the Danish muncipalities. First, we read and clean the data sets in order to merge them into a single DataFrame. Then, we analyze the data  and investigate whether there is positive correlation between income and education levels and the performance of primary schools across municipalities."
   ]
  },
  {
   "cell_type": "markdown",
   "metadata": {},
   "source": [
    "**The project is organized as follows:**\n",
    "\n",
    "1. Data project description\n",
    "2. Reading and cleaning data\n",
    "3. Merging data\n",
    "4. Data analysis\n",
    "5. Conclusion"
   ]
  },
  {
   "cell_type": "markdown",
   "metadata": {},
   "source": [
    "**Group:** SSTL\n",
    "\n",
    "**Members:** Louise Otte Arildsen (srb330), Signe Kolind (hmk792), Stine Fürst (qvj635) & Thomas Nielsen (qzw392)\n",
    "\n",
    "**Imports and set magics:**"
   ]
  },
  {
   "cell_type": "code",
   "execution_count": 3,
   "metadata": {},
   "outputs": [],
   "source": [
    "import pandas as pd\n",
    "import pandas_datareader # install with `pip install pandas-datareader`\n",
    "import pydst # install with `pip install git+https://github.com/elben10/pydst`\n",
    "import matplotlib.pyplot as plt\n",
    "import geopandas as gpd #\n",
    "import descartes #!pip install descartes\n",
    "import seaborn as sns\n",
    "import ipywidgets as widgets\n",
    "# autoreload modules when code is run\n",
    "%load_ext autoreload\n",
    "%autoreload 2\n",
    "import numpy as np\n",
    "import datetime\n",
    "plt.style.use('seaborn-whitegrid')"
   ]
  },
  {
   "cell_type": "markdown",
   "metadata": {},
   "source": [
    "# Read and clean data"
   ]
  },
  {
   "cell_type": "markdown",
   "metadata": {},
   "source": [
    "\n",
    "\n",
    "## School performance data\n",
    "\n",
    "**Reading and cleaning the data**\n",
    "\n",
    "We read the school data in Skoletal.xlsx obtained from education statistics conducted by the Danish Ministry of Children and Education. The data set contains key indicators of performance for the primary schools in Denmark at municpality level. We clean the data by removing redundant columns and renaming the columns:"
   ]
  },
  {
   "cell_type": "code",
   "execution_count": 4,
   "metadata": {},
   "outputs": [],
   "source": [
    "# read the excel file using pandas, therefore creating an dataframe. \n",
    "school = pd.read_excel('Skoletal.xlsx', skiprows=2)\n",
    "\n",
    "# b. drop columns\n",
    "drop_these = ['Rækkenavne', 'Overgang 15 mdr ungdomsuddannelse fra 9 og 10 kl', 'Signifikant forskel', 'Forskel', 'Kompetencedækning', 'Elevtal']\n",
    "school.drop(drop_these, axis=1, inplace=True)\n",
    "\n",
    "# c. rename columns\n",
    "school.rename(columns = {'Institution':'school', 'Skoleår':'year', \n",
    "                         'Karaktergennemsnit_skoletal':'gpa', 'Socioøkonomisk reference':'socioeconomic', \n",
    "                         'Andel med højest trivsel':'well-being', 'Samlet elevfravær':'absence', 'Klassekvotient':'students_per_class'}, inplace=True)\n",
    "# d. rename danish names in rows\n",
    "school['year'] = school['year'].replace({'København':'Copenhagen'}) #renaming København to Copenhagen"
   ]
  },
  {
   "cell_type": "code",
   "execution_count": 5,
   "metadata": {},
   "outputs": [
    {
     "name": "stdout",
     "output_type": "stream",
     "text": [
      "The data set now looks like this:\n"
     ]
    },
    {
     "data": {
      "text/html": [
       "<div>\n",
       "<style scoped>\n",
       "    .dataframe tbody tr th:only-of-type {\n",
       "        vertical-align: middle;\n",
       "    }\n",
       "\n",
       "    .dataframe tbody tr th {\n",
       "        vertical-align: top;\n",
       "    }\n",
       "\n",
       "    .dataframe thead th {\n",
       "        text-align: right;\n",
       "    }\n",
       "</style>\n",
       "<table border=\"1\" class=\"dataframe\">\n",
       "  <thead>\n",
       "    <tr style=\"text-align: right;\">\n",
       "      <th></th>\n",
       "      <th>school</th>\n",
       "      <th>year</th>\n",
       "      <th>gpa</th>\n",
       "      <th>socioeconomic</th>\n",
       "      <th>well-being</th>\n",
       "      <th>absence</th>\n",
       "      <th>students_per_class</th>\n",
       "    </tr>\n",
       "  </thead>\n",
       "  <tbody>\n",
       "    <tr>\n",
       "      <th>0</th>\n",
       "      <td>Den Classenske Legatskole</td>\n",
       "      <td>2013/2014</td>\n",
       "      <td>8.2</td>\n",
       "      <td>7.8</td>\n",
       "      <td>NaN</td>\n",
       "      <td>NaN</td>\n",
       "      <td>24.95</td>\n",
       "    </tr>\n",
       "    <tr>\n",
       "      <th>1</th>\n",
       "      <td>Den Classenske Legatskole</td>\n",
       "      <td>Copenhagen</td>\n",
       "      <td>8.2</td>\n",
       "      <td>7.8</td>\n",
       "      <td>NaN</td>\n",
       "      <td>NaN</td>\n",
       "      <td>24.95</td>\n",
       "    </tr>\n",
       "    <tr>\n",
       "      <th>2</th>\n",
       "      <td>Den Classenske Legatskole</td>\n",
       "      <td>2014/2015</td>\n",
       "      <td>7.6</td>\n",
       "      <td>7.5</td>\n",
       "      <td>0.906615</td>\n",
       "      <td>0.089829</td>\n",
       "      <td>24.90</td>\n",
       "    </tr>\n",
       "    <tr>\n",
       "      <th>3</th>\n",
       "      <td>Den Classenske Legatskole</td>\n",
       "      <td>Copenhagen</td>\n",
       "      <td>7.6</td>\n",
       "      <td>7.5</td>\n",
       "      <td>0.906615</td>\n",
       "      <td>0.089829</td>\n",
       "      <td>24.90</td>\n",
       "    </tr>\n",
       "    <tr>\n",
       "      <th>4</th>\n",
       "      <td>Den Classenske Legatskole</td>\n",
       "      <td>2015/2016</td>\n",
       "      <td>8.2</td>\n",
       "      <td>8.0</td>\n",
       "      <td>0.956044</td>\n",
       "      <td>0.079799</td>\n",
       "      <td>24.90</td>\n",
       "    </tr>\n",
       "  </tbody>\n",
       "</table>\n",
       "</div>"
      ],
      "text/plain": [
       "                      school        year  gpa  socioeconomic  well-being  \\\n",
       "0  Den Classenske Legatskole   2013/2014  8.2            7.8         NaN   \n",
       "1  Den Classenske Legatskole  Copenhagen  8.2            7.8         NaN   \n",
       "2  Den Classenske Legatskole   2014/2015  7.6            7.5    0.906615   \n",
       "3  Den Classenske Legatskole  Copenhagen  7.6            7.5    0.906615   \n",
       "4  Den Classenske Legatskole   2015/2016  8.2            8.0    0.956044   \n",
       "\n",
       "    absence  students_per_class  \n",
       "0       NaN               24.95  \n",
       "1       NaN               24.95  \n",
       "2  0.089829               24.90  \n",
       "3  0.089829               24.90  \n",
       "4  0.079799               24.90  "
      ]
     },
     "execution_count": 5,
     "metadata": {},
     "output_type": "execute_result"
    }
   ],
   "source": [
    "print('The data set now looks like this:')\n",
    "school.head()"
   ]
  },
  {
   "cell_type": "markdown",
   "metadata": {},
   "source": [
    "**Seperate municipality and school year in column 'year':**\n",
    "\n",
    "In the data set every row is duplicated such that the data is the same in every column except from in column 'year'. The column 'year' alternately displays school year and municipality and we want to split this into two seperate columns."
   ]
  },
  {
   "cell_type": "code",
   "execution_count": 6,
   "metadata": {},
   "outputs": [
    {
     "name": "stdout",
     "output_type": "stream",
     "text": [
      "The number of rows in data set school is = 31328\n",
      "31328 divided by 2 = 15664.0\n",
      "The number of rows in data set municipality is = 15664\n",
      "The number of rows in dataset school_new is = 15664\n"
     ]
    }
   ],
   "source": [
    "print(f'The number of rows in data set school is = {len(school)}')\n",
    "\n",
    "#Then we create a new variable 'municipality', which extract all muncipality names from 'year' using iloc\n",
    "municipality=pd.DataFrame(school['year'].iloc[1::2].values)\n",
    "\n",
    "#We check that the number of municipality names are equal to half of the row lines. \n",
    "print(f'31328 divided by 2 = {len(school)/2}')\n",
    "print(f'The number of rows in data set municipality is = {len(municipality)}')\n",
    "\n",
    "#Then we delete every other row (the ones containing municipalities in the column 'year'\n",
    "res = [True, False] * 15664 # every uneven number in an index will be removed in a dataset\n",
    "school_new=school[res] # attaching to the dataframe\n",
    "school_new.reset_index(drop=True, inplace=True) # resets the index, so ID=0,1,2,N instead of ID=0,2,4,6,N\n",
    "print(f'The number of rows in dataset school_new is = {len(school_new)}')\n",
    "\n",
    "#We then concatenate school_new with municipalities and arrive at the solution\n",
    "school_final = pd.concat([school_new, municipality], axis=1) \n",
    "school_final.rename(columns = {school_final.columns[7]:'municipality'}, inplace=True)"
   ]
  },
  {
   "cell_type": "code",
   "execution_count": 7,
   "metadata": {},
   "outputs": [
    {
     "name": "stdout",
     "output_type": "stream",
     "text": [
      "The data set now looks like this:\n"
     ]
    },
    {
     "data": {
      "text/html": [
       "<div>\n",
       "<style scoped>\n",
       "    .dataframe tbody tr th:only-of-type {\n",
       "        vertical-align: middle;\n",
       "    }\n",
       "\n",
       "    .dataframe tbody tr th {\n",
       "        vertical-align: top;\n",
       "    }\n",
       "\n",
       "    .dataframe thead th {\n",
       "        text-align: right;\n",
       "    }\n",
       "</style>\n",
       "<table border=\"1\" class=\"dataframe\">\n",
       "  <thead>\n",
       "    <tr style=\"text-align: right;\">\n",
       "      <th></th>\n",
       "      <th>school</th>\n",
       "      <th>year</th>\n",
       "      <th>gpa</th>\n",
       "      <th>socioeconomic</th>\n",
       "      <th>well-being</th>\n",
       "      <th>absence</th>\n",
       "      <th>students_per_class</th>\n",
       "      <th>municipality</th>\n",
       "    </tr>\n",
       "  </thead>\n",
       "  <tbody>\n",
       "    <tr>\n",
       "      <th>0</th>\n",
       "      <td>Den Classenske Legatskole</td>\n",
       "      <td>2013/2014</td>\n",
       "      <td>8.2</td>\n",
       "      <td>7.8</td>\n",
       "      <td>NaN</td>\n",
       "      <td>NaN</td>\n",
       "      <td>24.95</td>\n",
       "      <td>Copenhagen</td>\n",
       "    </tr>\n",
       "    <tr>\n",
       "      <th>1</th>\n",
       "      <td>Den Classenske Legatskole</td>\n",
       "      <td>2014/2015</td>\n",
       "      <td>7.6</td>\n",
       "      <td>7.5</td>\n",
       "      <td>0.906615</td>\n",
       "      <td>0.089829</td>\n",
       "      <td>24.90</td>\n",
       "      <td>Copenhagen</td>\n",
       "    </tr>\n",
       "    <tr>\n",
       "      <th>2</th>\n",
       "      <td>Den Classenske Legatskole</td>\n",
       "      <td>2015/2016</td>\n",
       "      <td>8.2</td>\n",
       "      <td>8.0</td>\n",
       "      <td>0.956044</td>\n",
       "      <td>0.079799</td>\n",
       "      <td>24.90</td>\n",
       "      <td>Copenhagen</td>\n",
       "    </tr>\n",
       "    <tr>\n",
       "      <th>3</th>\n",
       "      <td>Den Classenske Legatskole</td>\n",
       "      <td>2016/2017</td>\n",
       "      <td>7.8</td>\n",
       "      <td>7.8</td>\n",
       "      <td>0.913669</td>\n",
       "      <td>0.072769</td>\n",
       "      <td>25.60</td>\n",
       "      <td>Copenhagen</td>\n",
       "    </tr>\n",
       "    <tr>\n",
       "      <th>4</th>\n",
       "      <td>Den Classenske Legatskole</td>\n",
       "      <td>2017/2018</td>\n",
       "      <td>8.8</td>\n",
       "      <td>8.1</td>\n",
       "      <td>0.919540</td>\n",
       "      <td>0.081672</td>\n",
       "      <td>24.80</td>\n",
       "      <td>Copenhagen</td>\n",
       "    </tr>\n",
       "  </tbody>\n",
       "</table>\n",
       "</div>"
      ],
      "text/plain": [
       "                      school       year  gpa  socioeconomic  well-being  \\\n",
       "0  Den Classenske Legatskole  2013/2014  8.2            7.8         NaN   \n",
       "1  Den Classenske Legatskole  2014/2015  7.6            7.5    0.906615   \n",
       "2  Den Classenske Legatskole  2015/2016  8.2            8.0    0.956044   \n",
       "3  Den Classenske Legatskole  2016/2017  7.8            7.8    0.913669   \n",
       "4  Den Classenske Legatskole  2017/2018  8.8            8.1    0.919540   \n",
       "\n",
       "    absence  students_per_class municipality  \n",
       "0       NaN               24.95   Copenhagen  \n",
       "1  0.089829               24.90   Copenhagen  \n",
       "2  0.079799               24.90   Copenhagen  \n",
       "3  0.072769               25.60   Copenhagen  \n",
       "4  0.081672               24.80   Copenhagen  "
      ]
     },
     "execution_count": 7,
     "metadata": {},
     "output_type": "execute_result"
    }
   ],
   "source": [
    "print('The data set now looks like this:')\n",
    "school_final.head()"
   ]
  },
  {
   "cell_type": "markdown",
   "metadata": {},
   "source": [
    "**We decide to only investigate the year 2018/2019, because it is the latest year with data without any corona effect, and rename it to 2019:**"
   ]
  },
  {
   "cell_type": "code",
   "execution_count": 8,
   "metadata": {},
   "outputs": [
    {
     "name": "stdout",
     "output_type": "stream",
     "text": [
      "The data set now looks like this:\n"
     ]
    },
    {
     "data": {
      "text/html": [
       "<div>\n",
       "<style scoped>\n",
       "    .dataframe tbody tr th:only-of-type {\n",
       "        vertical-align: middle;\n",
       "    }\n",
       "\n",
       "    .dataframe tbody tr th {\n",
       "        vertical-align: top;\n",
       "    }\n",
       "\n",
       "    .dataframe thead th {\n",
       "        text-align: right;\n",
       "    }\n",
       "</style>\n",
       "<table border=\"1\" class=\"dataframe\">\n",
       "  <thead>\n",
       "    <tr style=\"text-align: right;\">\n",
       "      <th></th>\n",
       "      <th>school</th>\n",
       "      <th>year</th>\n",
       "      <th>gpa</th>\n",
       "      <th>socioeconomic</th>\n",
       "      <th>well-being</th>\n",
       "      <th>absence</th>\n",
       "      <th>students_per_class</th>\n",
       "      <th>municipality</th>\n",
       "    </tr>\n",
       "  </thead>\n",
       "  <tbody>\n",
       "    <tr>\n",
       "      <th>0</th>\n",
       "      <td>Den Classenske Legatskole</td>\n",
       "      <td>2019</td>\n",
       "      <td>7.5</td>\n",
       "      <td>7.6</td>\n",
       "      <td>0.900000</td>\n",
       "      <td>0.071541</td>\n",
       "      <td>24.75</td>\n",
       "      <td>Copenhagen</td>\n",
       "    </tr>\n",
       "    <tr>\n",
       "      <th>1</th>\n",
       "      <td>Nyboder Skole</td>\n",
       "      <td>2019</td>\n",
       "      <td>8.0</td>\n",
       "      <td>7.8</td>\n",
       "      <td>0.950495</td>\n",
       "      <td>0.073004</td>\n",
       "      <td>22.40</td>\n",
       "      <td>Copenhagen</td>\n",
       "    </tr>\n",
       "    <tr>\n",
       "      <th>2</th>\n",
       "      <td>Sølvgades Skole</td>\n",
       "      <td>2019</td>\n",
       "      <td>7.4</td>\n",
       "      <td>7.6</td>\n",
       "      <td>0.901961</td>\n",
       "      <td>0.071107</td>\n",
       "      <td>23.45</td>\n",
       "      <td>Copenhagen</td>\n",
       "    </tr>\n",
       "    <tr>\n",
       "      <th>3</th>\n",
       "      <td>Nørrebro Park Skole</td>\n",
       "      <td>2019</td>\n",
       "      <td>5.3</td>\n",
       "      <td>5.5</td>\n",
       "      <td>0.950331</td>\n",
       "      <td>0.069968</td>\n",
       "      <td>24.40</td>\n",
       "      <td>Copenhagen</td>\n",
       "    </tr>\n",
       "    <tr>\n",
       "      <th>4</th>\n",
       "      <td>Blågård Skole</td>\n",
       "      <td>2019</td>\n",
       "      <td>4.2</td>\n",
       "      <td>5.0</td>\n",
       "      <td>0.876923</td>\n",
       "      <td>0.079616</td>\n",
       "      <td>21.32</td>\n",
       "      <td>Copenhagen</td>\n",
       "    </tr>\n",
       "  </tbody>\n",
       "</table>\n",
       "</div>"
      ],
      "text/plain": [
       "                      school  year  gpa  socioeconomic  well-being   absence  \\\n",
       "0  Den Classenske Legatskole  2019  7.5            7.6    0.900000  0.071541   \n",
       "1              Nyboder Skole  2019  8.0            7.8    0.950495  0.073004   \n",
       "2            Sølvgades Skole  2019  7.4            7.6    0.901961  0.071107   \n",
       "3        Nørrebro Park Skole  2019  5.3            5.5    0.950331  0.069968   \n",
       "4              Blågård Skole  2019  4.2            5.0    0.876923  0.079616   \n",
       "\n",
       "   students_per_class municipality  \n",
       "0               24.75   Copenhagen  \n",
       "1               22.40   Copenhagen  \n",
       "2               23.45   Copenhagen  \n",
       "3               24.40   Copenhagen  \n",
       "4               21.32   Copenhagen  "
      ]
     },
     "execution_count": 8,
     "metadata": {},
     "output_type": "execute_result"
    }
   ],
   "source": [
    "#renaming the years\n",
    "school_final[\"year\"].replace({\"2018/2019\": \"2019\", \"2019/2020\": \"2020\"}, inplace=True)\n",
    "\n",
    "#function to only keep 2019 data observations\n",
    "def only_keep_oneyear(df):\n",
    "    \"\"\" delete all year except 2019\n",
    "    Args:\n",
    "        df (pd.DataFrame): pandas dataframe with the column \"year\" as a string\n",
    "\n",
    "    Returns:\n",
    "        df (pd.DataFrame): pandas dataframe\n",
    "\n",
    "    \"\"\" \n",
    "    for val in ['2019']:\n",
    "        \n",
    "        I = df.year.str.contains(val)\n",
    "        df = df.loc[I == True] # keep everything else\n",
    "    \n",
    "    return df\n",
    "school = only_keep_oneyear(school_final)\n",
    "school.reset_index(drop=True, inplace=True)\n",
    "\n",
    "print('The data set now looks like this:')\n",
    "school.head()"
   ]
  },
  {
   "cell_type": "markdown",
   "metadata": {},
   "source": [
    "**Data set 1: School data**\n",
    "\n",
    "This data set we just arrived at covers school performance across all primary schools in Denmark in 2019. \n",
    "\n",
    "Variable      | Description\n",
    "------------- | -------------\n",
    "school        | School name\n",
    "gpa           | Grade point average\n",
    "socioeconomic          | Predicted gpa based on socioeconomic factors\n",
    "well-being           | Pct. share of students with the highest level of well-being\n",
    "absence | Total absence across students\n",
    "\n",
    "We will use this data set in the data analysis to investigate primary school performance on school level, but we also want to investigate school performance on municipality level and therefor create a new data set with the average gpa of all primary schools in a municipality. This data set will later be merged with data set for average income and educational level across municipalities to create our second data set."
   ]
  },
  {
   "cell_type": "markdown",
   "metadata": {},
   "source": [
    "**Data set 1 with gpa mean across muncipalities in 2019**"
   ]
  },
  {
   "cell_type": "code",
   "execution_count": 9,
   "metadata": {},
   "outputs": [
    {
     "data": {
      "text/html": [
       "<div>\n",
       "<style scoped>\n",
       "    .dataframe tbody tr th:only-of-type {\n",
       "        vertical-align: middle;\n",
       "    }\n",
       "\n",
       "    .dataframe tbody tr th {\n",
       "        vertical-align: top;\n",
       "    }\n",
       "\n",
       "    .dataframe thead th {\n",
       "        text-align: right;\n",
       "    }\n",
       "</style>\n",
       "<table border=\"1\" class=\"dataframe\">\n",
       "  <thead>\n",
       "    <tr style=\"text-align: right;\">\n",
       "      <th></th>\n",
       "      <th>municipality</th>\n",
       "      <th>gpa</th>\n",
       "    </tr>\n",
       "  </thead>\n",
       "  <tbody>\n",
       "    <tr>\n",
       "      <th>0</th>\n",
       "      <td>Aabenraa</td>\n",
       "      <td>6.127814</td>\n",
       "    </tr>\n",
       "    <tr>\n",
       "      <th>1</th>\n",
       "      <td>Aalborg</td>\n",
       "      <td>7.013712</td>\n",
       "    </tr>\n",
       "    <tr>\n",
       "      <th>2</th>\n",
       "      <td>Aarhus</td>\n",
       "      <td>7.140788</td>\n",
       "    </tr>\n",
       "    <tr>\n",
       "      <th>3</th>\n",
       "      <td>Albertslund</td>\n",
       "      <td>6.063983</td>\n",
       "    </tr>\n",
       "    <tr>\n",
       "      <th>4</th>\n",
       "      <td>Allerød</td>\n",
       "      <td>7.965370</td>\n",
       "    </tr>\n",
       "  </tbody>\n",
       "</table>\n",
       "</div>"
      ],
      "text/plain": [
       "  municipality       gpa\n",
       "0     Aabenraa  6.127814\n",
       "1      Aalborg  7.013712\n",
       "2       Aarhus  7.140788\n",
       "3  Albertslund  6.063983\n",
       "4      Allerød  7.965370"
      ]
     },
     "execution_count": 9,
     "metadata": {},
     "output_type": "execute_result"
    }
   ],
   "source": [
    "#group by municipality and calculate mean of gpa\n",
    "school_merge=school.groupby(['municipality'])['gpa'].mean().reset_index(name='gpa')\n",
    "school_merge.head()"
   ]
  },
  {
   "cell_type": "markdown",
   "metadata": {},
   "source": [
    "We notice that 'Christiansø' is a part of our dataset. Christiansø is not a Danish municipality, hence it is removed from our data."
   ]
  },
  {
   "cell_type": "code",
   "execution_count": 10,
   "metadata": {},
   "outputs": [
    {
     "data": {
      "text/html": [
       "<div>\n",
       "<style scoped>\n",
       "    .dataframe tbody tr th:only-of-type {\n",
       "        vertical-align: middle;\n",
       "    }\n",
       "\n",
       "    .dataframe tbody tr th {\n",
       "        vertical-align: top;\n",
       "    }\n",
       "\n",
       "    .dataframe thead th {\n",
       "        text-align: right;\n",
       "    }\n",
       "</style>\n",
       "<table border=\"1\" class=\"dataframe\">\n",
       "  <thead>\n",
       "    <tr style=\"text-align: right;\">\n",
       "      <th></th>\n",
       "      <th>municipality</th>\n",
       "      <th>gpa</th>\n",
       "    </tr>\n",
       "  </thead>\n",
       "  <tbody>\n",
       "    <tr>\n",
       "      <th>0</th>\n",
       "      <td>Aabenraa</td>\n",
       "      <td>6.127814</td>\n",
       "    </tr>\n",
       "    <tr>\n",
       "      <th>1</th>\n",
       "      <td>Aalborg</td>\n",
       "      <td>7.013712</td>\n",
       "    </tr>\n",
       "    <tr>\n",
       "      <th>2</th>\n",
       "      <td>Aarhus</td>\n",
       "      <td>7.140788</td>\n",
       "    </tr>\n",
       "    <tr>\n",
       "      <th>3</th>\n",
       "      <td>Albertslund</td>\n",
       "      <td>6.063983</td>\n",
       "    </tr>\n",
       "    <tr>\n",
       "      <th>4</th>\n",
       "      <td>Allerød</td>\n",
       "      <td>7.965370</td>\n",
       "    </tr>\n",
       "  </tbody>\n",
       "</table>\n",
       "</div>"
      ],
      "text/plain": [
       "  municipality       gpa\n",
       "0     Aabenraa  6.127814\n",
       "1      Aalborg  7.013712\n",
       "2       Aarhus  7.140788\n",
       "3  Albertslund  6.063983\n",
       "4      Allerød  7.965370"
      ]
     },
     "execution_count": 10,
     "metadata": {},
     "output_type": "execute_result"
    }
   ],
   "source": [
    "school_merge=school_merge.groupby(by=\"municipality\").sum()\n",
    "school_merge = school_merge.drop(\"Christiansø\", axis=0).reset_index()\n",
    "school_merge.head()"
   ]
  },
  {
   "cell_type": "markdown",
   "metadata": {},
   "source": [
    "## Income data"
   ]
  },
  {
   "cell_type": "markdown",
   "metadata": {},
   "source": [
    "We use the module pydst to extract data from Danmarks statistik. This package is designed specifically for this website in order to easily obtain all data. The architecture of the package itself is unknown, and if data from other sites is requested, then the package request would be suitable instead with a more manual approach to API scrapping. This data is to be merged with Data set 1, in order to illustrate and calculate correlations between income and school performance. "
   ]
  },
  {
   "cell_type": "code",
   "execution_count": 11,
   "metadata": {},
   "outputs": [],
   "source": [
    "Dst = pydst.Dst(lang='en') # setup data loader with the langauge 'english'\n",
    "Dst.get_subjects(); # Desc: Identifies all the sub statistics within Statistics Denmark with an ID attached. \n",
    "#Remove ';' to view output."
   ]
  },
  {
   "cell_type": "markdown",
   "metadata": {},
   "source": [
    "We are interested in income data. The above desc leads us to ID=04, where the sub area of interest is INDKP101"
   ]
  },
  {
   "cell_type": "code",
   "execution_count": 12,
   "metadata": {},
   "outputs": [],
   "source": [
    "tables = Dst.get_tables(subjects=['04'])\n",
    "tables[tables.id == 'INDKP101'];"
   ]
  },
  {
   "cell_type": "markdown",
   "metadata": {},
   "source": [
    "We create a function that reveals information of the different variable id's, contained in data INDKP101\n",
    ". Remove '#' to view output. "
   ]
  },
  {
   "cell_type": "code",
   "execution_count": 13,
   "metadata": {},
   "outputs": [],
   "source": [
    "#indk_vars = Dst.get_variables(table_id='INDKP101')\n",
    "#display(indk_vars)\n",
    "#for id in ['OMRÅDE','ENHED','KOEN','INDKOMSTTYPE','Tid']:\n",
    "    #print(id)\n",
    "    #values = indk_vars.loc[indk_vars.id == id,['values']].values[0,0]\n",
    "    #for value in values:      \n",
    "        #print(f' id = {value[\"id\"]}, text = {value[\"text\"]}')"
   ]
  },
  {
   "cell_type": "markdown",
   "metadata": {},
   "source": [
    "The variables in INDKP101 are 'OMRÅDE','ENHED','KOEN','INDKOMSTTYPE','Tid'. Not all of them are relevant in our analysis, hence they are restricted as much as possible: \n",
    "\n",
    "Variable      | Parameter restrictions\n",
    "------------- | -------------\n",
    "OMRÅDE        | *= All areas are relevant. \n",
    "ENHED         | 116= Average income for all people (DKK)\n",
    "KOEN          | MOK= Both genders included\n",
    "INDKOMSTTYPE   | 105= Pre-tax Income, total\n",
    "TID | 2019\n"
   ]
  },
  {
   "cell_type": "code",
   "execution_count": 14,
   "metadata": {},
   "outputs": [
    {
     "data": {
      "text/html": [
       "<div>\n",
       "<style scoped>\n",
       "    .dataframe tbody tr th:only-of-type {\n",
       "        vertical-align: middle;\n",
       "    }\n",
       "\n",
       "    .dataframe tbody tr th {\n",
       "        vertical-align: top;\n",
       "    }\n",
       "\n",
       "    .dataframe thead th {\n",
       "        text-align: right;\n",
       "    }\n",
       "</style>\n",
       "<table border=\"1\" class=\"dataframe\">\n",
       "  <thead>\n",
       "    <tr style=\"text-align: right;\">\n",
       "      <th></th>\n",
       "      <th>OMRÅDE</th>\n",
       "      <th>ENHED</th>\n",
       "      <th>KOEN</th>\n",
       "      <th>INDKOMSTTYPE</th>\n",
       "      <th>TID</th>\n",
       "      <th>INDHOLD</th>\n",
       "    </tr>\n",
       "  </thead>\n",
       "  <tbody>\n",
       "    <tr>\n",
       "      <th>0</th>\n",
       "      <td>All Denmark</td>\n",
       "      <td>Average income for all people (DKK)</td>\n",
       "      <td>Men and women, total</td>\n",
       "      <td>2 Pre-tax Income, total (3+7+22+26+29)</td>\n",
       "      <td>2019</td>\n",
       "      <td>338122</td>\n",
       "    </tr>\n",
       "    <tr>\n",
       "      <th>1</th>\n",
       "      <td>Province Byen København</td>\n",
       "      <td>Average income for all people (DKK)</td>\n",
       "      <td>Men and women, total</td>\n",
       "      <td>2 Pre-tax Income, total (3+7+22+26+29)</td>\n",
       "      <td>2019</td>\n",
       "      <td>353203</td>\n",
       "    </tr>\n",
       "    <tr>\n",
       "      <th>2</th>\n",
       "      <td>Province Københavns omegn</td>\n",
       "      <td>Average income for all people (DKK)</td>\n",
       "      <td>Men and women, total</td>\n",
       "      <td>2 Pre-tax Income, total (3+7+22+26+29)</td>\n",
       "      <td>2019</td>\n",
       "      <td>388125</td>\n",
       "    </tr>\n",
       "    <tr>\n",
       "      <th>3</th>\n",
       "      <td>Province Nordsjælland</td>\n",
       "      <td>Average income for all people (DKK)</td>\n",
       "      <td>Men and women, total</td>\n",
       "      <td>2 Pre-tax Income, total (3+7+22+26+29)</td>\n",
       "      <td>2019</td>\n",
       "      <td>414861</td>\n",
       "    </tr>\n",
       "    <tr>\n",
       "      <th>4</th>\n",
       "      <td>Province Bornholm</td>\n",
       "      <td>Average income for all people (DKK)</td>\n",
       "      <td>Men and women, total</td>\n",
       "      <td>2 Pre-tax Income, total (3+7+22+26+29)</td>\n",
       "      <td>2019</td>\n",
       "      <td>291198</td>\n",
       "    </tr>\n",
       "  </tbody>\n",
       "</table>\n",
       "</div>"
      ],
      "text/plain": [
       "                      OMRÅDE                                ENHED  \\\n",
       "0                All Denmark  Average income for all people (DKK)   \n",
       "1    Province Byen København  Average income for all people (DKK)   \n",
       "2  Province Københavns omegn  Average income for all people (DKK)   \n",
       "3      Province Nordsjælland  Average income for all people (DKK)   \n",
       "4          Province Bornholm  Average income for all people (DKK)   \n",
       "\n",
       "                   KOEN                            INDKOMSTTYPE   TID  INDHOLD  \n",
       "0  Men and women, total  2 Pre-tax Income, total (3+7+22+26+29)  2019   338122  \n",
       "1  Men and women, total  2 Pre-tax Income, total (3+7+22+26+29)  2019   353203  \n",
       "2  Men and women, total  2 Pre-tax Income, total (3+7+22+26+29)  2019   388125  \n",
       "3  Men and women, total  2 Pre-tax Income, total (3+7+22+26+29)  2019   414861  \n",
       "4  Men and women, total  2 Pre-tax Income, total (3+7+22+26+29)  2019   291198  "
      ]
     },
     "execution_count": 14,
     "metadata": {},
     "output_type": "execute_result"
    }
   ],
   "source": [
    "variables1 = {'OMRÅDE':['*'],'ENHED':['116'],'KOEN':['MOK'],'INDKOMSTTYPE':['105'], \n",
    "             'Tid':['2019']}\n",
    "inc_api = Dst.get_data(table_id = 'INDKP101', variables=variables1)\n",
    "inc_api.head()"
   ]
  },
  {
   "cell_type": "markdown",
   "metadata": {},
   "source": [
    "Columns: 'KOEN', 'INDKOMSTTYPE', 'ENHED' and 'TID' are dropped since they are not relevant for our analysis."
   ]
  },
  {
   "cell_type": "code",
   "execution_count": 15,
   "metadata": {},
   "outputs": [
    {
     "name": "stdout",
     "output_type": "stream",
     "text": [
      "Income data now looks like this:\n"
     ]
    },
    {
     "data": {
      "text/html": [
       "<div>\n",
       "<style scoped>\n",
       "    .dataframe tbody tr th:only-of-type {\n",
       "        vertical-align: middle;\n",
       "    }\n",
       "\n",
       "    .dataframe tbody tr th {\n",
       "        vertical-align: top;\n",
       "    }\n",
       "\n",
       "    .dataframe thead th {\n",
       "        text-align: right;\n",
       "    }\n",
       "</style>\n",
       "<table border=\"1\" class=\"dataframe\">\n",
       "  <thead>\n",
       "    <tr style=\"text-align: right;\">\n",
       "      <th></th>\n",
       "      <th>municipality</th>\n",
       "      <th>avg_income</th>\n",
       "    </tr>\n",
       "  </thead>\n",
       "  <tbody>\n",
       "    <tr>\n",
       "      <th>0</th>\n",
       "      <td>All Denmark</td>\n",
       "      <td>338122</td>\n",
       "    </tr>\n",
       "    <tr>\n",
       "      <th>1</th>\n",
       "      <td>Province Byen København</td>\n",
       "      <td>353203</td>\n",
       "    </tr>\n",
       "    <tr>\n",
       "      <th>2</th>\n",
       "      <td>Province Københavns omegn</td>\n",
       "      <td>388125</td>\n",
       "    </tr>\n",
       "    <tr>\n",
       "      <th>3</th>\n",
       "      <td>Province Nordsjælland</td>\n",
       "      <td>414861</td>\n",
       "    </tr>\n",
       "    <tr>\n",
       "      <th>4</th>\n",
       "      <td>Province Bornholm</td>\n",
       "      <td>291198</td>\n",
       "    </tr>\n",
       "  </tbody>\n",
       "</table>\n",
       "</div>"
      ],
      "text/plain": [
       "                municipality  avg_income\n",
       "0                All Denmark      338122\n",
       "1    Province Byen København      353203\n",
       "2  Province Københavns omegn      388125\n",
       "3      Province Nordsjælland      414861\n",
       "4          Province Bornholm      291198"
      ]
     },
     "execution_count": 15,
     "metadata": {},
     "output_type": "execute_result"
    }
   ],
   "source": [
    "inc_1=inc_api.drop(['KOEN','INDKOMSTTYPE','ENHED', 'TID'], axis=1)\n",
    "inc_1.rename(columns = {'INDHOLD':'avg_income','OMRÅDE':'municipality'}, inplace=True) #renaming columns\n",
    "print('Income data now looks like this:')\n",
    "inc_1.head()"
   ]
  },
  {
   "cell_type": "markdown",
   "metadata": {},
   "source": [
    "As noticed in above dataframe the data is not sorted. \n",
    "Hence the dataframe is grouped by municipality as of alphabetic order. "
   ]
  },
  {
   "cell_type": "code",
   "execution_count": 16,
   "metadata": {},
   "outputs": [
    {
     "name": "stdout",
     "output_type": "stream",
     "text": [
      "Final income data now looks like this:\n"
     ]
    },
    {
     "data": {
      "text/html": [
       "<div>\n",
       "<style scoped>\n",
       "    .dataframe tbody tr th:only-of-type {\n",
       "        vertical-align: middle;\n",
       "    }\n",
       "\n",
       "    .dataframe tbody tr th {\n",
       "        vertical-align: top;\n",
       "    }\n",
       "\n",
       "    .dataframe thead th {\n",
       "        text-align: right;\n",
       "    }\n",
       "</style>\n",
       "<table border=\"1\" class=\"dataframe\">\n",
       "  <thead>\n",
       "    <tr style=\"text-align: right;\">\n",
       "      <th></th>\n",
       "      <th>municipality</th>\n",
       "      <th>avg_income</th>\n",
       "    </tr>\n",
       "  </thead>\n",
       "  <tbody>\n",
       "    <tr>\n",
       "      <th>0</th>\n",
       "      <td>Aabenraa</td>\n",
       "      <td>305855</td>\n",
       "    </tr>\n",
       "    <tr>\n",
       "      <th>1</th>\n",
       "      <td>Aalborg</td>\n",
       "      <td>310886</td>\n",
       "    </tr>\n",
       "    <tr>\n",
       "      <th>2</th>\n",
       "      <td>Aarhus</td>\n",
       "      <td>327869</td>\n",
       "    </tr>\n",
       "    <tr>\n",
       "      <th>3</th>\n",
       "      <td>Albertslund</td>\n",
       "      <td>295184</td>\n",
       "    </tr>\n",
       "    <tr>\n",
       "      <th>4</th>\n",
       "      <td>All Denmark</td>\n",
       "      <td>338122</td>\n",
       "    </tr>\n",
       "  </tbody>\n",
       "</table>\n",
       "</div>"
      ],
      "text/plain": [
       "  municipality  avg_income\n",
       "0     Aabenraa      305855\n",
       "1      Aalborg      310886\n",
       "2       Aarhus      327869\n",
       "3  Albertslund      295184\n",
       "4  All Denmark      338122"
      ]
     },
     "execution_count": 16,
     "metadata": {},
     "output_type": "execute_result"
    }
   ],
   "source": [
    "avg_inc=inc_1.groupby(by=\"municipality\").sum().reset_index()\n",
    "print('Final income data now looks like this:')\n",
    "avg_inc.head()"
   ]
  },
  {
   "cell_type": "markdown",
   "metadata": {},
   "source": [
    "## Education Level data"
   ]
  },
  {
   "cell_type": "code",
   "execution_count": 17,
   "metadata": {},
   "outputs": [
    {
     "name": "stdout",
     "output_type": "stream",
     "text": [
      "BOPOMR\n",
      " id = 000, text = All Denmark\n",
      " id = 084, text = Region Hovedstaden\n",
      " id = 101, text = Copenhagen\n",
      " id = 147, text = Frederiksberg\n",
      " id = 155, text = Dragør\n",
      " id = 185, text = Tårnby\n",
      " id = 165, text = Albertslund\n",
      " id = 151, text = Ballerup\n",
      " id = 153, text = Brøndby\n",
      " id = 157, text = Gentofte\n",
      " id = 159, text = Gladsaxe\n",
      " id = 161, text = Glostrup\n",
      " id = 163, text = Herlev\n",
      " id = 167, text = Hvidovre\n",
      " id = 169, text = Høje-Taastrup\n",
      " id = 183, text = Ishøj\n",
      " id = 173, text = Lyngby-Taarbæk\n",
      " id = 175, text = Rødovre\n",
      " id = 187, text = Vallensbæk\n",
      " id = 201, text = Allerød\n",
      " id = 240, text = Egedal\n",
      " id = 210, text = Fredensborg\n",
      " id = 250, text = Frederikssund\n",
      " id = 190, text = Furesø\n",
      " id = 270, text = Gribskov\n",
      " id = 260, text = Halsnæs\n",
      " id = 217, text = Helsingør\n",
      " id = 219, text = Hillerød\n",
      " id = 223, text = Hørsholm\n",
      " id = 230, text = Rudersdal\n",
      " id = 400, text = Bornholm\n",
      " id = 411, text = Christiansø\n",
      " id = 085, text = Region Sjælland\n",
      " id = 253, text = Greve\n",
      " id = 259, text = Køge\n",
      " id = 350, text = Lejre\n",
      " id = 265, text = Roskilde\n",
      " id = 269, text = Solrød\n",
      " id = 320, text = Faxe\n",
      " id = 376, text = Guldborgsund\n",
      " id = 316, text = Holbæk\n",
      " id = 326, text = Kalundborg\n",
      " id = 360, text = Lolland\n",
      " id = 370, text = Næstved\n",
      " id = 306, text = Odsherred\n",
      " id = 329, text = Ringsted\n",
      " id = 330, text = Slagelse\n",
      " id = 340, text = Sorø\n",
      " id = 336, text = Stevns\n",
      " id = 390, text = Vordingborg\n",
      " id = 083, text = Region Syddanmark\n",
      " id = 420, text = Assens\n",
      " id = 430, text = Faaborg-Midtfyn\n",
      " id = 440, text = Kerteminde\n",
      " id = 482, text = Langeland\n",
      " id = 410, text = Middelfart\n",
      " id = 480, text = Nordfyns\n",
      " id = 450, text = Nyborg\n",
      " id = 461, text = Odense\n",
      " id = 479, text = Svendborg\n",
      " id = 492, text = Ærø\n",
      " id = 530, text = Billund\n",
      " id = 561, text = Esbjerg\n",
      " id = 563, text = Fanø\n",
      " id = 607, text = Fredericia\n",
      " id = 510, text = Haderslev\n",
      " id = 621, text = Kolding\n",
      " id = 540, text = Sønderborg\n",
      " id = 550, text = Tønder\n",
      " id = 573, text = Varde\n",
      " id = 575, text = Vejen\n",
      " id = 630, text = Vejle\n",
      " id = 580, text = Aabenraa\n",
      " id = 082, text = Region Midtjylland\n",
      " id = 710, text = Favrskov\n",
      " id = 766, text = Hedensted\n",
      " id = 615, text = Horsens\n",
      " id = 707, text = Norddjurs\n",
      " id = 727, text = Odder\n",
      " id = 730, text = Randers\n",
      " id = 741, text = Samsø\n",
      " id = 740, text = Silkeborg\n",
      " id = 746, text = Skanderborg\n",
      " id = 706, text = Syddjurs\n",
      " id = 751, text = Aarhus\n",
      " id = 657, text = Herning\n",
      " id = 661, text = Holstebro\n",
      " id = 756, text = Ikast-Brande\n",
      " id = 665, text = Lemvig\n",
      " id = 760, text = Ringkøbing-Skjern\n",
      " id = 779, text = Skive\n",
      " id = 671, text = Struer\n",
      " id = 791, text = Viborg\n",
      " id = 081, text = Region Nordjylland\n",
      " id = 810, text = Brønderslev\n",
      " id = 813, text = Frederikshavn\n",
      " id = 860, text = Hjørring\n",
      " id = 849, text = Jammerbugt\n",
      " id = 825, text = Læsø\n",
      " id = 846, text = Mariagerfjord\n",
      " id = 773, text = Morsø\n",
      " id = 840, text = Rebild\n",
      " id = 787, text = Thisted\n",
      " id = 820, text = Vesthimmerlands\n",
      " id = 851, text = Aalborg\n",
      "HERKOMST\n",
      " id = TOT, text = Total\n",
      " id = 5, text = Persons of Danish origin\n",
      " id = 4, text = Immigrants\n",
      " id = 3, text = Descendant\n",
      "HFUDD\n",
      " id = TOT, text = Total\n",
      " id = H10, text = H10 Primary education\n",
      " id = H1001, text = H1001 No education\n",
      " id = H1010, text = H1010 Primary school through to 6th grade\n",
      " id = H1020, text = H1020 Primary school 7th-9th grade\n",
      " id = H1030, text = H1030 Primary school 10th grade\n",
      " id = H20, text = H20 Upper secondary education\n",
      " id = H2010, text = H2010 Upper secondary education, General (stx, hf, student courses)\n",
      " id = H2020, text = H2020 Upper secondary education, General (hhx, htx)\n",
      " id = H2030, text = H2030 International upper secondary education\n",
      " id = H30, text = H30 Vocational Education and Training (VET)\n",
      " id = H3010, text = H3010 Care, health and education (OSP)\n",
      " id = H3015, text = H3015 Office, commercial and business services (KHF)\n",
      " id = H3020, text = H3020 Food etc. (FJO)\n",
      " id = H3025, text = H3025 Agriculture and nature (FJO)\n",
      " id = H3030, text = H3030 Experience and events (FJO)\n",
      " id = H3035, text = H3035 Construction (TBT)\n",
      " id = H3040, text = H3040 The technology area, power and electronics etc. (TBT)\n",
      " id = H3045, text = H3045 The technology area, graphical techniques and media production (TBT)\n",
      " id = H3050, text = H3050 The technology area, cycling, automotive and marine mechanics etc. (TBT)\n",
      " id = H3055, text = H3055 The technology area, mechanical engineering and production (TBT)\n",
      " id = H3060, text = H3060 Technical and industrial education in general (TBT)\n",
      " id = H3065, text = H3065 Transport and logistics (TBT)\n",
      " id = H3090, text = H3090 Other vocational educations\n",
      " id = H3097, text = H3097 H3097 Vocational education not specified, VET\n",
      " id = H35, text = H35 Qualifying educational programs\n",
      " id = H3510, text = H3510 Access courses - higher edu.\n",
      " id = H3520, text = H3520 Access Exams - engineering education\n",
      " id = H3530, text = H3530 Qualifying workshop schooling\n",
      " id = H40, text = H40 Short cycle higher education\n",
      " id = H4020, text = H4020 Educational, SCE\n",
      " id = H4024, text = H4024 Media and Communication, SCE\n",
      " id = H4025, text = H4025 Humanities and theological, SCE\n",
      " id = H4030, text = H4030 Arts, SCE\n",
      " id = H4038, text = H4038 Social science, Economics-Mercantile, SCE\n",
      " id = H4058, text = H4058 Technical educations, SCE\n",
      " id = H4075, text = H4075 Food, biotechnology and laboratory technology, SCE\n",
      " id = H4080, text = H4080 Agriculture, nature and environment, SCE\n",
      " id = H4085, text = H4085 Maritime, SCE\n",
      " id = H4089, text = H4089 Health, SCE\n",
      " id = H4095, text = H4095 Police, armed forces etc., SCE\n",
      " id = H4097, text = H4097 Higher education not specified, SCE\n",
      " id = H50, text = H50 Vocational bachelors educations\n",
      " id = H5020, text = H5020 Educational, VBE\n",
      " id = H5024, text = H5024 Media and Communication, VBE\n",
      " id = H5025, text = H5025 Humanities and theological, VBE\n",
      " id = H5030, text = H5030 Arts, VBE\n",
      " id = H5038, text = H5038 Social science, Economics-Mercantile, VBE\n",
      " id = H5039, text = H5039 Social Sciences, VBE\n",
      " id = H5058, text = H5058 Technical educations, VBE\n",
      " id = H5059, text = H5059 Technical sciences, VBE\n",
      " id = H5075, text = H5075 Food, biotechnology and laboratory technology, VBE\n",
      " id = H5080, text = H5080 Agriculture, nature and environment, VBE\n",
      " id = H5085, text = H5085 Maritime, VBE\n",
      " id = H5089, text = H5089 Health, VBE\n",
      " id = H5095, text = H5095 Police, armed forces etc., VBE\n",
      " id = H5097, text = H5097 Higher education not specified, VBE\n",
      " id = H60, text = H60 Bachelors programs\n",
      " id = H6020, text = H6020 Educational, BACH\n",
      " id = H6025, text = H6025 Humanities and theological, BACH\n",
      " id = H6030, text = H6030 Arts, BACH\n",
      " id = H6035, text = H6035 Science, BACH\n",
      " id = H6039, text = H6039 Social Sciences, BACH\n",
      " id = H6059, text = H6059 Technical sciences, BACH\n",
      " id = H6075, text = H6075 Food, biotechnology and laboratory technology, BACH\n",
      " id = H6080, text = H6080 Agriculture, nature and environment, BACH\n",
      " id = H6090, text = H6090 Health science, BACH\n",
      " id = H6097, text = H6097 Higher education not specified, BACH\n",
      " id = H70, text = H70 Masters programs\n",
      " id = H7020, text = H7020 Educational, MASTER\n",
      " id = H7025, text = H7025 Humanities and theological, MASTER\n",
      " id = H7030, text = H7030 Arts, MASTER\n",
      " id = H7035, text = H7035 Science, MASTER\n",
      " id = H7039, text = H7039 Social Sciences, MASTER\n",
      " id = H7059, text = H7059 Technical sciences, MASTER\n",
      " id = H7075, text = H7075 Food, biotechnology and laboratory technology, MASTER\n",
      " id = H7080, text = H7080 Agriculture, nature and environment, MASTER\n",
      " id = H7090, text = H7090 Health science, MASTER\n",
      " id = H7095, text = H7095 Police, armed forces etc., MASTER\n",
      " id = H7097, text = H7097 Higher education not specified, MASTER\n",
      " id = H80, text = H80 PhD programs\n",
      " id = H8020, text = H8020 Educational, PhD\n",
      " id = H8025, text = H8025 Humanities and theological PhD\n",
      " id = H8030, text = H8030 Arts, PhD\n",
      " id = H8035, text = H8035 Science, PhD\n",
      " id = H8039, text = H8039 Social Sciences, PhD\n",
      " id = H8059, text = H8059 Technical sciences, PhD\n",
      " id = H8080, text = H8080 PhD programmes\n",
      " id = H8090, text = H8090 Health science, PhD\n",
      " id = H8097, text = H8097 Higher education not specified, PhD\n",
      " id = H90, text = H90 Not stated\n",
      " id = H9099, text = H9099 Not stated\n",
      "Tid\n",
      " id = 2008, text = 2008\n",
      " id = 2009, text = 2009\n",
      " id = 2010, text = 2010\n",
      " id = 2011, text = 2011\n",
      " id = 2012, text = 2012\n",
      " id = 2013, text = 2013\n",
      " id = 2014, text = 2014\n",
      " id = 2015, text = 2015\n",
      " id = 2016, text = 2016\n",
      " id = 2017, text = 2017\n",
      " id = 2018, text = 2018\n",
      " id = 2019, text = 2019\n",
      " id = 2020, text = 2020\n",
      "ALDER\n",
      " id = TOT, text = Age, total\n",
      " id = 15-19, text = 15-19 years\n",
      " id = 20-24, text = 20-24 years\n",
      " id = 25-29, text = 25-29 years\n",
      " id = 30-34, text = 30-34 years\n",
      " id = 35-39, text = 35-39 years\n",
      " id = 40-44, text = 40-44 years\n",
      " id = 45-49, text = 45-49 years\n",
      " id = 50-54, text = 50-54 years\n",
      " id = 55-59, text = 55-59 years\n",
      " id = 60-64, text = 60-64 years\n",
      " id = 65-69, text = 65-69 years\n"
     ]
    }
   ],
   "source": [
    "# List all subjects.\n",
    "Dst.get_subjects()\n",
    "\n",
    "# List all tables under the subject Education and knowledge which has the id 03\\n\",\n",
    "table = Dst.get_tables(subjects=['03'])\n",
    "\n",
    "#Choose the table \\\"HFUDD11: Befolkningens højest fuldførte uddannelse (15-69 år) efter bopælsområde, herkomst, højest fuldførte uddannelse, alder og køn\\\"\\n\",\n",
    "table[table.id == 'HFUDD11']\n",
    "\n",
    "# Get the variables in the dataset HFUDD11\\n\",\n",
    "Edd_vars = Dst.get_variables(table_id='HFUDD11')\n",
    "Edd_vars\n",
    "\n",
    "# List all the ID of the of variable in the dataset HFUDD11:\\n\",\n",
    "Edd_vars = Dst.get_variables(table_id='HFUDD11')\n",
    "for id in ['BOPOMR','HERKOMST','HFUDD','Tid','ALDER']:\n",
    "    print(id)\n",
    "    values = Edd_vars.loc[Edd_vars.id == id,['values']].values[0,0]\n",
    "    for value in values:      \n",
    "        print(f' id = {value[\"id\"]}, text = {value[\"text\"]}')"
   ]
  },
  {
   "cell_type": "code",
   "execution_count": 18,
   "metadata": {},
   "outputs": [
    {
     "data": {
      "text/html": [
       "<div>\n",
       "<style scoped>\n",
       "    .dataframe tbody tr th:only-of-type {\n",
       "        vertical-align: middle;\n",
       "    }\n",
       "\n",
       "    .dataframe tbody tr th {\n",
       "        vertical-align: top;\n",
       "    }\n",
       "\n",
       "    .dataframe thead th {\n",
       "        text-align: right;\n",
       "    }\n",
       "</style>\n",
       "<table border=\"1\" class=\"dataframe\">\n",
       "  <thead>\n",
       "    <tr style=\"text-align: right;\">\n",
       "      <th></th>\n",
       "      <th>BOPOMR</th>\n",
       "      <th>HERKOMST</th>\n",
       "      <th>HFUDD</th>\n",
       "      <th>TID</th>\n",
       "      <th>KØN</th>\n",
       "      <th>ALDER</th>\n",
       "      <th>INDHOLD</th>\n",
       "    </tr>\n",
       "  </thead>\n",
       "  <tbody>\n",
       "    <tr>\n",
       "      <th>0</th>\n",
       "      <td>Haderslev</td>\n",
       "      <td>Persons of Danish origin</td>\n",
       "      <td>H80 PhD programs</td>\n",
       "      <td>2008</td>\n",
       "      <td>Women</td>\n",
       "      <td>Age, total</td>\n",
       "      <td>5</td>\n",
       "    </tr>\n",
       "    <tr>\n",
       "      <th>1</th>\n",
       "      <td>Haderslev</td>\n",
       "      <td>Persons of Danish origin</td>\n",
       "      <td>H80 PhD programs</td>\n",
       "      <td>2008</td>\n",
       "      <td>Men</td>\n",
       "      <td>Age, total</td>\n",
       "      <td>15</td>\n",
       "    </tr>\n",
       "    <tr>\n",
       "      <th>2</th>\n",
       "      <td>Haderslev</td>\n",
       "      <td>Persons of Danish origin</td>\n",
       "      <td>H80 PhD programs</td>\n",
       "      <td>2008</td>\n",
       "      <td>Total</td>\n",
       "      <td>Age, total</td>\n",
       "      <td>20</td>\n",
       "    </tr>\n",
       "    <tr>\n",
       "      <th>3</th>\n",
       "      <td>Billund</td>\n",
       "      <td>Total</td>\n",
       "      <td>H10 Primary education</td>\n",
       "      <td>2008</td>\n",
       "      <td>Women</td>\n",
       "      <td>Age, total</td>\n",
       "      <td>3565</td>\n",
       "    </tr>\n",
       "    <tr>\n",
       "      <th>4</th>\n",
       "      <td>Billund</td>\n",
       "      <td>Total</td>\n",
       "      <td>H10 Primary education</td>\n",
       "      <td>2008</td>\n",
       "      <td>Men</td>\n",
       "      <td>Age, total</td>\n",
       "      <td>3489</td>\n",
       "    </tr>\n",
       "  </tbody>\n",
       "</table>\n",
       "</div>"
      ],
      "text/plain": [
       "      BOPOMR                  HERKOMST                  HFUDD   TID    KØN  \\\n",
       "0  Haderslev  Persons of Danish origin       H80 PhD programs  2008  Women   \n",
       "1  Haderslev  Persons of Danish origin       H80 PhD programs  2008    Men   \n",
       "2  Haderslev  Persons of Danish origin       H80 PhD programs  2008  Total   \n",
       "3    Billund                     Total  H10 Primary education  2008  Women   \n",
       "4    Billund                     Total  H10 Primary education  2008    Men   \n",
       "\n",
       "        ALDER  INDHOLD  \n",
       "0  Age, total        5  \n",
       "1  Age, total       15  \n",
       "2  Age, total       20  \n",
       "3  Age, total     3565  \n",
       "4  Age, total     3489  "
      ]
     },
     "execution_count": 18,
     "metadata": {},
     "output_type": "execute_result"
    }
   ],
   "source": [
    "# Using the IDs from the previous table we get the data\n",
    "variables_2 = {'BOPOMR':['*'],'HERKOMST':['*'],'HFUDD':['H10','H20','H30','H40','H50','H60','H70','H80'],'Tid':['*'],'KØN':['*'],'ALDER':['TOT']}\n",
    "edu_api = Dst.get_data(table_id = 'HFUDD11', variables=variables_2)\n",
    "edu_api.head()"
   ]
  },
  {
   "cell_type": "code",
   "execution_count": 19,
   "metadata": {},
   "outputs": [
    {
     "data": {
      "text/html": [
       "<div>\n",
       "<style scoped>\n",
       "    .dataframe tbody tr th:only-of-type {\n",
       "        vertical-align: middle;\n",
       "    }\n",
       "\n",
       "    .dataframe tbody tr th {\n",
       "        vertical-align: top;\n",
       "    }\n",
       "\n",
       "    .dataframe thead th {\n",
       "        text-align: right;\n",
       "    }\n",
       "</style>\n",
       "<table border=\"1\" class=\"dataframe\">\n",
       "  <thead>\n",
       "    <tr style=\"text-align: right;\">\n",
       "      <th></th>\n",
       "      <th>BOPOMR</th>\n",
       "      <th>HERKOMST</th>\n",
       "      <th>HFUDD</th>\n",
       "      <th>INDHOLD</th>\n",
       "    </tr>\n",
       "  </thead>\n",
       "  <tbody>\n",
       "    <tr>\n",
       "      <th>0</th>\n",
       "      <td>Haderslev</td>\n",
       "      <td>Persons of Danish origin</td>\n",
       "      <td>H80 PhD programs</td>\n",
       "      <td>5</td>\n",
       "    </tr>\n",
       "    <tr>\n",
       "      <th>1</th>\n",
       "      <td>Haderslev</td>\n",
       "      <td>Persons of Danish origin</td>\n",
       "      <td>H80 PhD programs</td>\n",
       "      <td>15</td>\n",
       "    </tr>\n",
       "    <tr>\n",
       "      <th>2</th>\n",
       "      <td>Haderslev</td>\n",
       "      <td>Persons of Danish origin</td>\n",
       "      <td>H80 PhD programs</td>\n",
       "      <td>20</td>\n",
       "    </tr>\n",
       "    <tr>\n",
       "      <th>3</th>\n",
       "      <td>Billund</td>\n",
       "      <td>Total</td>\n",
       "      <td>H10 Primary education</td>\n",
       "      <td>3565</td>\n",
       "    </tr>\n",
       "    <tr>\n",
       "      <th>4</th>\n",
       "      <td>Billund</td>\n",
       "      <td>Total</td>\n",
       "      <td>H10 Primary education</td>\n",
       "      <td>3489</td>\n",
       "    </tr>\n",
       "  </tbody>\n",
       "</table>\n",
       "</div>"
      ],
      "text/plain": [
       "      BOPOMR                  HERKOMST                  HFUDD  INDHOLD\n",
       "0  Haderslev  Persons of Danish origin       H80 PhD programs        5\n",
       "1  Haderslev  Persons of Danish origin       H80 PhD programs       15\n",
       "2  Haderslev  Persons of Danish origin       H80 PhD programs       20\n",
       "3    Billund                     Total  H10 Primary education     3565\n",
       "4    Billund                     Total  H10 Primary education     3489"
      ]
     },
     "execution_count": 19,
     "metadata": {},
     "output_type": "execute_result"
    }
   ],
   "source": [
    "#Drop colum ALDER and KØN\n",
    "drop_these = ['ALDER','KØN', 'TID']\n",
    "edu_api.drop(drop_these ,axis=1,inplace=True)\n",
    "edu_api.head(5)"
   ]
  },
  {
   "cell_type": "code",
   "execution_count": 20,
   "metadata": {},
   "outputs": [
    {
     "data": {
      "text/html": [
       "<div>\n",
       "<style scoped>\n",
       "    .dataframe tbody tr th:only-of-type {\n",
       "        vertical-align: middle;\n",
       "    }\n",
       "\n",
       "    .dataframe tbody tr th {\n",
       "        vertical-align: top;\n",
       "    }\n",
       "\n",
       "    .dataframe thead th {\n",
       "        text-align: right;\n",
       "    }\n",
       "</style>\n",
       "<table border=\"1\" class=\"dataframe\">\n",
       "  <thead>\n",
       "    <tr style=\"text-align: right;\">\n",
       "      <th></th>\n",
       "      <th>municipality</th>\n",
       "      <th>origin</th>\n",
       "      <th>education</th>\n",
       "      <th>number of individuals</th>\n",
       "    </tr>\n",
       "  </thead>\n",
       "  <tbody>\n",
       "    <tr>\n",
       "      <th>0</th>\n",
       "      <td>Haderslev</td>\n",
       "      <td>Persons of Danish origin</td>\n",
       "      <td>H80 PhD programs</td>\n",
       "      <td>5</td>\n",
       "    </tr>\n",
       "    <tr>\n",
       "      <th>1</th>\n",
       "      <td>Haderslev</td>\n",
       "      <td>Persons of Danish origin</td>\n",
       "      <td>H80 PhD programs</td>\n",
       "      <td>15</td>\n",
       "    </tr>\n",
       "    <tr>\n",
       "      <th>2</th>\n",
       "      <td>Haderslev</td>\n",
       "      <td>Persons of Danish origin</td>\n",
       "      <td>H80 PhD programs</td>\n",
       "      <td>20</td>\n",
       "    </tr>\n",
       "    <tr>\n",
       "      <th>3</th>\n",
       "      <td>Billund</td>\n",
       "      <td>Total</td>\n",
       "      <td>H10 Primary education</td>\n",
       "      <td>3565</td>\n",
       "    </tr>\n",
       "    <tr>\n",
       "      <th>4</th>\n",
       "      <td>Billund</td>\n",
       "      <td>Total</td>\n",
       "      <td>H10 Primary education</td>\n",
       "      <td>3489</td>\n",
       "    </tr>\n",
       "  </tbody>\n",
       "</table>\n",
       "</div>"
      ],
      "text/plain": [
       "  municipality                    origin              education  \\\n",
       "0    Haderslev  Persons of Danish origin       H80 PhD programs   \n",
       "1    Haderslev  Persons of Danish origin       H80 PhD programs   \n",
       "2    Haderslev  Persons of Danish origin       H80 PhD programs   \n",
       "3      Billund                     Total  H10 Primary education   \n",
       "4      Billund                     Total  H10 Primary education   \n",
       "\n",
       "   number of individuals  \n",
       "0                      5  \n",
       "1                     15  \n",
       "2                     20  \n",
       "3                   3565  \n",
       "4                   3489  "
      ]
     },
     "execution_count": 20,
     "metadata": {},
     "output_type": "execute_result"
    }
   ],
   "source": [
    "#Translate the names of the variable to english\n",
    "edu_api.rename(columns={'BOPOMR':'municipality','HERKOMST':'origin','TID':'year','HFUDD':'education','INDHOLD':'number of individuals'},inplace=True)\n",
    "edu_api.head(5)"
   ]
  },
  {
   "cell_type": "code",
   "execution_count": 21,
   "metadata": {},
   "outputs": [
    {
     "data": {
      "text/html": [
       "<div>\n",
       "<style scoped>\n",
       "    .dataframe tbody tr th:only-of-type {\n",
       "        vertical-align: middle;\n",
       "    }\n",
       "\n",
       "    .dataframe tbody tr th {\n",
       "        vertical-align: top;\n",
       "    }\n",
       "\n",
       "    .dataframe thead th {\n",
       "        text-align: right;\n",
       "    }\n",
       "</style>\n",
       "<table border=\"1\" class=\"dataframe\">\n",
       "  <thead>\n",
       "    <tr style=\"text-align: right;\">\n",
       "      <th></th>\n",
       "      <th>BOPOMR</th>\n",
       "      <th>HERKOMST</th>\n",
       "      <th>HFUDD</th>\n",
       "      <th>TID</th>\n",
       "      <th>KØN</th>\n",
       "      <th>ALDER</th>\n",
       "      <th>INDHOLD</th>\n",
       "    </tr>\n",
       "  </thead>\n",
       "  <tbody>\n",
       "    <tr>\n",
       "      <th>0</th>\n",
       "      <td>All Denmark</td>\n",
       "      <td>Total</td>\n",
       "      <td>H70 Masters programs</td>\n",
       "      <td>2019</td>\n",
       "      <td>Total</td>\n",
       "      <td>Age, total</td>\n",
       "      <td>419094</td>\n",
       "    </tr>\n",
       "    <tr>\n",
       "      <th>1</th>\n",
       "      <td>All Denmark</td>\n",
       "      <td>Total</td>\n",
       "      <td>H80 PhD programs</td>\n",
       "      <td>2019</td>\n",
       "      <td>Total</td>\n",
       "      <td>Age, total</td>\n",
       "      <td>37792</td>\n",
       "    </tr>\n",
       "    <tr>\n",
       "      <th>2</th>\n",
       "      <td>All Denmark</td>\n",
       "      <td>Total</td>\n",
       "      <td>Total</td>\n",
       "      <td>2019</td>\n",
       "      <td>Total</td>\n",
       "      <td>Age, total</td>\n",
       "      <td>4040015</td>\n",
       "    </tr>\n",
       "    <tr>\n",
       "      <th>3</th>\n",
       "      <td>Region Nordjylland</td>\n",
       "      <td>Total</td>\n",
       "      <td>H70 Masters programs</td>\n",
       "      <td>2019</td>\n",
       "      <td>Total</td>\n",
       "      <td>Age, total</td>\n",
       "      <td>27756</td>\n",
       "    </tr>\n",
       "    <tr>\n",
       "      <th>4</th>\n",
       "      <td>Region Nordjylland</td>\n",
       "      <td>Total</td>\n",
       "      <td>H80 PhD programs</td>\n",
       "      <td>2019</td>\n",
       "      <td>Total</td>\n",
       "      <td>Age, total</td>\n",
       "      <td>2023</td>\n",
       "    </tr>\n",
       "  </tbody>\n",
       "</table>\n",
       "</div>"
      ],
      "text/plain": [
       "               BOPOMR HERKOMST                 HFUDD   TID    KØN       ALDER  \\\n",
       "0         All Denmark    Total  H70 Masters programs  2019  Total  Age, total   \n",
       "1         All Denmark    Total      H80 PhD programs  2019  Total  Age, total   \n",
       "2         All Denmark    Total                 Total  2019  Total  Age, total   \n",
       "3  Region Nordjylland    Total  H70 Masters programs  2019  Total  Age, total   \n",
       "4  Region Nordjylland    Total      H80 PhD programs  2019  Total  Age, total   \n",
       "\n",
       "   INDHOLD  \n",
       "0   419094  \n",
       "1    37792  \n",
       "2  4040015  \n",
       "3    27756  \n",
       "4     2023  "
      ]
     },
     "execution_count": 21,
     "metadata": {},
     "output_type": "execute_result"
    }
   ],
   "source": [
    "# Using the IDs from the previous table we get the data\n",
    "variables_2 = {'BOPOMR':['*'],'HERKOMST':['TOT'],'HFUDD':['TOT','H70','H80'],'Tid':['2019'],'KØN':['TOT'],'ALDER':['TOT']}\n",
    "edu_api = Dst.get_data(table_id = 'HFUDD11', variables=variables_2)\n",
    "edu_api.head(5)"
   ]
  },
  {
   "cell_type": "code",
   "execution_count": 22,
   "metadata": {},
   "outputs": [
    {
     "name": "stdout",
     "output_type": "stream",
     "text": [
      "0    False\n",
      "1    False\n",
      "2     True\n",
      "3    False\n",
      "4    False\n",
      "Name: HFUDD, dtype: bool\n",
      "0     True\n",
      "1     True\n",
      "2    False\n",
      "3     True\n",
      "4     True\n",
      "Name: HFUDD, dtype: bool\n"
     ]
    },
    {
     "data": {
      "text/html": [
       "<div>\n",
       "<style scoped>\n",
       "    .dataframe tbody tr th:only-of-type {\n",
       "        vertical-align: middle;\n",
       "    }\n",
       "\n",
       "    .dataframe tbody tr th {\n",
       "        vertical-align: top;\n",
       "    }\n",
       "\n",
       "    .dataframe thead th {\n",
       "        text-align: right;\n",
       "    }\n",
       "</style>\n",
       "<table border=\"1\" class=\"dataframe\">\n",
       "  <thead>\n",
       "    <tr style=\"text-align: right;\">\n",
       "      <th></th>\n",
       "      <th>municipality</th>\n",
       "      <th>highly_educ</th>\n",
       "    </tr>\n",
       "  </thead>\n",
       "  <tbody>\n",
       "    <tr>\n",
       "      <th>0</th>\n",
       "      <td>Aabenraa</td>\n",
       "      <td>0.046831</td>\n",
       "    </tr>\n",
       "    <tr>\n",
       "      <th>1</th>\n",
       "      <td>Aalborg</td>\n",
       "      <td>0.119789</td>\n",
       "    </tr>\n",
       "    <tr>\n",
       "      <th>2</th>\n",
       "      <td>Aarhus</td>\n",
       "      <td>0.173609</td>\n",
       "    </tr>\n",
       "    <tr>\n",
       "      <th>3</th>\n",
       "      <td>Albertslund</td>\n",
       "      <td>0.074696</td>\n",
       "    </tr>\n",
       "    <tr>\n",
       "      <th>4</th>\n",
       "      <td>All Denmark</td>\n",
       "      <td>0.113090</td>\n",
       "    </tr>\n",
       "    <tr>\n",
       "      <th>5</th>\n",
       "      <td>Allerød</td>\n",
       "      <td>0.205682</td>\n",
       "    </tr>\n",
       "    <tr>\n",
       "      <th>6</th>\n",
       "      <td>Assens</td>\n",
       "      <td>0.048490</td>\n",
       "    </tr>\n",
       "    <tr>\n",
       "      <th>7</th>\n",
       "      <td>Ballerup</td>\n",
       "      <td>0.107772</td>\n",
       "    </tr>\n",
       "    <tr>\n",
       "      <th>8</th>\n",
       "      <td>Billund</td>\n",
       "      <td>0.046856</td>\n",
       "    </tr>\n",
       "    <tr>\n",
       "      <th>9</th>\n",
       "      <td>Bornholm</td>\n",
       "      <td>0.046277</td>\n",
       "    </tr>\n",
       "  </tbody>\n",
       "</table>\n",
       "</div>"
      ],
      "text/plain": [
       "  municipality  highly_educ\n",
       "0     Aabenraa     0.046831\n",
       "1      Aalborg     0.119789\n",
       "2       Aarhus     0.173609\n",
       "3  Albertslund     0.074696\n",
       "4  All Denmark     0.113090\n",
       "5      Allerød     0.205682\n",
       "6       Assens     0.048490\n",
       "7     Ballerup     0.107772\n",
       "8      Billund     0.046856\n",
       "9     Bornholm     0.046277"
      ]
     },
     "execution_count": 22,
     "metadata": {},
     "output_type": "execute_result"
    }
   ],
   "source": [
    "#total\n",
    "total =  edu_api['HFUDD']=='Total'\n",
    "print(total.head())\n",
    "df_total=edu_api[total].groupby(['BOPOMR'])['INDHOLD'].sum().reset_index(name='sumtotal')\n",
    "\n",
    "#highly\n",
    "highly =  (edu_api['HFUDD']=='H70 Masters programs') | (edu_api['HFUDD']=='H80 PhD programs')\n",
    "print(highly.head())\n",
    "df_highly=edu_api[highly].groupby(['BOPOMR'])['INDHOLD'].sum().reset_index(name='sumhighly')\n",
    "\n",
    "together = pd.merge(df_total, df_highly, on=['BOPOMR'], how='left')\n",
    "together['highly_educ']=together['sumhighly']/together['sumtotal']\n",
    "\n",
    "\n",
    "drop_these = ['sumtotal', 'sumhighly']\n",
    "together.drop(drop_these, axis=1, inplace=True)\n",
    "together.rename(columns = {'BOPOMR':'municipality'}, inplace=True)\n",
    "together.head(10)\n",
    "\n"
   ]
  },
  {
   "cell_type": "markdown",
   "metadata": {},
   "source": [
    "# Merge data sets"
   ]
  },
  {
   "cell_type": "markdown",
   "metadata": {},
   "source": [
    "Now that the income- and education level data have been fetched and cleaned, we can merge it with data set 1: School data. \n",
    "A left merge of income- and education level data is performed from School data on municipalities. \n",
    "This means that we keep every municipality fom the left dataframe:School data, while adding row values from the columns:highly_educ and avg_income stemming from the income- and education level data sets. \n",
    "Rows in School data that have no corresponding value in income- and education level data, if any, are replaced with NaN values after the merge. "
   ]
  },
  {
   "cell_type": "code",
   "execution_count": 23,
   "metadata": {},
   "outputs": [],
   "source": [
    "merged = pd.merge(school_merge, together, how='left',on=['municipality'])\n",
    "merged = pd.merge(merged, avg_inc, how='left',on=['municipality'])"
   ]
  },
  {
   "cell_type": "markdown",
   "metadata": {},
   "source": [
    "In order to control whether the merge went succesfully, we print the length in the left data (School data) and compare it with the length of the merged dataset. As we have both 97 municipalities in School data - and the merged data set, it seems that the merge was succesfull."
   ]
  },
  {
   "cell_type": "code",
   "execution_count": 24,
   "metadata": {},
   "outputs": [
    {
     "name": "stdout",
     "output_type": "stream",
     "text": [
      "Municipalities in school data = 97\n",
      "Municipalities in merged = 97\n"
     ]
    }
   ],
   "source": [
    "print(f'Municipalities in school data = {len(school_merge.municipality.unique())}')\n",
    "print(f'Municipalities in merged = {len(merged.municipality.unique())}')"
   ]
  },
  {
   "cell_type": "markdown",
   "metadata": {},
   "source": [
    "DK consists of 98 municipalities. Since we have performed a left merge from the School data on municipalites, it must therefore mean that we are missing one municipality in the original School data set. \n",
    "We then compare with one of our two other data sets, to figure out which municipality is missing. From the output below it is shown that it is \"Læsø\" that is missing. Since Læsø is a very small municipality with only 1.786 citizens, it is not a problem for our analysis that it is excluded. \n",
    "PLEASE NOTE:  'All Denmark',... 'Province' variables etc.,  are ignored since we are only interested in their subcategories: 'municipality'."
   ]
  },
  {
   "cell_type": "code",
   "execution_count": 25,
   "metadata": {},
   "outputs": [
    {
     "name": "stdout",
     "output_type": "stream",
     "text": [
      "Municipalities in income data, but not in merged data: ['All Denmark', 'Læsø', 'Province Bornholm', 'Province Byen København', 'Province Fyn', 'Province Københavns omegn', 'Province Nordjylland', 'Province Nordsjælland', 'Province Sydjylland', 'Province Vest- og Sydsjælland', 'Province Vestjylland', 'Province Østjylland', 'Province Østsjælland']\n"
     ]
    }
   ],
   "source": [
    "diff_1 = [m for m in avg_inc.municipality.unique() if m not in merged.municipality.unique()] \n",
    "print(f'Municipalities in income data, but not in merged data: {diff_1}')"
   ]
  },
  {
   "cell_type": "code",
   "execution_count": 26,
   "metadata": {},
   "outputs": [
    {
     "name": "stdout",
     "output_type": "stream",
     "text": [
      "Our final Municipality data looks like this:\n"
     ]
    },
    {
     "data": {
      "text/html": [
       "<div>\n",
       "<style scoped>\n",
       "    .dataframe tbody tr th:only-of-type {\n",
       "        vertical-align: middle;\n",
       "    }\n",
       "\n",
       "    .dataframe tbody tr th {\n",
       "        vertical-align: top;\n",
       "    }\n",
       "\n",
       "    .dataframe thead th {\n",
       "        text-align: right;\n",
       "    }\n",
       "</style>\n",
       "<table border=\"1\" class=\"dataframe\">\n",
       "  <thead>\n",
       "    <tr style=\"text-align: right;\">\n",
       "      <th></th>\n",
       "      <th>municipality</th>\n",
       "      <th>gpa</th>\n",
       "      <th>highly_educ</th>\n",
       "      <th>avg_income</th>\n",
       "    </tr>\n",
       "  </thead>\n",
       "  <tbody>\n",
       "    <tr>\n",
       "      <th>0</th>\n",
       "      <td>Aabenraa</td>\n",
       "      <td>6.127814</td>\n",
       "      <td>0.046831</td>\n",
       "      <td>305855</td>\n",
       "    </tr>\n",
       "    <tr>\n",
       "      <th>1</th>\n",
       "      <td>Aalborg</td>\n",
       "      <td>7.013712</td>\n",
       "      <td>0.119789</td>\n",
       "      <td>310886</td>\n",
       "    </tr>\n",
       "    <tr>\n",
       "      <th>2</th>\n",
       "      <td>Aarhus</td>\n",
       "      <td>7.140788</td>\n",
       "      <td>0.173609</td>\n",
       "      <td>327869</td>\n",
       "    </tr>\n",
       "    <tr>\n",
       "      <th>3</th>\n",
       "      <td>Albertslund</td>\n",
       "      <td>6.063983</td>\n",
       "      <td>0.074696</td>\n",
       "      <td>295184</td>\n",
       "    </tr>\n",
       "    <tr>\n",
       "      <th>4</th>\n",
       "      <td>Allerød</td>\n",
       "      <td>7.965370</td>\n",
       "      <td>0.205682</td>\n",
       "      <td>437980</td>\n",
       "    </tr>\n",
       "  </tbody>\n",
       "</table>\n",
       "</div>"
      ],
      "text/plain": [
       "  municipality       gpa  highly_educ  avg_income\n",
       "0     Aabenraa  6.127814     0.046831      305855\n",
       "1      Aalborg  7.013712     0.119789      310886\n",
       "2       Aarhus  7.140788     0.173609      327869\n",
       "3  Albertslund  6.063983     0.074696      295184\n",
       "4      Allerød  7.965370     0.205682      437980"
      ]
     },
     "execution_count": 26,
     "metadata": {},
     "output_type": "execute_result"
    }
   ],
   "source": [
    "print('Our final Municipality data looks like this:')\n",
    "merged.head()"
   ]
  },
  {
   "cell_type": "markdown",
   "metadata": {},
   "source": [
    "**Data set 2: Municipality data**\n",
    "\n",
    "The data set we just arrived at covers data for primary school performance, educational level and average income across all municipalities in Denmark in 2019. \n",
    "\n",
    "Variable      | Description\n",
    "------------- | -------------\n",
    "gpa           | Grade point average\n",
    "highly_educ   | Pct. share of inhabitants that have a master or ph.d.  \n",
    "avg_income    | Average income before tax \n",
    "\n",
    "We will use this data set in the data analysis to investigate primary school performance across municipalitites."
   ]
  },
  {
   "cell_type": "markdown",
   "metadata": {},
   "source": [
    "# Data analysis"
   ]
  },
  {
   "cell_type": "markdown",
   "metadata": {},
   "source": [
    "We have two data sets we want to analyze in order to investigate primary school performance: School data and Municipality data. First, we make a descriptive analysis of the two different data sets. Then, we make a heat map over the Danish municipalities illustrating the differences in primary school performance, educational level and average income. Finally, we investigate if there is any correlation between grade point average and the different variables in the two data sets."
   ]
  },
  {
   "cell_type": "markdown",
   "metadata": {},
   "source": [
    "## Descriptive analysis"
   ]
  },
  {
   "cell_type": "markdown",
   "metadata": {},
   "source": [
    "### School data"
   ]
  },
  {
   "cell_type": "code",
   "execution_count": 27,
   "metadata": {
    "scrolled": true
   },
   "outputs": [
    {
     "data": {
      "text/html": [
       "<div>\n",
       "<style scoped>\n",
       "    .dataframe tbody tr th:only-of-type {\n",
       "        vertical-align: middle;\n",
       "    }\n",
       "\n",
       "    .dataframe tbody tr th {\n",
       "        vertical-align: top;\n",
       "    }\n",
       "\n",
       "    .dataframe thead th {\n",
       "        text-align: right;\n",
       "    }\n",
       "</style>\n",
       "<table border=\"1\" class=\"dataframe\">\n",
       "  <thead>\n",
       "    <tr style=\"text-align: right;\">\n",
       "      <th></th>\n",
       "      <th>gpa</th>\n",
       "      <th>socioeconomic</th>\n",
       "      <th>well-being</th>\n",
       "      <th>absence</th>\n",
       "      <th>students_per_class</th>\n",
       "    </tr>\n",
       "  </thead>\n",
       "  <tbody>\n",
       "    <tr>\n",
       "      <th>count</th>\n",
       "      <td>10649.000000</td>\n",
       "      <td>7902.000000</td>\n",
       "      <td>7591.000000</td>\n",
       "      <td>7468.000000</td>\n",
       "      <td>11307.000000</td>\n",
       "    </tr>\n",
       "    <tr>\n",
       "      <th>mean</th>\n",
       "      <td>6.758373</td>\n",
       "      <td>6.971982</td>\n",
       "      <td>0.916098</td>\n",
       "      <td>0.057088</td>\n",
       "      <td>19.955086</td>\n",
       "    </tr>\n",
       "    <tr>\n",
       "      <th>std</th>\n",
       "      <td>1.322509</td>\n",
       "      <td>0.777083</td>\n",
       "      <td>0.061659</td>\n",
       "      <td>0.020201</td>\n",
       "      <td>3.619680</td>\n",
       "    </tr>\n",
       "    <tr>\n",
       "      <th>min</th>\n",
       "      <td>0.023809</td>\n",
       "      <td>3.100000</td>\n",
       "      <td>0.250000</td>\n",
       "      <td>0.000000</td>\n",
       "      <td>10.000000</td>\n",
       "    </tr>\n",
       "    <tr>\n",
       "      <th>25%</th>\n",
       "      <td>6.200000</td>\n",
       "      <td>6.500000</td>\n",
       "      <td>0.897309</td>\n",
       "      <td>0.044724</td>\n",
       "      <td>18.142850</td>\n",
       "    </tr>\n",
       "    <tr>\n",
       "      <th>50%</th>\n",
       "      <td>6.953868</td>\n",
       "      <td>7.000000</td>\n",
       "      <td>0.926829</td>\n",
       "      <td>0.053724</td>\n",
       "      <td>20.761900</td>\n",
       "    </tr>\n",
       "    <tr>\n",
       "      <th>75%</th>\n",
       "      <td>7.600000</td>\n",
       "      <td>7.500000</td>\n",
       "      <td>0.951446</td>\n",
       "      <td>0.065419</td>\n",
       "      <td>22.520000</td>\n",
       "    </tr>\n",
       "    <tr>\n",
       "      <th>max</th>\n",
       "      <td>10.952380</td>\n",
       "      <td>9.400000</td>\n",
       "      <td>1.000000</td>\n",
       "      <td>0.319612</td>\n",
       "      <td>35.000000</td>\n",
       "    </tr>\n",
       "  </tbody>\n",
       "</table>\n",
       "</div>"
      ],
      "text/plain": [
       "                gpa  socioeconomic   well-being      absence  \\\n",
       "count  10649.000000    7902.000000  7591.000000  7468.000000   \n",
       "mean       6.758373       6.971982     0.916098     0.057088   \n",
       "std        1.322509       0.777083     0.061659     0.020201   \n",
       "min        0.023809       3.100000     0.250000     0.000000   \n",
       "25%        6.200000       6.500000     0.897309     0.044724   \n",
       "50%        6.953868       7.000000     0.926829     0.053724   \n",
       "75%        7.600000       7.500000     0.951446     0.065419   \n",
       "max       10.952380       9.400000     1.000000     0.319612   \n",
       "\n",
       "       students_per_class  \n",
       "count        11307.000000  \n",
       "mean            19.955086  \n",
       "std              3.619680  \n",
       "min             10.000000  \n",
       "25%             18.142850  \n",
       "50%             20.761900  \n",
       "75%             22.520000  \n",
       "max             35.000000  "
      ]
     },
     "execution_count": 27,
     "metadata": {},
     "output_type": "execute_result"
    }
   ],
   "source": [
    "school_final.describe()"
   ]
  },
  {
   "cell_type": "markdown",
   "metadata": {},
   "source": [
    "The code gives all the descriptive information regardning the different variables in the dataframe. We get the mean, std and other key numbers. For gpa, the mean is 6.75. The figure below will illustrate this point."
   ]
  },
  {
   "cell_type": "code",
   "execution_count": 28,
   "metadata": {},
   "outputs": [
    {
     "data": {
      "text/plain": [
       "<matplotlib.axes._subplots.AxesSubplot at 0x7fc3025c3be0>"
      ]
     },
     "execution_count": 28,
     "metadata": {},
     "output_type": "execute_result"
    },
    {
     "data": {
      "image/png": "[encoded data removed]",
      "text/plain": [
       "<Figure size 432x288 with 1 Axes>"
      ]
     },
     "metadata": {},
     "output_type": "display_data"
    }
   ],
   "source": [
    "sns.histplot(x=\"gpa\",data=school_final)"
   ]
  },
  {
   "cell_type": "markdown",
   "metadata": {},
   "source": [
    "A histogram which shows the frequency of gpa's across the different schools. We see that most datapoints is between 6 and 8. "
   ]
  },
  {
   "cell_type": "code",
   "execution_count": 30,
   "metadata": {},
   "outputs": [],
   "source": [
    "#define function that plots the data for each school\n",
    "def hist_school(dataset,variable):\n",
    "    sns.histplot(x=variable,data=dataset)"
   ]
  },
  {
   "cell_type": "code",
   "execution_count": 31,
   "metadata": {},
   "outputs": [
    {
     "data": {
      "application/vnd.jupyter.widget-view+json": {
       "model_id": "e1bdd8b3fcc9426f923d8eedaad79458",
       "version_major": 2,
       "version_minor": 0
      },
      "text/plain": [
       "interactive(children=(Dropdown(description='Variable', options=('socioeconomic', 'well-being', 'absence', 'cla…"
      ]
     },
     "metadata": {},
     "output_type": "display_data"
    }
   ],
   "source": [
    "#create widget to make interactive plot\n",
    "widgets.interact(hist_school,\n",
    "                 dataset = widgets.fixed(school_final),\n",
    "                 \n",
    "                 variable = widgets.Dropdown(description='Variable',  \n",
    "                                                 options = ['socioeconomic', 'well-being','absence', 'class']));"
   ]
  },
  {
   "cell_type": "markdown",
   "metadata": {},
   "source": [
    "We have created a function in which its possible to manipulate x and get histograms, which shows the frequency for different variables in the dataframe. It should likewise show the same pattern seen from the descriptive statistics. "
   ]
  },
  {
   "cell_type": "markdown",
   "metadata": {},
   "source": [
    "### Municiaplity data"
   ]
  },
  {
   "cell_type": "code",
   "execution_count": 251,
   "metadata": {},
   "outputs": [
    {
     "data": {
      "text/html": [
       "<div>\n",
       "<style scoped>\n",
       "    .dataframe tbody tr th:only-of-type {\n",
       "        vertical-align: middle;\n",
       "    }\n",
       "\n",
       "    .dataframe tbody tr th {\n",
       "        vertical-align: top;\n",
       "    }\n",
       "\n",
       "    .dataframe thead th {\n",
       "        text-align: right;\n",
       "    }\n",
       "</style>\n",
       "<table border=\"1\" class=\"dataframe\">\n",
       "  <thead>\n",
       "    <tr style=\"text-align: right;\">\n",
       "      <th></th>\n",
       "      <th>gpa</th>\n",
       "      <th>highly_educ</th>\n",
       "      <th>avg_income</th>\n",
       "    </tr>\n",
       "  </thead>\n",
       "  <tbody>\n",
       "    <tr>\n",
       "      <th>count</th>\n",
       "      <td>97.000000</td>\n",
       "      <td>97.000000</td>\n",
       "      <td>97.000000</td>\n",
       "    </tr>\n",
       "    <tr>\n",
       "      <th>mean</th>\n",
       "      <td>6.712182</td>\n",
       "      <td>0.084646</td>\n",
       "      <td>338204.659794</td>\n",
       "    </tr>\n",
       "    <tr>\n",
       "      <th>std</th>\n",
       "      <td>0.531002</td>\n",
       "      <td>0.062595</td>\n",
       "      <td>61721.295533</td>\n",
       "    </tr>\n",
       "    <tr>\n",
       "      <th>min</th>\n",
       "      <td>5.599481</td>\n",
       "      <td>0.024623</td>\n",
       "      <td>273927.000000</td>\n",
       "    </tr>\n",
       "    <tr>\n",
       "      <th>25%</th>\n",
       "      <td>6.281505</td>\n",
       "      <td>0.045683</td>\n",
       "      <td>305855.000000</td>\n",
       "    </tr>\n",
       "    <tr>\n",
       "      <th>50%</th>\n",
       "      <td>6.677767</td>\n",
       "      <td>0.062528</td>\n",
       "      <td>323003.000000</td>\n",
       "    </tr>\n",
       "    <tr>\n",
       "      <th>75%</th>\n",
       "      <td>7.005782</td>\n",
       "      <td>0.099227</td>\n",
       "      <td>341632.000000</td>\n",
       "    </tr>\n",
       "    <tr>\n",
       "      <th>max</th>\n",
       "      <td>8.271429</td>\n",
       "      <td>0.308710</td>\n",
       "      <td>663328.000000</td>\n",
       "    </tr>\n",
       "  </tbody>\n",
       "</table>\n",
       "</div>"
      ],
      "text/plain": [
       "             gpa  highly_educ     avg_income\n",
       "count  97.000000    97.000000      97.000000\n",
       "mean    6.712182     0.084646  338204.659794\n",
       "std     0.531002     0.062595   61721.295533\n",
       "min     5.599481     0.024623  273927.000000\n",
       "25%     6.281505     0.045683  305855.000000\n",
       "50%     6.677767     0.062528  323003.000000\n",
       "75%     7.005782     0.099227  341632.000000\n",
       "max     8.271429     0.308710  663328.000000"
      ]
     },
     "execution_count": 251,
     "metadata": {},
     "output_type": "execute_result"
    }
   ],
   "source": [
    "merged.describe()"
   ]
  },
  {
   "cell_type": "markdown",
   "metadata": {},
   "source": [
    "The same command is done for the municipality data, which is smaller than the other. gpa though is very similar in nature, when its compared to the school data. Here we also get descriptive data on the variables highly_educ and avg_income. A histogram below is illustrated to see the distribution of the 3 variables in the municiaplity data. "
   ]
  },
  {
   "cell_type": "code",
   "execution_count": 32,
   "metadata": {},
   "outputs": [],
   "source": [
    "#define function that plots the data for each school\n",
    "def hist_municipality(dataset,variable):\n",
    "    sns.histplot(x=variable,data=dataset)"
   ]
  },
  {
   "cell_type": "code",
   "execution_count": 33,
   "metadata": {},
   "outputs": [
    {
     "data": {
      "application/vnd.jupyter.widget-view+json": {
       "model_id": "1adfdc37ebb4438e9d25714cd59f1646",
       "version_major": 2,
       "version_minor": 0
      },
      "text/plain": [
       "interactive(children=(Dropdown(description='Variable', options=('gpa', 'avg_income', 'highly_educ'), value='gp…"
      ]
     },
     "metadata": {},
     "output_type": "display_data"
    }
   ],
   "source": [
    "#create widget to make interactive plot\n",
    "widgets.interact(hist_municipality,\n",
    "                 dataset = widgets.fixed(merged),\n",
    "                 variable = widgets.Dropdown(description='Variable',  \n",
    "                                                 options = ['gpa','avg_income', 'highly_educ']));"
   ]
  },
  {
   "cell_type": "markdown",
   "metadata": {},
   "source": [
    "Here gpa is a litlle bit more narrow from the range of 6 to 7.5. Highly_educ and avg_income skews towards the left illustrating that a few observations differs a lot from the average observation."
   ]
  },
  {
   "cell_type": "markdown",
   "metadata": {},
   "source": [
    "## Heat map for the Danish Municipalities "
   ]
  },
  {
   "cell_type": "markdown",
   "metadata": {},
   "source": [
    "**To create the the heat map we import a shape file called KOM_MULTIPART**"
   ]
  },
  {
   "cell_type": "code",
   "execution_count": 34,
   "metadata": {},
   "outputs": [
    {
     "ename": "DriverError",
     "evalue": "KOM_MULTIPART.shp: No such file or directory",
     "output_type": "error",
     "traceback": [
      "\u001b[0;31m---------------------------------------------------------------------------\u001b[0m",
      "\u001b[0;31mCPLE_OpenFailedError\u001b[0m                      Traceback (most recent call last)",
      "\u001b[0;32mfiona/_shim.pyx\u001b[0m in \u001b[0;36mfiona._shim.gdal_open_vector\u001b[0;34m()\u001b[0m\n",
      "\u001b[0;32mfiona/_err.pyx\u001b[0m in \u001b[0;36mfiona._err.exc_wrap_pointer\u001b[0;34m()\u001b[0m\n",
      "\u001b[0;31mCPLE_OpenFailedError\u001b[0m: KOM_MULTIPART.shp: No such file or directory",
      "\nDuring handling of the above exception, another exception occurred:\n",
      "\u001b[0;31mDriverError\u001b[0m                               Traceback (most recent call last)",
      "\u001b[0;32m<ipython-input-34-e3e60be347fe>\u001b[0m in \u001b[0;36m<module>\u001b[0;34m\u001b[0m\n\u001b[1;32m      1\u001b[0m \u001b[0;31m#reading shp file with map data\u001b[0m\u001b[0;34m\u001b[0m\u001b[0;34m\u001b[0m\u001b[0;34m\u001b[0m\u001b[0m\n\u001b[0;32m----> 2\u001b[0;31m \u001b[0mmap_df\u001b[0m \u001b[0;34m=\u001b[0m \u001b[0mgpd\u001b[0m\u001b[0;34m.\u001b[0m\u001b[0mread_file\u001b[0m\u001b[0;34m(\u001b[0m\u001b[0;34m\"KOM_MULTIPART.shp\"\u001b[0m\u001b[0;34m)\u001b[0m\u001b[0;34m\u001b[0m\u001b[0;34m\u001b[0m\u001b[0m\n\u001b[0m\u001b[1;32m      3\u001b[0m \u001b[0mmerged_munis\u001b[0m \u001b[0;34m=\u001b[0m \u001b[0mmerged\u001b[0m\u001b[0;34m.\u001b[0m\u001b[0mmunicipality\u001b[0m\u001b[0;34m.\u001b[0m\u001b[0munique\u001b[0m\u001b[0;34m(\u001b[0m\u001b[0;34m)\u001b[0m \u001b[0;31m#finding unique municipalities in our data\u001b[0m\u001b[0;34m\u001b[0m\u001b[0;34m\u001b[0m\u001b[0m\n\u001b[1;32m      4\u001b[0m \u001b[0mmap_munis\u001b[0m \u001b[0;34m=\u001b[0m \u001b[0mmap_df\u001b[0m\u001b[0;34m.\u001b[0m\u001b[0mKOMNAVN\u001b[0m\u001b[0;34m.\u001b[0m\u001b[0munique\u001b[0m\u001b[0;34m(\u001b[0m\u001b[0;34m)\u001b[0m \u001b[0;31m#finding unique municipalities in the map data\u001b[0m\u001b[0;34m\u001b[0m\u001b[0;34m\u001b[0m\u001b[0m\n\u001b[1;32m      5\u001b[0m \u001b[0;34m\u001b[0m\u001b[0m\n",
      "\u001b[0;32m~/anaconda3/lib/python3.7/site-packages/geopandas/io/file.py\u001b[0m in \u001b[0;36m_read_file\u001b[0;34m(filename, bbox, mask, rows, **kwargs)\u001b[0m\n\u001b[1;32m    158\u001b[0m \u001b[0;34m\u001b[0m\u001b[0m\n\u001b[1;32m    159\u001b[0m     \u001b[0;32mwith\u001b[0m \u001b[0mfiona_env\u001b[0m\u001b[0;34m(\u001b[0m\u001b[0;34m)\u001b[0m\u001b[0;34m:\u001b[0m\u001b[0;34m\u001b[0m\u001b[0;34m\u001b[0m\u001b[0m\n\u001b[0;32m--> 160\u001b[0;31m         \u001b[0;32mwith\u001b[0m \u001b[0mreader\u001b[0m\u001b[0;34m(\u001b[0m\u001b[0mpath_or_bytes\u001b[0m\u001b[0;34m,\u001b[0m \u001b[0;34m**\u001b[0m\u001b[0mkwargs\u001b[0m\u001b[0;34m)\u001b[0m \u001b[0;32mas\u001b[0m \u001b[0mfeatures\u001b[0m\u001b[0;34m:\u001b[0m\u001b[0;34m\u001b[0m\u001b[0;34m\u001b[0m\u001b[0m\n\u001b[0m\u001b[1;32m    161\u001b[0m \u001b[0;34m\u001b[0m\u001b[0m\n\u001b[1;32m    162\u001b[0m             \u001b[0;31m# In a future Fiona release the crs attribute of features will\u001b[0m\u001b[0;34m\u001b[0m\u001b[0;34m\u001b[0m\u001b[0;34m\u001b[0m\u001b[0m\n",
      "\u001b[0;32m~/anaconda3/lib/python3.7/site-packages/fiona/env.py\u001b[0m in \u001b[0;36mwrapper\u001b[0;34m(*args, **kwargs)\u001b[0m\n\u001b[1;32m    406\u001b[0m     \u001b[0;32mdef\u001b[0m \u001b[0mwrapper\u001b[0m\u001b[0;34m(\u001b[0m\u001b[0;34m*\u001b[0m\u001b[0margs\u001b[0m\u001b[0;34m,\u001b[0m \u001b[0;34m**\u001b[0m\u001b[0mkwargs\u001b[0m\u001b[0;34m)\u001b[0m\u001b[0;34m:\u001b[0m\u001b[0;34m\u001b[0m\u001b[0;34m\u001b[0m\u001b[0m\n\u001b[1;32m    407\u001b[0m         \u001b[0;32mif\u001b[0m \u001b[0mlocal\u001b[0m\u001b[0;34m.\u001b[0m\u001b[0m_env\u001b[0m\u001b[0;34m:\u001b[0m\u001b[0;34m\u001b[0m\u001b[0;34m\u001b[0m\u001b[0m\n\u001b[0;32m--> 408\u001b[0;31m             \u001b[0;32mreturn\u001b[0m \u001b[0mf\u001b[0m\u001b[0;34m(\u001b[0m\u001b[0;34m*\u001b[0m\u001b[0margs\u001b[0m\u001b[0;34m,\u001b[0m \u001b[0;34m**\u001b[0m\u001b[0mkwargs\u001b[0m\u001b[0;34m)\u001b[0m\u001b[0;34m\u001b[0m\u001b[0;34m\u001b[0m\u001b[0m\n\u001b[0m\u001b[1;32m    409\u001b[0m         \u001b[0;32melse\u001b[0m\u001b[0;34m:\u001b[0m\u001b[0;34m\u001b[0m\u001b[0;34m\u001b[0m\u001b[0m\n\u001b[1;32m    410\u001b[0m             \u001b[0;32mif\u001b[0m \u001b[0misinstance\u001b[0m\u001b[0;34m(\u001b[0m\u001b[0margs\u001b[0m\u001b[0;34m[\u001b[0m\u001b[0;36m0\u001b[0m\u001b[0;34m]\u001b[0m\u001b[0;34m,\u001b[0m \u001b[0mstr\u001b[0m\u001b[0;34m)\u001b[0m\u001b[0;34m:\u001b[0m\u001b[0;34m\u001b[0m\u001b[0;34m\u001b[0m\u001b[0m\n",
      "\u001b[0;32m~/anaconda3/lib/python3.7/site-packages/fiona/__init__.py\u001b[0m in \u001b[0;36mopen\u001b[0;34m(fp, mode, driver, schema, crs, encoding, layer, vfs, enabled_drivers, crs_wkt, **kwargs)\u001b[0m\n\u001b[1;32m    255\u001b[0m         \u001b[0;32mif\u001b[0m \u001b[0mmode\u001b[0m \u001b[0;32min\u001b[0m \u001b[0;34m(\u001b[0m\u001b[0;34m'a'\u001b[0m\u001b[0;34m,\u001b[0m \u001b[0;34m'r'\u001b[0m\u001b[0;34m)\u001b[0m\u001b[0;34m:\u001b[0m\u001b[0;34m\u001b[0m\u001b[0;34m\u001b[0m\u001b[0m\n\u001b[1;32m    256\u001b[0m             c = Collection(path, mode, driver=driver, encoding=encoding,\n\u001b[0;32m--> 257\u001b[0;31m                            layer=layer, enabled_drivers=enabled_drivers, **kwargs)\n\u001b[0m\u001b[1;32m    258\u001b[0m         \u001b[0;32melif\u001b[0m \u001b[0mmode\u001b[0m \u001b[0;34m==\u001b[0m \u001b[0;34m'w'\u001b[0m\u001b[0;34m:\u001b[0m\u001b[0;34m\u001b[0m\u001b[0;34m\u001b[0m\u001b[0m\n\u001b[1;32m    259\u001b[0m             \u001b[0;32mif\u001b[0m \u001b[0mschema\u001b[0m\u001b[0;34m:\u001b[0m\u001b[0;34m\u001b[0m\u001b[0;34m\u001b[0m\u001b[0m\n",
      "\u001b[0;32m~/anaconda3/lib/python3.7/site-packages/fiona/collection.py\u001b[0m in \u001b[0;36m__init__\u001b[0;34m(self, path, mode, driver, schema, crs, encoding, layer, vsi, archive, enabled_drivers, crs_wkt, ignore_fields, ignore_geometry, **kwargs)\u001b[0m\n\u001b[1;32m    160\u001b[0m             \u001b[0;32mif\u001b[0m \u001b[0mself\u001b[0m\u001b[0;34m.\u001b[0m\u001b[0mmode\u001b[0m \u001b[0;34m==\u001b[0m \u001b[0;34m'r'\u001b[0m\u001b[0;34m:\u001b[0m\u001b[0;34m\u001b[0m\u001b[0;34m\u001b[0m\u001b[0m\n\u001b[1;32m    161\u001b[0m                 \u001b[0mself\u001b[0m\u001b[0;34m.\u001b[0m\u001b[0msession\u001b[0m \u001b[0;34m=\u001b[0m \u001b[0mSession\u001b[0m\u001b[0;34m(\u001b[0m\u001b[0;34m)\u001b[0m\u001b[0;34m\u001b[0m\u001b[0;34m\u001b[0m\u001b[0m\n\u001b[0;32m--> 162\u001b[0;31m                 \u001b[0mself\u001b[0m\u001b[0;34m.\u001b[0m\u001b[0msession\u001b[0m\u001b[0;34m.\u001b[0m\u001b[0mstart\u001b[0m\u001b[0;34m(\u001b[0m\u001b[0mself\u001b[0m\u001b[0;34m,\u001b[0m \u001b[0;34m**\u001b[0m\u001b[0mkwargs\u001b[0m\u001b[0;34m)\u001b[0m\u001b[0;34m\u001b[0m\u001b[0;34m\u001b[0m\u001b[0m\n\u001b[0m\u001b[1;32m    163\u001b[0m             \u001b[0;32melif\u001b[0m \u001b[0mself\u001b[0m\u001b[0;34m.\u001b[0m\u001b[0mmode\u001b[0m \u001b[0;32min\u001b[0m \u001b[0;34m(\u001b[0m\u001b[0;34m'a'\u001b[0m\u001b[0;34m,\u001b[0m \u001b[0;34m'w'\u001b[0m\u001b[0;34m)\u001b[0m\u001b[0;34m:\u001b[0m\u001b[0;34m\u001b[0m\u001b[0;34m\u001b[0m\u001b[0m\n\u001b[1;32m    164\u001b[0m                 \u001b[0mself\u001b[0m\u001b[0;34m.\u001b[0m\u001b[0msession\u001b[0m \u001b[0;34m=\u001b[0m \u001b[0mWritingSession\u001b[0m\u001b[0;34m(\u001b[0m\u001b[0;34m)\u001b[0m\u001b[0;34m\u001b[0m\u001b[0;34m\u001b[0m\u001b[0m\n",
      "\u001b[0;32mfiona/ogrext.pyx\u001b[0m in \u001b[0;36mfiona.ogrext.Session.start\u001b[0;34m()\u001b[0m\n",
      "\u001b[0;32mfiona/_shim.pyx\u001b[0m in \u001b[0;36mfiona._shim.gdal_open_vector\u001b[0;34m()\u001b[0m\n",
      "\u001b[0;31mDriverError\u001b[0m: KOM_MULTIPART.shp: No such file or directory"
     ]
    }
   ],
   "source": [
    "#reading shp file with map data\n",
    "map_df = gpd.read_file(\"KOM_MULTIPART.shp\")\n",
    "merged_munis = merged.municipality.unique() #finding unique municipalities in our data\n",
    "map_munis = map_df.KOMNAVN.unique() #finding unique municipalities in the map data\n",
    "\n",
    "# List of municipalities in merged_munis that are named different our map data and the opposite\n",
    "\n",
    "#finding the difference \n",
    "diff1 = [muni for muni in merged_munis if muni not in map_munis] \n",
    "diff2 = [muni for muni in map_munis if muni not in merged_munis] \n",
    "\n",
    "print(f'Municipalities in our merged data but named differently in the map data: {diff1}')\n",
    "print(f'Municipalities in our map data but named differently in merged data: {diff2}')"
   ]
  },
  {
   "cell_type": "code",
   "execution_count": null,
   "metadata": {},
   "outputs": [],
   "source": [
    "#creating a copy\n",
    "merged2 = merged.copy()\n",
    "\n",
    "# Changing municipality names so the files can merge\n",
    "merged2.loc[merged2.municipality=='Copenhagen', 'municipality'] = 'København'\n",
    "merged2.loc[merged2.municipality=='Høje-Taastrup', 'municipality'] = 'Høje Taastrup'\n",
    "\n",
    "#changing types on the variables\n",
    "merged2[\"highly_educ\"] = merged2[\"highly_educ\"].astype(str)\n",
    "merged2[\"gpa\"] = merged2[\"gpa\"].astype(str)\n",
    "merged2[\"avg_income\"] = merged2[\"avg_income\"].astype(str)\n",
    "\n",
    "#removing columns so we only keep municipality, lifespan and income columns \n",
    "merged_map2 = merged2[['municipality','gpa', 'highly_educ', 'avg_income']]\n",
    "\n",
    "#merging the map data with the dst data\n",
    "final_map = pd.merge(map_df, merged_map2, how='left', left_on='KOMNAVN', right_on='municipality')\n",
    "\n",
    "#Dropping missing values \n",
    "final_map = final_map.dropna()\n",
    "\n",
    "\n",
    "## The variables to be visualized\n",
    "VisVargpa = 'gpa'\n",
    "VisVarhigh = 'highly_educ'\n",
    "VisVarinc = 'avg_income'\n",
    "\n",
    "\n",
    "# set the colour range in the plot, the possible min and max values\n",
    "vminUNE, vmaxUNE = merged2['gpa'].min() , merged2['gpa'].max()\n",
    "vminFer, vmaxFer = merged2['avg_income'].min() , merged2['avg_income'].max()\n",
    "vminMer, vmaxMer = merged2['highly_educ'].min() , merged2['highly_educ'].max()\n",
    "\n",
    "\n",
    "######################################## Average GPA ##########################################\n",
    "\n",
    "\n",
    "# create figure, axes, size, remove whitespace and align the size of the figures in Matplotlib\n",
    "side_length = 10\n",
    "fig, (ax1, ax2) = plt.subplots(1, 2, figsize=(side_length * 2.1, side_length) , subplot_kw={'aspect': 1})\n",
    "fig.subplots_adjust(hspace=0.0, wspace=0.0)\n",
    "\n",
    "# removing axis from our map\n",
    "ax1.axis('off')\n",
    "ax2.axis('off')\n",
    "\n",
    "# add title and size of title\n",
    "ax1.set_title('Grade point average 2019', \\\n",
    "              fontdict={'fontsize': '25',\n",
    "                        'fontweight' : '3'})\n",
    "\n",
    "## create the actual plot\n",
    "ax1=final_map.plot(column=VisVargpa,  cmap='OrRd', ax=ax1, edgecolor='0.8')\n",
    "\n",
    "## mapping the colour scale\n",
    "sm = plt.cm.ScalarMappable(cmap='OrRd', norm=plt.Normalize(vmin=vminUNE, vmax=vmaxUNE))\n",
    "\n",
    "# Empty array\n",
    "sm._A = []\n",
    "\n",
    "# create colour bar\n",
    "cbar = fig.colorbar(sm)\n",
    "\n",
    "# colour bar title\n",
    "cbar.ax.set_title('gpa')\n",
    "\n",
    "#show plot\n",
    "plt.show()\n",
    "\n",
    "\n",
    "######################################## Average Income ##########################################\n",
    "\n",
    "\n",
    "# create figure, axes, size, remove whitespace and align the size of the figures in Matplotlib\n",
    "side_length = 10\n",
    "fig, (ax1, ax2) = plt.subplots(1, 2, figsize=(side_length * 2.1, side_length) , subplot_kw={'aspect': 1})\n",
    "fig.subplots_adjust(hspace=0.0, wspace=0.0)\n",
    "\n",
    "# removing axis from our map\n",
    "ax1.axis('off')\n",
    "ax2.axis('off')\n",
    "\n",
    "# add title and size of title\n",
    "ax1.set_title('Average Income 2019', \\\n",
    "              fontdict={'fontsize': '25',\n",
    "                        'fontweight' : '3'})\n",
    "\n",
    "## create the actual plot\n",
    "ax1=final_map.plot(column=VisVarinc,  cmap='OrRd', ax=ax1, edgecolor='0.8')\n",
    "\n",
    "## mapping the colour scale\n",
    "sm = plt.cm.ScalarMappable(cmap='OrRd', norm=plt.Normalize(vmin=vminFer, vmax=vmaxFer))\n",
    "\n",
    "# Empty array\n",
    "sm._A = []\n",
    "\n",
    "# create colour bar\n",
    "cbar = fig.colorbar(sm)\n",
    "\n",
    "# colour bar title\n",
    "cbar.ax.set_title('Average Income')\n",
    "\n",
    "#show plot\n",
    "plt.show()\n",
    "\n",
    "\n",
    "######################################## Share of highly educated ##########################################\n",
    "\n",
    "\n",
    "# create figure, axes, size, remove whitespace and align the size of the figures in Matplotlib\n",
    "side_length = 10\n",
    "fig, (ax1, ax2) = plt.subplots(1, 2, figsize=(side_length * 2.1, side_length) , subplot_kw={'aspect': 1})\n",
    "fig.subplots_adjust(hspace=0.0, wspace=0.0)\n",
    "\n",
    "# removing axis from our map\n",
    "ax1.axis('off')\n",
    "ax2.axis('off')\n",
    "\n",
    "# add title and size of title\n",
    "ax1.set_title('Share of highly educated 2019', \\\n",
    "              fontdict={'fontsize': '25',\n",
    "                        'fontweight' : '3'})\n",
    "\n",
    "## create the actual plot\n",
    "ax1=final_map.plot(column=VisVarhigh,  cmap='OrRd', ax=ax1, edgecolor='0.8')\n",
    "\n",
    "## mapping the colour scale\n",
    "sm = plt.cm.ScalarMappable(cmap='OrRd', norm=plt.Normalize(vmin=vminMer, vmax=vmaxMer))\n",
    "\n",
    "# Empty array\n",
    "sm._A = []\n",
    "\n",
    "# create colour bar\n",
    "cbar = fig.colorbar(sm)\n",
    "\n",
    "# colour bar title\n",
    "cbar.ax.set_title('Percentage')\n",
    "\n",
    "#show plot\n",
    "plt.show()"
   ]
  },
  {
   "cell_type": "markdown",
   "metadata": {},
   "source": [
    "If we look at the three different heat maps we can se that there is a overall tendency for the municipalities in North Sealand and Central Jutland to score highest on gpa, educational level and income level. "
   ]
  },
  {
   "cell_type": "markdown",
   "metadata": {},
   "source": [
    "## Correlation"
   ]
  },
  {
   "cell_type": "markdown",
   "metadata": {},
   "source": [
    "### School data"
   ]
  },
  {
   "cell_type": "code",
   "execution_count": 35,
   "metadata": {},
   "outputs": [],
   "source": [
    "#define function that plots the data for each school\n",
    "def plot_school(dataset,variable):\n",
    "    ax = sns.regplot(y=variable, x=\"gpa\",data=dataset, scatter_kws={\"s\": 30}, line_kws={\"color\": \"black\"})\n",
    "    plt.title(\"Scatterplot\")\n",
    "    plt.xlabel(\"gpa\")\n",
    "    plt.ylabel(variable)"
   ]
  },
  {
   "cell_type": "code",
   "execution_count": 36,
   "metadata": {},
   "outputs": [
    {
     "data": {
      "application/vnd.jupyter.widget-view+json": {
       "model_id": "4ebc7b82126e458e87cc851760b0bb26",
       "version_major": 2,
       "version_minor": 0
      },
      "text/plain": [
       "interactive(children=(Dropdown(description='Variable', options=('socioeconomic', 'well-being', 'absence', 'cla…"
      ]
     },
     "metadata": {},
     "output_type": "display_data"
    }
   ],
   "source": [
    "#create widget to make interactive plot\n",
    "widgets.interact(plot_school,\n",
    "                 dataset = widgets.fixed(school_final),\n",
    "                 variable = widgets.Dropdown(description='Variable',  \n",
    "                                                 options = ['socioeconomic', 'well-being','absence', 'class']));"
   ]
  },
  {
   "cell_type": "code",
   "execution_count": 37,
   "metadata": {},
   "outputs": [
    {
     "data": {
      "text/html": [
       "<div>\n",
       "<style scoped>\n",
       "    .dataframe tbody tr th:only-of-type {\n",
       "        vertical-align: middle;\n",
       "    }\n",
       "\n",
       "    .dataframe tbody tr th {\n",
       "        vertical-align: top;\n",
       "    }\n",
       "\n",
       "    .dataframe thead th {\n",
       "        text-align: right;\n",
       "    }\n",
       "</style>\n",
       "<table border=\"1\" class=\"dataframe\">\n",
       "  <thead>\n",
       "    <tr style=\"text-align: right;\">\n",
       "      <th></th>\n",
       "      <th>gpa</th>\n",
       "      <th>highly_educ</th>\n",
       "      <th>avg_income</th>\n",
       "    </tr>\n",
       "  </thead>\n",
       "  <tbody>\n",
       "    <tr>\n",
       "      <th>gpa</th>\n",
       "      <td>1.000000</td>\n",
       "      <td>0.752722</td>\n",
       "      <td>0.725455</td>\n",
       "    </tr>\n",
       "    <tr>\n",
       "      <th>highly_educ</th>\n",
       "      <td>0.752722</td>\n",
       "      <td>1.000000</td>\n",
       "      <td>0.837166</td>\n",
       "    </tr>\n",
       "    <tr>\n",
       "      <th>avg_income</th>\n",
       "      <td>0.725455</td>\n",
       "      <td>0.837166</td>\n",
       "      <td>1.000000</td>\n",
       "    </tr>\n",
       "  </tbody>\n",
       "</table>\n",
       "</div>"
      ],
      "text/plain": [
       "                  gpa  highly_educ  avg_income\n",
       "gpa          1.000000     0.752722    0.725455\n",
       "highly_educ  0.752722     1.000000    0.837166\n",
       "avg_income   0.725455     0.837166    1.000000"
      ]
     },
     "execution_count": 37,
     "metadata": {},
     "output_type": "execute_result"
    }
   ],
   "source": [
    "merged.head(5)\n",
    "merged.corr(method=\"pearson\")"
   ]
  },
  {
   "cell_type": "markdown",
   "metadata": {},
   "source": [
    "**Comments**"
   ]
  },
  {
   "cell_type": "markdown",
   "metadata": {},
   "source": [
    "**Comments**"
   ]
  },
  {
   "cell_type": "markdown",
   "metadata": {},
   "source": [
    "### Municipality data"
   ]
  },
  {
   "cell_type": "markdown",
   "metadata": {},
   "source": [
    "Correlation between income and gpa, educ and gpa and well-being"
   ]
  },
  {
   "cell_type": "code",
   "execution_count": 38,
   "metadata": {},
   "outputs": [],
   "source": [
    "#define function that plots the data for each school\n",
    "def plot_kommune(dataset,variable):\n",
    "    ax = sns.regplot(y=variable, x=\"gpa\",data=dataset, scatter_kws={\"s\": 30}, line_kws={\"color\": \"black\"})\n",
    "    plt.title(\"Scatterplot\")\n",
    "    plt.xlabel(\"gpa\")\n",
    "    plt.ylabel(variable)"
   ]
  },
  {
   "cell_type": "code",
   "execution_count": 39,
   "metadata": {},
   "outputs": [
    {
     "data": {
      "application/vnd.jupyter.widget-view+json": {
       "model_id": "1001e4aba72c4161b64eeffc7fecd8b5",
       "version_major": 2,
       "version_minor": 0
      },
      "text/plain": [
       "interactive(children=(Dropdown(description='Variable', options=('avg_income', 'highly_educ'), value='avg_incom…"
      ]
     },
     "metadata": {},
     "output_type": "display_data"
    }
   ],
   "source": [
    "#create widget to make interactive plot\n",
    "widgets.interact(plot_kommune,\n",
    "                 dataset = widgets.fixed(merged),\n",
    "                 variable = widgets.Dropdown(description='Variable',  \n",
    "                                                 options = ['avg_income', 'highly_educ']));"
   ]
  },
  {
   "cell_type": "code",
   "execution_count": 40,
   "metadata": {},
   "outputs": [
    {
     "data": {
      "text/html": [
       "<div>\n",
       "<style scoped>\n",
       "    .dataframe tbody tr th:only-of-type {\n",
       "        vertical-align: middle;\n",
       "    }\n",
       "\n",
       "    .dataframe tbody tr th {\n",
       "        vertical-align: top;\n",
       "    }\n",
       "\n",
       "    .dataframe thead th {\n",
       "        text-align: right;\n",
       "    }\n",
       "</style>\n",
       "<table border=\"1\" class=\"dataframe\">\n",
       "  <thead>\n",
       "    <tr style=\"text-align: right;\">\n",
       "      <th></th>\n",
       "      <th>gpa</th>\n",
       "      <th>socioeconomic</th>\n",
       "      <th>well-being</th>\n",
       "      <th>absence</th>\n",
       "      <th>students_per_class</th>\n",
       "    </tr>\n",
       "  </thead>\n",
       "  <tbody>\n",
       "    <tr>\n",
       "      <th>gpa</th>\n",
       "      <td>1.000000</td>\n",
       "      <td>0.928562</td>\n",
       "      <td>0.487899</td>\n",
       "      <td>-0.440570</td>\n",
       "      <td>0.256583</td>\n",
       "    </tr>\n",
       "    <tr>\n",
       "      <th>socioeconomic</th>\n",
       "      <td>0.928562</td>\n",
       "      <td>1.000000</td>\n",
       "      <td>0.467990</td>\n",
       "      <td>-0.392974</td>\n",
       "      <td>0.277938</td>\n",
       "    </tr>\n",
       "    <tr>\n",
       "      <th>well-being</th>\n",
       "      <td>0.487899</td>\n",
       "      <td>0.467990</td>\n",
       "      <td>1.000000</td>\n",
       "      <td>-0.350038</td>\n",
       "      <td>0.034621</td>\n",
       "    </tr>\n",
       "    <tr>\n",
       "      <th>absence</th>\n",
       "      <td>-0.440570</td>\n",
       "      <td>-0.392974</td>\n",
       "      <td>-0.350038</td>\n",
       "      <td>1.000000</td>\n",
       "      <td>0.114956</td>\n",
       "    </tr>\n",
       "    <tr>\n",
       "      <th>students_per_class</th>\n",
       "      <td>0.256583</td>\n",
       "      <td>0.277938</td>\n",
       "      <td>0.034621</td>\n",
       "      <td>0.114956</td>\n",
       "      <td>1.000000</td>\n",
       "    </tr>\n",
       "  </tbody>\n",
       "</table>\n",
       "</div>"
      ],
      "text/plain": [
       "                         gpa  socioeconomic  well-being   absence  \\\n",
       "gpa                 1.000000       0.928562    0.487899 -0.440570   \n",
       "socioeconomic       0.928562       1.000000    0.467990 -0.392974   \n",
       "well-being          0.487899       0.467990    1.000000 -0.350038   \n",
       "absence            -0.440570      -0.392974   -0.350038  1.000000   \n",
       "students_per_class  0.256583       0.277938    0.034621  0.114956   \n",
       "\n",
       "                    students_per_class  \n",
       "gpa                           0.256583  \n",
       "socioeconomic                 0.277938  \n",
       "well-being                    0.034621  \n",
       "absence                       0.114956  \n",
       "students_per_class            1.000000  "
      ]
     },
     "execution_count": 40,
     "metadata": {},
     "output_type": "execute_result"
    }
   ],
   "source": [
    "school_final.corr(method=\"pearson\")"
   ]
  },
  {
   "cell_type": "markdown",
   "metadata": {},
   "source": [
    "**Comments**"
   ]
  },
  {
   "cell_type": "markdown",
   "metadata": {},
   "source": [
    "# Conclusion"
   ]
  },
  {
   "cell_type": "markdown",
   "metadata": {},
   "source": [
    "In this project we have used data from two sources giving us three different dataframes. To make it more appropriate for analysis we have cleaned and merged the data into 2 dataframes. We have then made some descriptive statistics and visualisation to illustrate our point. The heatmap reveals that municipalities with the highest average gpa tend to be close to each other. This also applies to municipalities, where the average gpa is low. The correlation is strong for the municipality data. For the school data, it seems that socioeconomic factors has an effect on the gpa, while absence affect gpa and every other variable except students_per_class in a negative way. "
   ]
  }
 ],
 "metadata": {
  "kernelspec": {
   "display_name": "Python 3",
   "language": "python",
   "name": "python3"
  },
  "language_info": {
   "codemirror_mode": {
    "name": "ipython",
    "version": 3
   },
   "file_extension": ".py",
   "mimetype": "text/x-python",
   "name": "python",
   "nbconvert_exporter": "python",
   "pygments_lexer": "ipython3",
   "version": "3.7.3"
  },
  "toc-autonumbering": true
 },
 "nbformat": 4,
 "nbformat_minor": 4
}
